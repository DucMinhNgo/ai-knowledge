{
 "cells": [
  {
   "attachments": {},
   "cell_type": "markdown",
   "metadata": {},
   "source": [
    "# Các khái niệm cơ bản, cây quyết định, đánh giá mô hình.\n",
    "- Phân cụm (học không giám sát):\n",
    "- Phân lớp (học có giám sát):\n",
    "  + Mô hình phân lớp gồm 2 giai đoạn:\n",
    "    - Mô tả (description): dùng phương pháp induction (quy nạp): (Riêng -> Chung) Có hai loại quy nạp:\n",
    "      + Quy nạp hoàn toàn (kiếm tra trên toàn bộ tập dữ liệu).\n",
    "      + Quy nạp không hoàn toàn (dùng một số mẫu ngẫu nhiên kết luận cho toàn bộ dữ liệu).\n",
    "    - Phương pháp qui diễn (Abduction: tương tự).\n",
    "    - Dự đoán (predict): dùng phương pháp deduction (suy diễn - diễn dịch): (Chung -> Riêng).\n",
    "\n",
    "# Đọc 6 phương pháp mạng neural:\n",
    "- XAI: thường đưa về cây quyết định để giải thích được rõ ràng hơn.\n",
    "- Cây quyết định:\n",
    "  + Dữ liệu -> cây -> luật -> dự đoán.\n",
    "  + Cây nào đơn giản nhất là cây tốt nhất.\n",
    "  + Mô hình nào đơn giản nhất là tốt nhất.\n",
    "  + Công thức đo độ hỗn loạn của thông tin entropy (disorder).\n",
    "\n",
    "- Các độ đo không thuần nhất:\n",
    "  + gini.\n",
    "  + entropy.\n",
    "  + phân lớp sai.\n",
    "\n",
    "- ILA: Induction learning algorithm.\n"
   ]
  },
  {
   "attachments": {},
   "cell_type": "markdown",
   "metadata": {},
   "source": [
    "# Thuật toán KNN\n",
    "- tìm những kết quả gần giống với dữ liệu đưa vào và chọn dữ liệu có xác suất lớn hơn."
   ]
  },
  {
   "attachments": {},
   "cell_type": "markdown",
   "metadata": {},
   "source": [
    "# Naive Bayes\n",
    "- Chuẩn hóa dữ liệu để tổng xác suất luôn bằng 1.\n",
    "- Phép sửa lỗi laplace: (cộng tử và mẫu cho một số nào đó để tránh trường hợp đưa về giá trị 0).\n"
   ]
  }
 ],
 "metadata": {
  "language_info": {
   "name": "python"
  },
  "orig_nbformat": 4
 },
 "nbformat": 4,
 "nbformat_minor": 2
}
