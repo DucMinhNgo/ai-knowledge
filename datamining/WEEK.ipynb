{
 "cells": [
  {
   "attachments": {},
   "cell_type": "markdown",
   "metadata": {},
   "source": [
    "Cluster validity: \n",
    "\n",
    "- Đánh giá:\n",
    "- Độ đo bên ngoài:\n",
    "- entropy: độ hỗn loạn.\n",
    "- purity: độ thuần nhất."
   ]
  },
  {
   "attachments": {},
   "cell_type": "markdown",
   "metadata": {},
   "source": [
    "Khai thác web, web mining là gì.\n",
    "- Khai thác nội dung.\n",
    "- Khai thác hành vi sử dụng.\n",
    "- Khai thác nội dung của trang web.\n",
    "\n",
    "Các nguồn dữ liệu wen lọ."
   ]
  },
  {
   "attachments": {},
   "cell_type": "markdown",
   "metadata": {},
   "source": [
    "Khai thác mẫu tuần tự phổ biến.\n"
   ]
  },
  {
   "attachments": {},
   "cell_type": "markdown",
   "metadata": {},
   "source": [
    "online thì nộp sau."
   ]
  }
 ],
 "metadata": {
  "language_info": {
   "name": "python"
  },
  "orig_nbformat": 4
 },
 "nbformat": 4,
 "nbformat_minor": 2
}
