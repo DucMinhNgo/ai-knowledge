{
 "cells": [
  {
   "attachments": {},
   "cell_type": "markdown",
   "metadata": {},
   "source": [
    "# Tập phổ biến\n",
    "- Tập phổ tối đại (M) < tập phổ biến đóng (C) < tập phổ biến (F).\n",
    "- Tập phổ biến tối đại là tập nhỏ nhất có thể sinh ra tất cả các tập còn lại.\n",
    "- Tập support.\n",
    "- Quy tắc Apriori, tính sup.\n",
    "- Thuật toán Eclat nhanh hơn Apripori: cấu trúc IT-tree và các lớp tương đương, làm việc với tidset: tập danh sách các giao dịch (Thuật toán dEclat).\n",
    "- Thuật toán Charm: bốn tính chất của tập đóng dCharm.\n",
    "- Thuật toán genMax: tập tối đại dgenMax.\n",
    "- Giới thiệu diffset (tập dữ liệu): hiệu của hai tập Tedset để cải thiện Tidset.\n",
    "- Dữ liệu thưa (tidset) và dữ liệu dày đặc (diffset).\n",
    "- Bài toán EI, Gain(A): tổng giá trị tất cả các sản phẩm mà A có mặt trong đó.\n",
    "- Thuật toán META.\n",
    "- "
   ]
  },
  {
   "attachments": {},
   "cell_type": "markdown",
   "metadata": {},
   "source": [
    "# Thuật toán tìm itemset hữu ích cao từ cơ sở dữ liệu\n",
    "- High Utility Itemsets.\n",
    "- TWU: tổng số của hóa đơn.\n",
    "- "
   ]
  }
 ],
 "metadata": {
  "language_info": {
   "name": "python"
  },
  "orig_nbformat": 4
 },
 "nbformat": 4,
 "nbformat_minor": 2
}
