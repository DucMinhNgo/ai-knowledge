{
 "cells": [
  {
   "attachments": {},
   "cell_type": "markdown",
   "metadata": {},
   "source": [
    "# Phân tích cụm (Clustering Analysis)\n",
    "- Sau khi phân cụm xong mới biết có bao nhiêu cụm.\n",
    "- Khoảng cách:\n",
    "  - Minkowski:\n",
    "  - Manhattan:\n",
    "\n",
    "- 1. Thuật toán phân hoạch phải có k trước.\n",
    "  + K-means: Lấy mean của điểm dữ liệu.\n",
    "  + K-medoids: Tâm luôn là điểm dữ liệu.\n",
    "- Phân biệt cách dùng k-mean và k-medoids: Tùy thuộc là thuộc tính của tâm cần lấy.\n",
    "\n",
    "- 2. Phương pháp phân cấp:\n",
    "  + Hai loại phân cấp chính:\n",
    "    - Tích tụ (agglomerative): thuật toán AGNES (single link (khoảng cách min), complete link(khoảng cách min)):\n",
    "    - Phân rã (divisive): thuật toán DIANA (điểm nào có khoảng cách max thì tách ra).\n",
    "    - Đưa ra cách xác định khoảng cách giữ các cụm.\n",
    "\n",
    "- 3. Phương pháp mật độ:\n",
    "  + Phương pháp tĩnh.\n",
    "    + Điểm lõi (điểm nằm trong lân cận của điểm lõi là điểm đạt được mật độ trực tiếp)\n",
    "    + Điểm biên\n",
    "    + Điểm nhiễu\n",
    "    + DBSCAN: (OPTICS: mở rộng của DBSCAN)\n",
    "  + Phương pháp động.\n",
    "\n",
    "- Google dùng phương pháp nào để search engine (để tăng tốc độ tìm kiếm thông tin)."
   ]
  }
 ],
 "metadata": {
  "language_info": {
   "name": "python"
  },
  "orig_nbformat": 4
 },
 "nbformat": 4,
 "nbformat_minor": 2
}
