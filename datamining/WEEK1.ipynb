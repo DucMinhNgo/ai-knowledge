{
 "cells": [
  {
   "attachments": {},
   "cell_type": "markdown",
   "metadata": {},
   "source": [
    "# Mining of Massive Data (quá trình đi tìm dữ liệu), Database (kiếm dữ liệu).\n",
    "- Data Lake\n",
    "- Data warehouse: \n",
    "  + Phân biệt datawarehouse và database: datawarehouse dữ liệu chưa được xử lý, là sự pha trọn nhiều loại dữ liệu.\n",
    "- Data Mining: Data -> mining -> value.\n",
    "- Big data: dữ liệu lớn và phức tạp vượt qua xử lý của kỹ thuật IT.\n",
    "- DataFarming: dữ liệu nhân tạo, canh tác dữ liệu.\n",
    "- Knowledge Discovery of Database (KDD).\n",
    "- Knowledge Discovery of Datamining (KDD).\n",
    "\n",
    "- Phương pháp:\n",
    "  + Nhận dạng mẫu\n",
    "  + Thống kê\n",
    "  + Toán học\n",
    "\n",
    "- Chức năng:\n",
    "  + Dự đoán\n",
    "  + Mô tả\n",
    "\n",
    "- Web mining là lĩnh vực phát triển nhất.\n",
    "- Dữ liệu (rời rạc) -> kiến thức, tri thức (đặc trưng) -> kiến thức (liên kết được các đặc trưng) -> trí tuệ wisdom (trí tuệ + kinh nghiệm)."
   ]
  },
  {
   "attachments": {},
   "cell_type": "markdown",
   "metadata": {},
   "source": [
    "- Một bài kiểm tra giữa kì.\n",
    "- Cuối khóa làm đồ án (1-2 người)."
   ]
  }
 ],
 "metadata": {
  "language_info": {
   "name": "python"
  },
  "orig_nbformat": 4
 },
 "nbformat": 4,
 "nbformat_minor": 2
}
