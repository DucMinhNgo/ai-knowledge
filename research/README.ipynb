{
 "cells": [
  {
   "attachments": {},
   "cell_type": "markdown",
   "metadata": {},
   "source": [
    "# Tìm kiếm tài liệu nghiên cứu khóa học\n",
    "\n",
    "# Link hội nghị\n",
    "https://github.com/Lionelsy/Conference-Accepted-Paper-List"
   ]
  },
  {
   "attachments": {},
   "cell_type": "markdown",
   "metadata": {},
   "source": [
    "# Tham Khảo\n",
    "http://lib.uet.vnu.edu.vn/bitstream/123456789/1177/1/Thesis_NguyenVanDat_18025024_KHMT.pdf\n",
    "\n",
    "=> Áp dụng để làm hệ thống gợi ý văn bản."
   ]
  },
  {
   "attachments": {},
   "cell_type": "markdown",
   "metadata": {},
   "source": [
    "# Tổng quan về hệ thống gợi ý\n",
    "https://viblo.asia/p/gioi-thieu-ve-he-thong-goi-y-recommender-systems-hoac-recommendation-systems-1Je5EALG5nL\n",
    "- Hệ thống gọi ý (Recommender systems hoặc Recommendation systems): Là một dạng của hệ thống hỗ trợ quyết định. Cung cấp mang tính cá nhân hóa, không thể trải qua quá trình tìm kiếm phức tạp. Gợi ý học từ người dùng, gợi ý các sản phẩm tốt nhất trong các sản phẩm phù hợp.\n",
    "\n",
    "- Các website thương mại điện tử như sách phim, báo, nhạc. Sử dụng hệ thống gọi ý để cung cấp thông tin giúp cho người sử dụng quyết định lựa chọn sản phẩm nào. Các sản phẩm được gợi ý dựa trên số lượng sản phẩm đó đã được bán. Dựa trên các thông tin cá nhân của người sử dụng. Phân tích hành vi mua hàng của người đó đồng thời dự đoán hành vi mua hàng trong tương lai. Các dạng gợi ý bao gồm: \n",
    "+ Gợi ý các sản phẩm tới người tiêu dùng.\n",
    "+ Thông tin sản phẩm mang tính các nhân hóa.\n",
    "+ Tổng kết các ý kiến cộng đồng.\n",
    "+ Cung cấp các chia sẻ, phê bình, đánh giá mang tính liên quan đến cộng đồng liên quan tới yêu cầu, mục đích của người sử dụng đó.\n",
    "\n",
    "- Ví dụ như hệ thống gọi ý văn bản lọc thông tin từ: NewsWeeder sử dụng những từ của văn bản như các đặc điểm."
   ]
  },
  {
   "attachments": {},
   "cell_type": "markdown",
   "metadata": {},
   "source": [
    "https://viblo.asia/p/lam-the-nao-de-xay-dung-mot-recommender-system-rs-phan-1-aWj53V2Gl6m\n",
    "# Làm thế nào để xây dựng 1 hệ thống recommender system (RS):\n",
    "- FB Kết bạn gọi ý những người thân xung quanh.\n",
    "- Tìm quần bò. Sau đó một loạt các sản phẩm liên quan đến thời trang nam đc gọi ý cho bạn là: balo, túi xách, thắt lưng: Sau 1 hồi mình bị cuốn theo những sản phẩm kia mà quên luôn mục đích ban đầu.\n",
    "- Gợi ý những bản nhạc có cùng thể loại.\n",
    "\n",
    "=> Tất cả những điều bạn vừa thấy đều có những điểm chung đó là hệ thống chũng ta có khả năng tìm kiếm và gọi ý đến những thứ chúng ta thích mà chưa nghĩ đến. Hoặc chưa buết đến nó trong thời điểm hiện tại. Đó chính là công việc của hệ thống gọi ý: Một trong những bài toán khá hay áp dụng trong lĩnh vực trí tuệ nhân tạo.\n",
    "\n",
    "# Hệ thống gọi ý là gì:\n",
    "- Xem hệ thống gợi ý giống như một người mai mối. Dựa trên sở thích và tìm những đối tượng tiềm năng phì hợp với những sở thích đó.\n",
    "- Khi mua 1 sản phẩm hệ thống sẽ gọi ý thêm những sản phẩm tương tự mà bạn có thể thích mua (Amazon):\n",
    "  + Quan tâm đến việc khách hàng yêu thích sản phẩm dựa trên dữ liệu trên quá khứ của họ như điểm đánh giá trên từng sản phẩm, thời gian duyệt qua sản phẩm, số lầm Click vào sản phẩm.\n",
    "  + Từ đó có thể dự đoán được người dùng sẽ thích những sản nào khác và đưa ra gợi ý phù hợp cho họ.\n",
    "\n",
    "\n",
    "# Các thành phần cơ bản của một hệ thống gọi ý:\n",
    "- Thứ nhất: Người dùng\n",
    "- Thứ hai: Chúng ta cần quan tâm đến các mục tin (items) các mục tin này cso thể là các sản phẩm trên các trang bán hàng, các bài hát trên các trang nghe nhạc\n",
    "- Thứ ba: phản hồi (feedback): Nó có thể là điểm đánh giá, là chỉ số thể hiện sự quan tâm của user lên item đó... Đơn giản là vì chúng ta phải định lượng đc các đại lượng này thì mới có thể có cơ sở gọi ý cho người dùng.\n",
    "\n",
    "# Biểu diễn thông tin ma trận Users, Items (Sử dụng matrix để hiển thị độ thích của user đối với từng mặt hàng).\n",
    "\n",
    "# Phân loại hệ thống gọi ý:\n",
    "  - Hệ thống gọi ý dựa trên nội dung - Content based recommender systems: hệ thống sẽ quan tâm đến nội dụng, đặc điểm, mục tin hiện tại và sau đó gợi ý và sau đó sẽ gợi ý cho người dùng những mục tin tương tự.\n",
    "\n",
    "  - Hệ thống gợi ý dựa trên các user - lọc cộng tác - Collaborative filtering recommender systems: Tức hệ thống sẽ phân tách các user có cùng đánh giá, dùng mua mục tin hiện tại. Sau đó tìm ra mục tin khác cũng đánh giá bởi các users này xếp hạng và gợi ý cho người dùng. Tư tưởng của phương pháp này dựa trên sự tương đồng về sở thích của người dùng để đưa ra các gợi ý.\n",
    "\n",
    "  => Phương pháp lọc cộng tác thường được sử dụng phổ biến hơn để xây dựng các hệ thống gọi ý.\n",
    "\n",
    "# Những bước cần để xây dựng hệ thống tương tác lọc gợi ý.\n",
    "  - Thu thập dữ liệu: rating của user. Một vài chỉ số có thể được dùng trong rating như:\n",
    "    + Số lần Click chuột vào item.\n",
    "    + Thời gian trung bình thao tác với item.\n",
    "  - Chuẩn hóa dữ liệu:\n",
    "  - Chạy mô hình lọc ra N item phù hợp\n",
    "  - Đánh giá mô hình\n",
    "Lưu ý:\n",
    "  - Cần bổ sung luật chọn ra N item phù hợp hơn với từng user.\n",
    "  - Không cho phép hiển thị những sản phẩm đã mua trong danh sách gợi ý.\n",
    "  - Cần một kế hoạch cập nhật lại mô hình thông qua tập sữ liệu mới sinh ra hàng ngày.\n",
    "\n",
    "# Những hướng tiếp cận:\n",
    "  - Content-based\n",
    "  - Collaborative Filtering cũng như phân tích ưu nhược điểm của chúng.\n",
    "\n",
    "# Xây dựng hệ thống đơn giản sử dụng phương pháp lọc cộng tác:\n",
    "  - Lọc cộng tác dựa trên người dùng - User based approach\n",
    "  - Lọc tương tác dựa trên sản phẩm - Item based approach\n",
    "\n",
    "Dựa trên lý thuyết về sự đồng sở thích của những người khác nhau.\n",
    "\n",
    "# Tính toán độ tương tự:\n",
    "  - Rõ ràng chúng ta không thể xem xét độ tương tác dự trên cảm tính được.\n",
    "  - Dựa trên khoảng cách:\n",
    "    + Khoảng cách càng nhỏ => càng gần nhau => độ tương tác càng lớn.\n",
    "    + Khoảng cách càng lớn => độ tương tác càng nhở.\n",
    "\n",
    "# Khoảng cách Ơ-clit và Minkowski:\n",
    " - Minkowski tổng quát hóa khoảng cách trong không gian n chiều.\n",
    "# Khoảng cách Cosin của hai vector\n",
    "\n",
    "# Xây dựng hệ thống recommender system đơn giản với python\n"
   ]
  }
 ],
 "metadata": {
  "kernelspec": {
   "display_name": "Python 3",
   "language": "python",
   "name": "python3"
  },
  "language_info": {
   "name": "python",
   "version": "3.10.9 (main, Dec 15 2022, 10:44:50) [Clang 14.0.0 (clang-1400.0.29.202)]"
  },
  "orig_nbformat": 4,
  "vscode": {
   "interpreter": {
    "hash": "b0fa6594d8f4cbf19f97940f81e996739fb7646882a419484c72d19e05852a7e"
   }
  }
 },
 "nbformat": 4,
 "nbformat_minor": 2
}
