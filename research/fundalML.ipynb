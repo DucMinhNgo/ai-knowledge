{
 "cells": [
  {
   "cell_type": "markdown",
   "metadata": {},
   "source": [
    "# Làm việc với mảng ngẫu nhiên\n",
    "- Mảng ngẫu nhiên các số tuân theo phân bố đều\n",
    "- numpy.random.rand: là một mảng ngẫu nhiên mà mỗi phần tử là một số ngẫu nhiên có phân bố đều"
   ]
  },
  {
   "cell_type": "markdown",
   "metadata": {},
   "source": [
    "# Numpy\n",
    "1.1) Khai báo vector được hiểu như mảng 1 chiều\n",
    "1.7) Norm 1: được định nghĩa bới giá trị tuyệt đối của tổng tất cả các phần tử trong vector\n",
    "1.8) Hàm softmax trong mảng 1 chiều: là một trong những thuật toán được sử dụng nhiều nhất trong các bài toán classification: a[i] = e^(z[i])/ Sum(Z[i]): các phần tử của hàm softmax đều nằm trong khoảng (0, 1) và có tổng = 1, vì vậy a còn được gọi là vector xác suất.\n",
    "1.9) Norm 2: tích vô hướng của hai vectors, (căn của tổng bình phương tất cả các phần tử)\n",
    "\n"
   ]
  },
  {
   "cell_type": "code",
   "execution_count": 52,
   "metadata": {},
   "outputs": [
    {
     "data": {
      "text/plain": [
       "array([2.85, 2.85, 2.85, 2.85, 2.85, 2.85, 2.85, 2.85, 2.85, 2.85])"
      ]
     },
     "execution_count": 52,
     "metadata": {},
     "output_type": "execute_result"
    }
   ],
   "source": [
    "import numpy as np\n",
    "x = np.array([1, 2, 3])\n",
    "x\n",
    "\n",
    "# TODO\n",
    "x= np.array([1, 2, 3, 4, 5, 6, 7, 8, 9, 10])\n",
    "x\n",
    "# -- end TODO --\n",
    "a = np.array([1.0, 2.0])\n",
    "a\n",
    "type(a[0])\n",
    "\n",
    "# Khởi tạo mảng 1 chiều đặc biệt\n",
    "# Mảng chỉ gồm giá trị 0\n",
    "zeros = np.zeros(5)\n",
    "zeros\n",
    "\n",
    "# Mảng chỉ gồm giá trị 1\n",
    "ones = np.ones(6)\n",
    "ones\n",
    "\n",
    "# Tạo mảng 0, 1 có cùng chiều dài (zeros_like, ones_like)\n",
    "zeros_like = np.zeros_like(ones)\n",
    "zeros_like\n",
    "\n",
    "# Cấp số cộng\n",
    "a = np.arange(3, 6, 0.1)\n",
    "a\n",
    "\n",
    "# Xây dựng 1 mảng lũy thừa của 2 nhỏ hơn 1025 bao gồm 1 = 2**0\n",
    "n = 0\n",
    "while (2**n <1025):\n",
    "    n += 1\n",
    "2**np.arange(0, n, 1)\n",
    "\n",
    "# Xây dựng mảng 10 phần tử, trong đó 9 phần tử đầu = 3 phần tử cuối = 1.5\n",
    "n = 10\n",
    "a = 3 + np.zeros(n)\n",
    "a[n-1] = 1.5\n",
    "mean = np.mean(a)\n",
    "for i in range(a.shape[0]):\n",
    "    a[i] = mean\n",
    "a\n"
   ]
  },
  {
   "cell_type": "code",
   "execution_count": 53,
   "metadata": {},
   "outputs": [
    {
     "data": {
      "text/plain": [
       "5"
      ]
     },
     "execution_count": 53,
     "metadata": {},
     "output_type": "execute_result"
    }
   ],
   "source": [
    "# Truy vấn mảng 1 chiều\n",
    "import numpy as np\n",
    "x = np.array([3, 4, 5])\n",
    "x[-1]"
   ]
  },
  {
   "cell_type": "code",
   "execution_count": 80,
   "metadata": {},
   "outputs": [
    {
     "data": {
      "text/plain": [
       "array([ 2. , -1. ,  1.5, -1. ])"
      ]
     },
     "execution_count": 80,
     "metadata": {},
     "output_type": "execute_result"
    }
   ],
   "source": [
    "# Truy cập nhiều phần tử trong mảng 1 chiều\n",
    "a = 0.5*np.arange(10)\n",
    "ids = [1, 3, 6]\n",
    "a[ids]\n",
    "\n",
    "n = 4\n",
    "a = np.zeros(n) -1\n",
    "b = np.arange(2, 2-0.5*a[::2].shape[0], -0.5)\n",
    "a[::2] = b\n",
    "a"
   ]
  },
  {
   "cell_type": "code",
   "execution_count": 90,
   "metadata": {},
   "outputs": [
    {
     "data": {
      "text/plain": [
       "-2.757725446972893"
      ]
     },
     "execution_count": 90,
     "metadata": {},
     "output_type": "execute_result"
    }
   ],
   "source": [
    "import math\n",
    "# Tính toán giữa mảng 1 chiều và một số vô hướng\n",
    "x = np.array([1, 2, 3])\n",
    "y = math.pi/2 - x\n",
    "z = np.sum(np.cos(x) - np.sin(x))\n",
    "z"
   ]
  },
  {
   "cell_type": "code",
   "execution_count": 98,
   "metadata": {},
   "outputs": [
    {
     "data": {
      "text/plain": [
       "22.5"
      ]
     },
     "execution_count": 98,
     "metadata": {},
     "output_type": "execute_result"
    }
   ],
   "source": [
    "a = 0.5*np.arange(10)\n",
    "a[::2] = a[::2] * -1\n",
    "np.sum(np.abs(a))"
   ]
  },
  {
   "cell_type": "code",
   "execution_count": 102,
   "metadata": {},
   "outputs": [
    {
     "data": {
      "text/plain": [
       "1.0"
      ]
     },
     "execution_count": 102,
     "metadata": {},
     "output_type": "execute_result"
    }
   ],
   "source": [
    "a = 0.5*np.arange(10)\n",
    "b = np.exp(a)/ np.sum(np.exp(a))"
   ]
  },
  {
   "cell_type": "code",
   "execution_count": 109,
   "metadata": {},
   "outputs": [
    {
     "data": {
      "text/plain": [
       "8"
      ]
     },
     "execution_count": 109,
     "metadata": {},
     "output_type": "execute_result"
    }
   ],
   "source": [
    "# Tìm giá trị max, min, argmax, argmin\n",
    "a = np.arange(10)\n",
    "a\n",
    "\n",
    "a[-1] = -2\n",
    "np.min(a)\n",
    "np.max(a)\n",
    "\n",
    "# Tìm chỉ số mà mảng 1 chiều đạt giá trị nhỏ nhất, lớn nhất\n",
    "np.argmin(a)\n",
    "np.argmax(a)"
   ]
  },
  {
   "cell_type": "markdown",
   "metadata": {},
   "source": [
    "# == #\n",
    "- Mutable: Có thể thay đổi\n",
    "- Immutable: Không thể thay đổi"
   ]
  },
  {
   "cell_type": "markdown",
   "metadata": {},
   "source": [
    "# Làm việc với ma trận\n"
   ]
  },
  {
   "cell_type": "code",
   "execution_count": 110,
   "metadata": {},
   "outputs": [
    {
     "data": {
      "text/plain": [
       "array([[1, 2, 3],\n",
       "       [4, 5, 6],\n",
       "       [7, 8, 9]])"
      ]
     },
     "execution_count": 110,
     "metadata": {},
     "output_type": "execute_result"
    }
   ],
   "source": [
    "a = np.array([\n",
    "    [1, 2, 3],\n",
    "    [4, 5, 6],\n",
    "    [7, 8, 9]\n",
    "])\n",
    "a"
   ]
  },
  {
   "cell_type": "code",
   "execution_count": 111,
   "metadata": {},
   "outputs": [
    {
     "data": {
      "text/plain": [
       "array([[1., 0., 0.],\n",
       "       [0., 1., 0.],\n",
       "       [0., 0., 1.]])"
      ]
     },
     "execution_count": 111,
     "metadata": {},
     "output_type": "execute_result"
    }
   ],
   "source": [
    "# Ma trận đơn vị và ma trận đường chéo\n",
    "np.eye(3)"
   ]
  },
  {
   "cell_type": "code",
   "execution_count": 112,
   "metadata": {},
   "outputs": [
    {
     "data": {
      "text/plain": [
       "array([[1, 0, 0],\n",
       "       [0, 3, 0],\n",
       "       [0, 0, 4]])"
      ]
     },
     "execution_count": 112,
     "metadata": {},
     "output_type": "execute_result"
    }
   ],
   "source": [
    "# Ma trận đường chéo\n",
    "np.diag([1, 3, 4])"
   ]
  },
  {
   "cell_type": "code",
   "execution_count": 116,
   "metadata": {},
   "outputs": [
    {
     "data": {
      "text/plain": [
       "array([[0, 0, 0, 0, 0, 0, 0, 0, 0, 0, 0],\n",
       "       [0, 0, 0, 0, 0, 0, 0, 0, 0, 0, 0],\n",
       "       [0, 1, 0, 0, 0, 0, 0, 0, 0, 0, 0],\n",
       "       [0, 0, 2, 0, 0, 0, 0, 0, 0, 0, 0],\n",
       "       [0, 0, 0, 3, 0, 0, 0, 0, 0, 0, 0],\n",
       "       [0, 0, 0, 0, 4, 0, 0, 0, 0, 0, 0],\n",
       "       [0, 0, 0, 0, 0, 5, 0, 0, 0, 0, 0],\n",
       "       [0, 0, 0, 0, 0, 0, 6, 0, 0, 0, 0],\n",
       "       [0, 0, 0, 0, 0, 0, 0, 7, 0, 0, 0],\n",
       "       [0, 0, 0, 0, 0, 0, 0, 0, 8, 0, 0],\n",
       "       [0, 0, 0, 0, 0, 0, 0, 0, 0, 9, 0]])"
      ]
     },
     "execution_count": 116,
     "metadata": {},
     "output_type": "execute_result"
    }
   ],
   "source": [
    "# Tạo ma trận với đường chéo phụ\n",
    "n = 10\n",
    "\n",
    "np.diag(np.arange(n), k=-1)\n",
    "\n",
    "# Truy cập vào từng phần tử của ma trận trong mảng 2 chiều"
   ]
  },
  {
   "cell_type": "code",
   "execution_count": 121,
   "metadata": {},
   "outputs": [
    {
     "data": {
      "text/plain": [
       "10"
      ]
     },
     "execution_count": 121,
     "metadata": {},
     "output_type": "execute_result"
    }
   ],
   "source": [
    "A = np.array([[1, 2], [3, 4]])\n",
    "def myfunc(b):\n",
    "    return np.sum(b[:2,:])\n",
    "\n",
    "myfunc(A)"
   ]
  },
  {
   "cell_type": "code",
   "execution_count": null,
   "metadata": {},
   "outputs": [],
   "source": []
  }
 ],
 "metadata": {
  "kernelspec": {
   "display_name": "Python 3 (ipykernel)",
   "language": "python",
   "name": "python3"
  },
  "language_info": {
   "codemirror_mode": {
    "name": "ipython",
    "version": 3
   },
   "file_extension": ".py",
   "mimetype": "text/x-python",
   "name": "python",
   "nbconvert_exporter": "python",
   "pygments_lexer": "ipython3",
   "version": "3.10.8"
  },
  "vscode": {
   "interpreter": {
    "hash": "5c7b89af1651d0b8571dde13640ecdccf7d5a6204171d6ab33e7c296e100e08a"
   }
  }
 },
 "nbformat": 4,
 "nbformat_minor": 2
}
