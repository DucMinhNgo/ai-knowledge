{
 "cells": [
  {
   "attachments": {},
   "cell_type": "markdown",
   "metadata": {},
   "source": [
    "[Deep Learning] Graph Neural Network - A literature review and applications\n",
    "https://viblo.asia/p/deep-learning-graph-neural-network-a-literature-review-and-applications-6J3ZgP0qlmB\n",
    "- Tuy nhiên có 1 số loại mạng dữ liệu khó biểu diễn dưới dạng thông thường như:\n",
    "  + Dữ liệu mạng xã hội.\n",
    "  + Liên kết mạng internet.\n",
    "  + Tương tác giữa các nguyên tử, phân tử.\n",
    "\n",
    "- Xu hướng:\n",
    "  + Phân tích mạng xã hội nắm được xu hướng của cọng đồng hiện tại, các nhóm đối tượng khách hàng.\n",
    "  + Các gọi ý kết bạn, follow các trang trên nền tảng mạng xã hôi facebook.\n",
    "  + Phân tích tương tác ở cấp độ nguyên tử phân tử phục vụ cho vấn đề y, sinh học, phân tích tác dụng phụ của thuốc.\n",
    "  + Xây dựng hệ thống gọi ý sản phẩm cho các trang web thương mại điện tử, từ dữ liệu tương tác của người dùng.\n",
    "\n",
    "- CNN gồm các kernel rút trích ra những đặc trưng, kernel làm nổi bật các đường biên của đối tượng, có kernel làm nối bật từng vùng riêng của bức ảnh, trong xử lý ảnh dùng CNN, filter cố định tổng hợp giá trị của các pixel lân cận thì GNN cũng tổng hợp giá trị của các node lân cận.\n",
    "\n",
    "- Cách biểu diễn đơn giản nhất cho các nút và các cạnh trên đồ thị là việc biểu diễn các nút và các cạnh đó đưới dạng [vector-embedding]: tiếp đó sử dụng các vector embedding này cho các downstream task, node classification, graph clustering, ...\n",
    "\n",
    "- Hai điểm được gọi là tương đồng nhau nếu như khoảng các trên không gian mới (embedding space) nhỏ.\n",
    "\n",
    "# Một số lý thuyết đồ thị cơ bản\n",
    "- homogeneous: đồng nhất\n",
    "- heterogeneous: không đồng nhất\n",
    "\n",
    "# Một số bài toán điển hình\n",
    "- Link prediction\n",
    "- Node classification\n",
    "- Clustering & Community detection\n",
    "- Node embedding: Tất cả đều dựa trên giả định nút gần nhau sẽ có các đặc trưng gần giống nhau\n",
    "\n",
    "# Các loại mô hình\n",
    "- Mô hình không có khả năng adapt generalazation tốt trên unseen data được gọi là tranductive learning method ngược lại gọi là inductive learning method\n",
    "\n",
    "# Spectral vs Spatial Graph Neural Network\n",
    "- Special Graph Neural Network: Liên quan đến khái niệm phân tách ma trân, tuy nhiên chi phí khá lớn lên sau này dần dần bị thay bởi spatial based.\n",
    "- Spatial Graph Neural Network: Là phương pháp đơn giản hơn cả về mặt toán học và mô hình.\n",
    "\n",
    "# GCN (Semi-Supervisor Classification with Graph Convolutional Networks - 2016)\n",
    "- paper: https://arxiv.org/pdf/1609.02907.pdf\n",
    "- Nhược điểm của mô hình GCN và hướng cải thiện:\n",
    "  + memory requirement: trong số mô hình vẫn được cập nhật qua từng epoch: mỗi epoch được cập nhập theo full-batch gradient descent không phải mini-batch gradient descent.\n",
    "  + directed edges and edge features (Các cạnh được điều hướng và các tính năng cạnh): mô hình GCN chứ được thêm các yếu tố edge (adj matrix A hiện tại chỉ là binary matrix) và directed graph (tức ma trận có hướng). Hướng xử lý trong GCN đang bị giới hạn bới ma trận vô hướng.\n",
    "  + limiting assumption (giả đinh giới hạn):\n",
    "  + transductive setting: với những nút mới thêm vào đồ thị (kèm theo các nút liên kết mới): mô hình có khả năng rổng quát hóa rất kém với nhứng nút mới và yêu cầu cần phải re-train toàn bộ mô hình.\n",
    "\n",
    "# GCN (GrapSage - 2017): an inductive learning method: phương pháp học quy nạp:\n",
    "-  Inductive Representation learning on Large Graphs\n",
    "- Có khả năng tổng quát hóa tốt hơn với các unseen dât.\n",
    "- Vẫn dựa trên ý tưởng sinh các node embedding dựa vào các node lân cận, tác giả đề cập thiết kế các hàm aggregate nhằm tổng hợp lại thông tin từ các nút lân cận và dề xuất 3 hàm aggregate tương ứng.\n",
    "- mini-batch update gradient descent: là 1 spatial gnn method, khắc phục được hạn chế lớn nhất của GCN là việc cập nhật theo full-batch gradient descent.\n",
    "- aggregator function: mean, poolin, LSTM.\n",
    "  + Mean: đơn giản là việc lấy trung bình vector của các nút lân cận\n",
    "  + LSTM: thiết kế cho bài toán dạng sequance: hoán vị ngẫy nhiên input là các nút lân cận. Kết quả thu được cũng khá khả quan so với các aggregate function khác.\n",
    "  + Pooling:\n",
    "\n",
    "# UberEat - user-báed recommender engine\n",
    "\n",
    "# Từ vựng:\n",
    "- V: vertices/ node: đỉnh\n",
    "- E: edge: cạnh\n",
    "- dense-adjacency matrix: ma trận liền kề dày đặc."
   ]
  },
  {
   "attachments": {},
   "cell_type": "markdown",
   "metadata": {},
   "source": [
    "# Understanding \n",
    "link: https://blog.tsingjyujing.com/ml/recsys/light_gcn\n",
    "a new algorithm for collaborative filtering problem:\n",
    "\n",
    "# why it's called light\n",
    "- Heap of (user, item, interaction)\n",
    "- it's a bipartite graph of user-item interactions: capable add user-user, item-item\n",
    "\n",
    "# convolution: basically is a weighted moving average (trung binh dong co trong so)\n",
    "- data with an underlying stucture that is a non- Euclidean space.\n",
    "- non-euclidean graph means we don't have a certain neighborhood number. But in common CNN we have a certain number of neighborhoods.\n",
    "- we updated the current node by doing a weighted sum operation from all neighbor nodes and do it agrain in the next layer.\n",
    "Then we usr multi-layer to obtain high-order connectivity.\n",
    "- First of all, we have to generate a symmetric adjacency matrix.\n"
   ]
  }
 ],
 "metadata": {
  "kernelspec": {
   "display_name": "Python 3",
   "language": "python",
   "name": "python3"
  },
  "language_info": {
   "name": "python",
   "version": "3.11.1"
  },
  "orig_nbformat": 4,
  "vscode": {
   "interpreter": {
    "hash": "5c7b89af1651d0b8571dde13640ecdccf7d5a6204171d6ab33e7c296e100e08a"
   }
  }
 },
 "nbformat": 4,
 "nbformat_minor": 2
}
