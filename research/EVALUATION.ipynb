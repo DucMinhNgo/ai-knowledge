{
 "cells": [
  {
   "attachments": {},
   "cell_type": "markdown",
   "metadata": {},
   "source": [
    "# Loss function and Accuracy\n",
    "https://www.miai.vn/2020/06/12/oanh-gia-model-ai-theo-cach-mi-an-lien-chuong-1-loss-va-accuracy/\n",
    "- Loss:\n",
    "  + Loss function thường là số thực không âm (trừ th là cosin proxiity): hể hiện sự chênh lệch giữa hai đại lượng, model sự đoán càng sai thì loss func có giá trị càng lớn\n",
    "  + Trong thực chúng ta sử dụng một số hàm loss khác nhau tùy thuộc vào bài toán cụ thể:\n",
    "    - Hinge Loss, Entropy Loss\n",
    "  + Loss là hàm thể hiện xem giá trị dự đoán có gần với giá trị gốc hay không\n",
    "- Accuracy (sự chính xác): Chúng ta đưa cho model 50 cái ảnh gồm cả chó mèo: 30 ảnh phân loại đúng, 20 ảnh phân loại sai.\n",
    "  + Accurancy = 30/50\n",
    "  model accurancy càng cao thì càng tốt vì sẽ dự đoán được chính xác nhất (precision: độ chính xác, recall: nhớ lại)"
   ]
  },
  {
   "attachments": {},
   "cell_type": "markdown",
   "metadata": {},
   "source": [
    "https://www.miai.vn/2020/06/16/oanh-gia-model-ai-theo-cach-mi-an-lien-chuong-2-precision-recall-va-f-score/\n",
    "- Precision, Recall, F-1 score\n",
    "\n",
    "# Khái niệm về Confusion matrix: 4x4 \n",
    "  PP,PN => True positive, false negative\n",
    "  NP, NN   False positive true negative\n",
    "\n",
    "# Khái niệm về precision:\n",
    "Precision = TP/ (TP + FP)\n",
    "0 < precision <= 1: Càng lớn thì độ chính xác càng cao. Ví dụ dư spam mail.\n",
    "\n",
    "# Khái niệm recall: tỉ lệ bỏ sót: recall cao tức tỷ lệ bỏ xót thấp.\n",
    "Recall = TP/ (TP + FN)\n",
    "\n",
    "# F-1 Score:\n",
    "- Trong thực tế điều chỉnh recall có thể dẫn đến giảm precision và ngược lại:\n",
    "F1 = 2*(precision*Recall)/(precision + Recall)\n",
    "\n",
    "=> căn cứ vào F1 để đánh giá lại model: Lý tưởng nhất là F1 = 1(khi recall= precision = 1)"
   ]
  }
 ],
 "metadata": {
  "kernelspec": {
   "display_name": "Python 3",
   "language": "python",
   "name": "python3"
  },
  "language_info": {
   "name": "python",
   "version": "3.11.1"
  },
  "orig_nbformat": 4,
  "vscode": {
   "interpreter": {
    "hash": "5c7b89af1651d0b8571dde13640ecdccf7d5a6204171d6ab33e7c296e100e08a"
   }
  }
 },
 "nbformat": 4,
 "nbformat_minor": 2
}
