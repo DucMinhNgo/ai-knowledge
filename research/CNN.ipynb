{
 "cells": [
  {
   "attachments": {},
   "cell_type": "markdown",
   "metadata": {},
   "source": [
    "- Mạng NN thông thường sẽ gặp vấn đề về số lượng weights khi xử lý ảnh: Số lượng đường nối quá nhiều\n",
    "- Mạng CNN (Neural trước chỉ kết nối với 1 số neủal gần đó, Không kết nối với tất cả các neural): mỗi neủal chỉ nhìn 1 phần hỉnh anh để dự đoán chứ không nhìn vào toàn bộ tấm ảnh\n",
    "\n",
    "- CNN (Convolutional Neural Network) - Mạng tích chập: mô hình tiên tiến giúp chúng ta xây dựng hệ thông machine learning với độ chính xác cao như hiện nay.\n",
    "\n",
    "- Convolutional layer: có các parameter (kernel): đã được học để tự diều chỉnh lấy những thông tin chính xác nhất mà không cần chọn các feature"
   ]
  },
  {
   "attachments": {},
   "cell_type": "markdown",
   "metadata": {},
   "source": [
    "# Khái niệm:\n",
    "- Mạng CNN: là một tập hợp các lớp convolution chồng lên nhau và sử dụng các hàm nonlinear activation nhử ReLU và tanh để kích hoactj âccs trọng số trong các node. Mỗi một lớp sau khi qua các hàm kích hoạt sẽ theo ra các thông tin trừu tượng hơn cho các lớp tiếp theo.\n",
    "\n",
    "- CNN: chuyên được dùng để sử lý ảnh.\n",
    "\n",
    "- Mô hình mạng kết nối đầy đủ (fully connected layer) hay mạng toàn vẹn (affine layer). Còn trong mô hình CNNs thì ngược lại. Các layer liên kết dựa theo cơ chế convolution.\n",
    "\n",
    "- Layer tiếp theo là kết quả từ các layer trước đó. Nhờ vậy ta có được các kết nối cục bộ. như vậy mỗi neural ở lớp kế tiếp sinh ra từ kết quả của filter áp đạt lên một vùng ảnh cục bộ của neural trước đó.\n",
    "\n",
    "- Ngoài ra còn một số các layer khác như pooling/subsampling dùng để chắt lọc các thông tin hưu ích hơn (loại bỏ các thông tin nhiễu).\n",
    "\n",
    "- Trích đặc trưng:\n",
    "  + (Convolved Feature learning) Lớp trích lọc đặc trưng của ảnh: Cov, Relu, Pool => Làm phẳng (Flatten) dữ liệu trước khi chuyển sang (classification) để phân loại.\n",
    "  + (Classification) Lớp phân loại: (FC - fully connected và softmax).\n",
    "\n",
    "- Convolution Layer.\n",
    "  + Input biểu diễn ảnh [MxNxD]\n",
    "    - M: Chiều rộng.\n",
    "    - N: CHiều cao.\n",
    "    - D: Số chiều.\n",
    "  + Ảnh màu [MxNx3]\n",
    "  + Ảnh Grayscale/Binary [MxNx1]\n",
    "\n",
    "- Relu: có tác dụng dùng để khử tuyến tính (Loại âm nếu âm thì thay thế bằng số 0).\n",
    "- Pooling: Giảm chiều không gian đầu và giảm độ phức tạp của thuật toán.\n",
    "- Max Pooling: Giữ lại chi tiết quan trọng, giữ lại những Picel có giá trị lớn nhất (hoặc average pooling).\n",
    "- FC layer (Fully connected layer): làm phẳng bức ảnh.\n",
    "- Sotfmax để phân loại đối tượng:\n"
   ]
  },
  {
   "attachments": {},
   "cell_type": "markdown",
   "metadata": {},
   "source": [
    "# Một số mạng thông dụng:\n",
    "- VGG16 (hiện đã có VGG19).\n",
    "- Inception (GoogleLeNet).\n",
    "- ResNet (residual network).\n",
    "- Darknet-53 (backbone của YOLO3)."
   ]
  },
  {
   "attachments": {},
   "cell_type": "markdown",
   "metadata": {},
   "source": [
    "1) Bài toán nhận diện tiền việt nam.\n",
    "2) Phân loại chữ số từ 0-9."
   ]
  },
  {
   "attachments": {},
   "cell_type": "markdown",
   "metadata": {},
   "source": [
    "https://viblo.asia/p/building-cnn-model-layer-patterns-and-rules-Do754qXQKM6\n",
    "# Building CNN model, Laỷe Patterns and Rules\n",
    "- Introdution:\n",
    "  + Ứng dụng trong các lĩnh vực: Computer Vision, RNN (Recurrent neural network: Mạng thần kinh tái phát), LSTM (Long Short-term memory: Trí nhớ ngắn hạn dài)\n",
    "  + Để có một mô hình tốt chúng ta cần thêm những yếu tố ảnh hưởng đến mô hình cũng như các kỹ thuật để làm:\n",
    "    - accurancy.\n",
    "    - loss.\n",
    "    - Tránh overfitting.\n",
    "    - Quá trình data preprocessing tốt.\n",
    "\n",
    "- CNN Building Blocks:\n",
    "  + Layer Type:\n",
    "    - Convolutional (CONV)\n",
    "    - Activation (ACT or RELU)\n",
    "    - Pooling (POOL)\n",
    "    - Fully-connected (FC)\n",
    "    - Batch Normalization (BN)\n",
    "    - Dropout (DO)\n",
    "\n",
    "INPUT => [[CONV => RELU] * N => POOL?] * M => [FC => RELU] * K => FC\n",
    "0 <= N <= 3\n",
    "M >= 0\n",
    "0 <= K <= 2\n",
    "\n",
    "\n"
   ]
  }
 ],
 "metadata": {
  "kernelspec": {
   "display_name": "Python 3",
   "language": "python",
   "name": "python3"
  },
  "language_info": {
   "name": "python",
   "version": "3.10.9 (main, Dec 15 2022, 10:44:50) [Clang 14.0.0 (clang-1400.0.29.202)]"
  },
  "orig_nbformat": 4,
  "vscode": {
   "interpreter": {
    "hash": "b0fa6594d8f4cbf19f97940f81e996739fb7646882a419484c72d19e05852a7e"
   }
  }
 },
 "nbformat": 4,
 "nbformat_minor": 2
}
