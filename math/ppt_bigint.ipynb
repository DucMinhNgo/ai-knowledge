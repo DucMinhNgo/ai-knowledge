{
 "cells": [
  {
   "attachments": {},
   "cell_type": "markdown",
   "metadata": {},
   "source": [
    "# Số nguyên lớn:\n",
    "- Về bản chất không có định nghĩa nào cho số nguyên lớn cả. Trong thực tiễn khi nói hay xét đến số nguyên lớn, ta thường xét đến số cực lớn khi sử dụng hàng ngày.\n",
    "  + > 10^12.\n",
    "  + Các dãy số có thể bắt đầu bằng rất ít số nhỏ, để mô tả một số lớn như vậy."
   ]
  },
  {
   "attachments": {},
   "cell_type": "markdown",
   "metadata": {},
   "source": [
    "https://viblo.asia/p/xu-ly-so-nguyen-lon-phan-1-nhapxuat-phep-so-sanh-phep-cong-va-phep-tru-V3m5WQpxZO7\n",
    "# Xử lý số nguyên lớn (phần 1):\n",
    "- Nhập/ Xuất, Phép so sánh, Phép cộng và Phép trừ.\n",
    "- Trong C có kiểu dữ liệu long (20 chữ số)\n",
    "- Cách biểu diễn số nguyên lớn:\n",
    "  + Biểu diễn dưới ký tự chuỗi.\n",
    "  + Biểu diễn với kí tự mảng."
   ]
  }
 ],
 "metadata": {
  "language_info": {
   "name": "python"
  },
  "orig_nbformat": 4
 },
 "nbformat": 4,
 "nbformat_minor": 2
}
