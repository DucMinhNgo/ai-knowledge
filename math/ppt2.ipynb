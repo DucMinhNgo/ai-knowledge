{
 "cells": [
  {
   "attachments": {},
   "cell_type": "markdown",
   "metadata": {},
   "source": [
    "- Cho cặp số tồn tại duy nhất 1 cặp số khác.\n",
    "- Các phần tử khả nghịch nhân."
   ]
  }
 ],
 "metadata": {
  "language_info": {
   "name": "python"
  },
  "orig_nbformat": 4
 },
 "nbformat": 4,
 "nbformat_minor": 2
}
