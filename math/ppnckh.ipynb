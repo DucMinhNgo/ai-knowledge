{
 "cells": [
  {
   "attachments": {},
   "cell_type": "markdown",
   "metadata": {},
   "source": [
    "1. [Viết tài kiệu khoa học]\n",
    "=> tựa/ title\n",
    "\n",
    "2. [Tác giả]\n",
    "- Đưa ai vào bài báo và đưa theo thứ tự, trật tự như thế nào?\n",
    "  - Tên người trực tiếp làm ra hết quả - đảm bảo tính đúng đắn của bài toán. \n",
    "  - Tên những người làm những công việc liên quan dẫn đến kết quả.\n",
    "  - Tên thầy: người đặt ra bài bài báo (để cuối cùng) - đảm bảo tính khoa học của bài toán - bài toán này có mới hay không.\n",
    "\n",
    "3. [Viết báo cáo tóm tắt/ abstract]\n",
    "Tóm tắt bài báo để làm gì?\n",
    "\n",
    "# Một số keyword\n",
    "- Nhanh - Fast\n",
    "- Chính xác - Acuracy\n",
    "- Mềm dẻo - Robust \n",
    "- Hiệu quả - Affective\n",
    "\n",
    "# Cấu trúc của 1 abstract (Khoảng 10 câu: không hơn 100 - 150 từ)\n",
    "- Bối cảnh - Background and Grab\n",
    "- Phát biểu bài toán - What we did - Innovation\n",
    "- Contribution\n",
    "- Phương pháp - Method\n",
    "- Kết quả - Result\n",
    "- Ý nghĩa - Meaning\n",
    "\n",
    "# Trích dẫn:\n",
    "- Cite\n",
    "- Citing\n",
    "- Citation\n",
    "\n",
    "# Câu hỏi:\n",
    "1. Yếu tố làm làm cho người đọc quyết định đọc bài báo?\n",
    "- Những con số sẽ làm cho người đọc quyết định có nên đọc tiếp hay không.\n",
    "  + Nhanh - Fast - (Thời gian: nhanh hơn bao nhiêu lần so với thuật toán khác).\n",
    "  + Chính xác - Acuracy - (Độ chính xác bao nhiêu % so với thuật toán khác).\n",
    "  + Mềm dẻo - Robust.\n",
    "  + Hiệu quả - Affective - (có thể nhận dạng được nhiều font chữ, kiểu chữ, nhiều background khác nhau).\n",
    "\n",
    "2. Đưa tên ai vô bài báo và theo thứ tự nào?\n",
    "- Đóng góp về mặt tri thức, trí tuệ đối với bài báo - significant: đóng góp thật sự.\n",
    "- Hai người cùng chứng minh mệnh đề có thể sắp xếp tên người theo thứ tự Alphabet.\n",
    "- Người đứng đầu là người trực tiếp làm ra kết quả đó.\n",
    "\n",
    "3. Tại sao phải trích dẫn công trình của người khác vào bài viết của mình?\n",
    "[Cá nhân]: \n",
    "  - Tránh vi phạm bản quyền, ăn cắp ý tưởng.\n",
    "  - Kiểm tra tính xác thực.\n",
    "  - Cung cấp uy tín cho bài báo.\n"
   ]
  }
 ],
 "metadata": {
  "language_info": {
   "name": "python"
  },
  "orig_nbformat": 4
 },
 "nbformat": 4,
 "nbformat_minor": 2
}
