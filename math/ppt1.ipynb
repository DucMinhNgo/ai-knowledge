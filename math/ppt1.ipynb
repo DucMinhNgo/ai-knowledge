{
 "cells": [
  {
   "attachments": {},
   "cell_type": "markdown",
   "metadata": {},
   "source": [
    "# Nội dung:\n",
    "1. Số và số trên máy tính.\n",
    "2. Cơ sở toán cho mật mã và mã hóa thông tin.\n",
    "3. Toán học của độ phức tạp thuật toán.\n",
    "\n",
    "# Hoạt động và nhiệm vụ:\n",
    "- Làm bài tập, chạy thử chương trình.\n",
    "- Đọc các tài liệu nghiên cứu.\n",
    "- Đồ án môn học: 3.\n",
    "- Thi 1-2 lần."
   ]
  },
  {
   "attachments": {},
   "cell_type": "markdown",
   "metadata": {},
   "source": [
    "# Danh sách đồ án:\n",
    "- Đồ án 1: Nghiên cứu trình bày vài tính toán số nguyên lớn, liên hệ với thư viện trong mỗi ngôn ngữ lập trình thông dụng."
   ]
  },
  {
   "attachments": {},
   "cell_type": "markdown",
   "metadata": {},
   "source": [
    "# Chủ đề 1: Số và số trên máy tính (Chính xác, kiểm soát gần đúng)\n",
    "- Những khía cạnh toán học <> thực tiễn\n",
    "- Khía cạnh công nghệ và lập trình\n",
    "\n",
    "1. Các loại số:\n",
    "- Số tự nhiên N\n",
    "- Số nguyên Z\n",
    "- Số vô tỉ siêu việt (pi, e~2,71828)\n",
    "\n",
    "2. Sơ lược về máy tính:\n",
    "- Cấu trúc/ mô hình cơ học -> lưu trữ.\n",
    "- \"Cơ chế\" tính toán -> thuật toán.\n",
    "- Tích hợp trên board mạch (hoặc trong lập trình call xuống tính toán board mạch).\n",
    "\n",
    "  2.1 Số nguyên\n",
    "  - Dựa trên biểu diễn nhị phân để lưu trữ trên máy tính (khái niệm bit).\n",
    "  - Số bù 2 để lưu trữ số âm.\n",
    "  - Số bit hạn chế trên board tùy vào phát triển công nghệ (n=8-bit).\n",
    "\n",
    "  2.2 Số nguyên lớn\n",
    "  - Công nghệ hiện nay chưa chế tạo được đơn vị tính toán cơ sở vượt quá 64-bit.\n",
    "  - Thuật toán tính toán số nguyên lớn (đặc biệt là phép nhân) => thư viện BigInt"
   ]
  }
 ],
 "metadata": {
  "kernelspec": {
   "display_name": "Python 3",
   "language": "python",
   "name": "python3"
  },
  "language_info": {
   "name": "python",
   "version": "3.11.1"
  },
  "orig_nbformat": 4,
  "vscode": {
   "interpreter": {
    "hash": "5c7b89af1651d0b8571dde13640ecdccf7d5a6204171d6ab33e7c296e100e08a"
   }
  }
 },
 "nbformat": 4,
 "nbformat_minor": 2
}
