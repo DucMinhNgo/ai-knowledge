{
 "cells": [
  {
   "attachments": {},
   "cell_type": "markdown",
   "metadata": {},
   "source": [
    "# Tensorflow và Keras là gì?\n",
    "- Một số bước cơ bản xây dựng mạng neural.\n",
    "\n",
    "# Mạng Neural là gì?\n",
    "- Input Layer\n",
    "- Hidden Layer\n",
    "- Output Layer\n",
    "- Mạng Neural là nhiều lớp Layer liên tục.\n",
    "- bài toán nhận diện hình ảnh chó mèo.\n",
    "\n",
    "# TensorFlow hỗ trợ phép toán để tính toán làm việc với deeplearning (google):\n",
    "- Cài đặt tensorFlow (Backend):\n",
    "- pip install tensorflow==1.15.0"
   ]
  },
  {
   "attachments": {},
   "cell_type": "markdown",
   "metadata": {},
   "source": [
    "# Keras (Frontend, Framework):\n",
    "- Là một thư viện High level build trên nền TensorFlow: Cú pháp đơn giản hơn rất nhiều:\n",
    "  + Có thể chạy trên nền tằng CPU và GPU\n",
    "- Dễ dùng để phát triển model để học về deep learning\n",
    "- Một số khái niệm trong Keras:\n",
    "  + Sequential: tuần tự (nơi để chứa các lớp được xây dựng bằng keras): sau đó mới thêm các lớp, layer vào trong sequential đó.\n",
    "  + Layers:\n",
    "  + Activation Function.\n",
    "  + Fit: Train model (fit data).\n",
    "  + Loss: Hàm mất mát (giảm tối đa loss), bằng việc điều chỉnh weight.\n",
    "  + Optimizer: SDG, Adam.\n",
    "  + Evaluation (Đánh giá model):\n",
    "\n",
    "- Xây dựng một bài toán mạng neural cơ bản vào sữ liệu Pima\n",
    "  + Input: Thông số đo của bệnh nhân.\n",
    "  + Output: Dự đoán bệnh nhân có bị bệnh tiểu đường hay là không.\n",
    "\n",
    "- Trước khi hỏi (input, output là gì):\n",
    "\n",
    "\n",
    "# Flow cần phải làm để xây dụng model:\n",
    "- Load dữ liệu\n",
    "- Xây dựng model\n",
    "- Compile mode: gán làm loss, hàm tối ưu, do lường độ tốt của model.\n",
    "- Train model (Fit)\n",
    "- Đánh giá model (Evalute)\n",
    "- Dự đoán dữ liệu mới\n",
    "- Lưu model (lưu lại)\n",
    "- Load model\n",
    "=> Define Netwoek => Compile Network => Fit Network => Evaluate Network => Make Predictions.\n",
    "Dựa vào kinh nghiệm thử và sai, vẽ thoải mái.\n",
    "\n",
    "# Cách chia tập dữ liệu:\n",
    "- Chia dữ liệu làm 3 tập chính:\n",
    "  + Train: fit dữ liệu ở trong mạng để train model.\n",
    "  + Validation: kiểm tra model xem model có hoạt động tốt không, chon model có được validation score tốt nhất.\n",
    "  + Test: để riêng dữ liệu test ra ngoài để đánh giá model.\n",
    "\n"
   ]
  },
  {
   "attachments": {},
   "cell_type": "markdown",
   "metadata": {},
   "source": [
    "# Các thông số\n",
    "- Cần phải trải nghiệm hoặc khai tool sao cho kết quả tốt nhất.\n",
    "- Overfit, Underfit, tối ưu parameter.\n",
    "- In ra đồ thị về loss, accuracy để phán đoán tình trạng của model.\n",
    "- Train tốt nhưng dữ liệu mới thêm accuracy thấp (model bị overfit).\n",
    "- miai keras callbacks, miai đánh giá model.\n"
   ]
  }
 ],
 "metadata": {
  "kernelspec": {
   "display_name": "pydustin",
   "language": "python",
   "name": "python3"
  },
  "language_info": {
   "name": "python",
   "version": "3.10.8 (main, Nov 24 2022, 08:08:27) [Clang 14.0.6 ]"
  },
  "orig_nbformat": 4,
  "vscode": {
   "interpreter": {
    "hash": "789ff6a4b0a18a8c7c549d9537577c7fc6bc657edddf848fa72850f89b39c248"
   }
  }
 },
 "nbformat": 4,
 "nbformat_minor": 2
}
