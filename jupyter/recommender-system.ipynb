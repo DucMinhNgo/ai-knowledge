{
 "cells": [
  {
   "attachments": {},
   "cell_type": "markdown",
   "metadata": {},
   "source": [
    "# Tập dữ liệu người dùng và sở thích âm nhạc của họ (Last.fm)\n",
    "dataset: lastfm-matrix-germany.csv\n",
    "\n",
    "# Tính toán độ đo tương tự\n",
    "Cần phải tạo ra một cấu trúc dữ liệu có thể lưu trữ chúng (items-items): DataFrame\n",
    "- Độ đo tương tự được hiểu là nghịch đảo của khoảng cách (Sử dụng khoảng cách cosin để cập nhật)\n",
    "- Scipy\n",
    "- Pandas (2) sử dụng .loc thay thế cho .ix, sort_values thay cho order"
   ]
  },
  {
   "cell_type": "code",
   "execution_count": 40,
   "metadata": {},
   "outputs": [],
   "source": [
    "import pandas as pd\n",
    "from scipy.spatial.distance import cosine"
   ]
  },
  {
   "cell_type": "code",
   "execution_count": 41,
   "metadata": {},
   "outputs": [
    {
     "name": "stdout",
     "output_type": "stream",
     "text": [
      "(1257, 286)\n",
      "(1257, 285)\n"
     ]
    },
    {
     "name": "stderr",
     "output_type": "stream",
     "text": [
      "/var/folders/d6/mh7wm5nn4kg3h9fh49kw88yr0000gn/T/ipykernel_4336/2915468304.py:8: FutureWarning: In a future version of pandas all arguments of DataFrame.drop except for the argument 'labels' will be keyword-only.\n",
      "  data_item_base = data.drop('user', 1)\n"
     ]
    }
   ],
   "source": [
    "\n",
    "data = pd.read_csv('../datasets/lastfm-matrix-germany.csv')\n",
    "\n",
    "# shape of matrix\n",
    "print (data.shape)\n",
    "# print (data.head(8))\n",
    "\n",
    "# Drop any column named \"user\"\n",
    "data_item_base = data.drop('user', 1)\n",
    "\n",
    "print (data_item_base.shape)\n",
    "\n",
    "# (items-items)\n",
    "data_item_base_frame = pd.DataFrame(index=data_item_base.columns, columns=data_item_base.columns)\n",
    "# print (data_item_base_frame.head(6))\n"
   ]
  },
  {
   "cell_type": "code",
   "execution_count": 42,
   "metadata": {},
   "outputs": [
    {
     "name": "stdout",
     "output_type": "stream",
     "text": [
      "Index(['a perfect circle', 'abba', 'ac/dc', 'adam green', 'aerosmith', 'afi',\n",
      "       'air', 'alanis morissette', 'alexisonfire', 'alicia keys',\n",
      "       ...\n",
      "       'timbaland', 'tom waits', 'tool', 'tori amos', 'travis', 'trivium',\n",
      "       'u2', 'underoath', 'volbeat', 'yann tiersen'],\n",
      "      dtype='object', length=285)\n"
     ]
    }
   ],
   "source": [
    "# Tính toán độ tương tự cho từng items\n",
    "print (data_item_base_frame.columns)\n",
    "\n",
    "for i in range(0, len(data_item_base_frame.columns)):\n",
    "  for j in range(0, len(data_item_base_frame.columns)):\n",
    "    # Calculate similarity\n",
    "    data_item_base_frame.iloc[i, j] = 1 - cosine(data.iloc[:, i], data.iloc[:, j])"
   ]
  },
  {
   "cell_type": "code",
   "execution_count": 45,
   "metadata": {},
   "outputs": [
    {
     "name": "stdout",
     "output_type": "stream",
     "text": [
      "                                1               2                 3   \\\n",
      "a perfect circle  a perfect circle    lostprophets   crystal castles   \n",
      "abba                          abba       tori amos  dropkick murphys   \n",
      "ac/dc                        ac/dc      mando diao        schandmaul   \n",
      "adam green              adam green  regina spektor              mgmt   \n",
      "aerosmith                aerosmith    the national       the subways   \n",
      "...                            ...             ...               ...   \n",
      "trivium                    trivium  kelly clarkson        kanye west   \n",
      "u2                              u2     amon amarth               atb   \n",
      "underoath                underoath      schandmaul              dido   \n",
      "volbeat                    volbeat      audioslave       alicia keys   \n",
      "yann tiersen          yann tiersen   amy macdonald           incubus   \n",
      "\n",
      "                               4                         5   \\\n",
      "a perfect circle   regina spektor            tegan and sara   \n",
      "abba                    deichkind                portishead   \n",
      "ac/dc                      eminem                      mika   \n",
      "adam green           jack johnson        the postal service   \n",
      "aerosmith            bad religion  rage against the machine   \n",
      "...                           ...                       ...   \n",
      "trivium           crystal castles                 radiohead   \n",
      "u2                        cascada      kings of convenience   \n",
      "underoath               radiohead                       afi   \n",
      "volbeat               equilibrium               simple plan   \n",
      "yann tiersen       blind guardian        panic at the disco   \n",
      "\n",
      "                                       6                        7   \\\n",
      "a perfect circle                  ramones                the kooks   \n",
      "abba                              nirvana                 interpol   \n",
      "ac/dc             queens of the stone age    the chemical brothers   \n",
      "adam green                 blind guardian         a perfect circle   \n",
      "aerosmith            funeral for a friend         a perfect circle   \n",
      "...                                   ...                      ...   \n",
      "trivium                         the kooks         boards of canada   \n",
      "u2                            snow patrol               audioslave   \n",
      "underoath                       gentleman  bullet for my valentine   \n",
      "volbeat              kings of convenience             machine head   \n",
      "yann tiersen                         mgmt              lacuna coil   \n",
      "\n",
      "                                 8                   9                  10  \n",
      "a perfect circle               mgmt               bjork         digitalism  \n",
      "abba                 tegan and sara  panic at the disco         the smiths  \n",
      "ac/dc             killswitch engage          guano apes            editors  \n",
      "adam green               digitalism             ramones            justice  \n",
      "aerosmith            the libertines       frank sinatra        the wombats  \n",
      "...                             ...                 ...                ...  \n",
      "trivium                      oomph!    a perfect circle     the libertines  \n",
      "u2                    dream theater                 him            incubus  \n",
      "underoath           crystal castles          mando diao   the decemberists  \n",
      "volbeat                     genesis      britney spears  the white stripes  \n",
      "yann tiersen        subway to sally         david bowie   a perfect circle  \n",
      "\n",
      "[285 rows x 10 columns]\n"
     ]
    }
   ],
   "source": [
    "# print (data_item_base_frame)\n",
    "# data_item_base_frame.to_csv('data_item_base_frame.csv', sep=',', encoding='utf-8')\n",
    "# Lọc ra các láng giềng có độ tương tự gần giống\n",
    "data_neighbors = pd.DataFrame(index=data_item_base_frame.columns, columns = range(1, 11))\n",
    "for i in range(0, len(data_item_base_frame.columns)):\n",
    "   data_neighbors.iloc[i,:10] = data_item_base_frame.iloc[0:, i].sort_values(ascending=False)[:10].index\n",
    "\n",
    "print (data_neighbors)\n"
   ]
  }
 ],
 "metadata": {
  "kernelspec": {
   "display_name": "tensorflow",
   "language": "python",
   "name": "python3"
  },
  "language_info": {
   "codemirror_mode": {
    "name": "ipython",
    "version": 3
   },
   "file_extension": ".py",
   "mimetype": "text/x-python",
   "name": "python",
   "nbconvert_exporter": "python",
   "pygments_lexer": "ipython3",
   "version": "3.10.8"
  },
  "orig_nbformat": 4,
  "vscode": {
   "interpreter": {
    "hash": "bc08e660f69e1b71747c5d5632d76955898dc64a65b92c281ffa833fbdc052a1"
   }
  }
 },
 "nbformat": 4,
 "nbformat_minor": 2
}
