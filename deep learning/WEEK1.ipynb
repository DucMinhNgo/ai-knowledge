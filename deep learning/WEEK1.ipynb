{
 "cells": [
  {
   "attachments": {},
   "cell_type": "markdown",
   "metadata": {},
   "source": [
    "# Giới thiệu môn học\n",
    "- Phù hợp với những bài toán dữ liệu phi cấu trúc: hình ảnh (video), văn bản, âm thanh.\n",
    "- Machine learning 3 loại:\n",
    "  + Supervisor: Classification: dự đoán thuộc lớp nào, Regression (hồi quy): dự đoán 1 giá trị:\n",
    "    - Bài toán nhận diện số viết tay: phân lớp chỉ đúng hoặc sai, hồi quy (hàm đánh giá): 7 -> 6 (lệch -1), 7 -> 0 (lệch -7) về ngữ nghĩa hàm đánh giá thể đánh giá model (7->6) đúng hơn (7->0). Đối với classification hai model đều cho ra kết quả sai.\n",
    "  + Unsupervisor: Clustering.\n",
    "  + RL: \n",
    "- DL (pretrain): Mẹ, tôi, tao.\n",
    "- representation learning: \n",
    "- data synthesis (tạo dữ liệu):\n",
    "- transfer learning:\n",
    "- varian and bias:\n",
    "  + overfiting (ghi nhớ)\n",
    "  + underfitting (luôn ra cùng đáp án)\n",
    "  + good balance\n",
    "\n",
    "- Làm sao để tìm được trọng số thỏa được bài toán (mò = traning): tìm được bộ trọng số optimize parameter.\n",
    "- Đếm số trọng số lưu ý công thêm bias (6 -> 4 -> 3-> 1): 47 trọng số.\n",
    "- bias: linh hoạt hơn\n",
    "- backpropagation: cập nhật trọng số\n",
    "- Kết quả đạo hàm: cho biết hướng thay đổi của hàm số tăng hay giảm. đạo hàm trên từng trọng số để điều chỉnh cho hàm loss tăng hay giảm.\n",
    "\n",
    "- Dừng:\n",
    "  + Làm loss không giảm nữa (hội tụ).\n",
    "  + Chạy bao nhiêu epoch sẽ dừng.\n",
    "\n",
    "- Thêm dữ liệu thì độ phủ cao hơn thì hàm sẽ đúng hơn.\n",
    "- Nhiều lớp thì đúng, quá nhiều lớp thì ghi nhớ -> overfitting.\n",
    "\n",
    "\n",
    "- Hàm kích hoạt:\n",
    "  - phá tuyến tính thành phi tuyến\n",
    "  - Biến quá trị lớn thành giá trị từ [0, 1]\n"
   ]
  },
  {
   "attachments": {},
   "cell_type": "markdown",
   "metadata": {},
   "source": [
    "# Hình thức thi\n",
    "- Thực hành (colab)\n",
    "\n",
    "- Hình thức tính điểm:\n",
    "  + Seminar (50%): chọn 1 bài báo hỏi đáp.\n",
    "  + Đồ án (40%): cuộc thi (Kagle, Zalo).\n",
    "  + Bài tập hàng tuần (10-20%): làm trên colab nộp cá nhân.\n",
    "\n",
    "- Seminar + thực hành (5 người 1 nhóm) bắt đầu t tuần 7 hoặc 8."
   ]
  }
 ],
 "metadata": {
  "language_info": {
   "name": "python"
  },
  "orig_nbformat": 4
 },
 "nbformat": 4,
 "nbformat_minor": 2
}
