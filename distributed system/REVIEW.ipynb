{
 "cells": [
  {
   "cell_type": "markdown",
   "metadata": {},
   "source": [
    "# Hệ thống phân tán thường đảm bảo đầy đủ các tiêu chí.\n",
    "- Fault Tolerance (chịu lỗi).\n",
    "- Unlimited Storage (lưu trữ không giới hạn).\n",
    "- Luôn phản hồi.\n",
    "- Bảo mật.\n",
    "\n",
    "=> Network Partition (mạng bị phân mảng)."
   ]
  },
  {
   "cell_type": "markdown",
   "metadata": {},
   "source": [
    "# Xây dựng hệ thống phân tán cho hệ thống mạng như thế nào\n",
    "- Hoàn toàn.\n",
    "- Chập chờn.\n",
    "- Thay đổi dữ liệu."
   ]
  },
  {
   "cell_type": "markdown",
   "metadata": {},
   "source": [
    "# Trả lời câu hỏi What -> Why -> How -> When -> Where\n",
    "- consistency: nhất quán.\n",
    "- eventual consistency: nhất quán sau một thời điểm.\n",
    "- inconsistency: không nhất quán."
   ]
  },
  {
   "cell_type": "markdown",
   "metadata": {},
   "source": [
    "# Replication\n",
    "- Dùng version để so khớp:\n",
    "    + Phản hồi ngay.\n",
    "    + Cập nhật hết server rồi mới trả về.\n",
    "    + Cập nhật 2 server trả về kết quả rồi tiếp tục cập những server còn lại.\n",
    "-> lampod clock và vertor clock."
   ]
  },
  {
   "cell_type": "markdown",
   "metadata": {},
   "source": [
    "# Tính nhất quán (consistency).\n",
    "- Read and Write consistency.\n",
    "- Evantual consistency.\n",
    "- Sequence consistency.\n",
    "\n",
    "Lưu ý: đồng bộ thời gian:\n",
    "- Tính thời gian đồng bộ = (Thời gian trả về kết quả - Thời gian ban đầu) / 2.\n",
    "\n",
    "Note:\n",
    "Mỗi server sẽ có 1 elaction timer sẽ được random cho các máy, không chọn thời gian timer giống nhau.\n",
    "- Tổng số máy là 2f + 1, số phiểu >= f + 1.\n",
    "- Nếu số phiếu bằng nhau thì vote lại.\n",
    "- Mỗi máy chỉ được vote 1 phiếu (được phép vote cho chính mình).\n",
    "- Một khi máy yêu cầu bỏ phiếu mà có máy chưa vote cho máy nào thì sẽ bỏ phiếu cho máy đó.\n",
    "\n",
    "=> Leader sẽ có 2 time\n",
    "=> Số lượng server tối đa có thể chết là f.\n",
    "\n",
    "- Consistency:\n",
    "+ Terminal (kết thúc).\n",
    "+ Aggrement (đồng thuận).\n",
    "+ Validative (sự hợp lệ)."
   ]
  },
  {
   "cell_type": "markdown",
   "metadata": {},
   "source": [
    "# CAP\n",
    "- Consistency (C).\n",
    "- Availability (A).\n",
    "- Partition tolerance (P)."
   ]
  },
  {
   "cell_type": "markdown",
   "metadata": {},
   "source": [
    "# ACID:\n",
    "- Atomicity: Tất cả đều chạy thành công hoặc tất cả đểu fail.\n",
    "- Consistency: Tính nhất quán.\n",
    "- Isolation: Tính độc lập.\n",
    "- Durability: Không mất mát dữ liệu."
   ]
  }
 ],
 "metadata": {
  "language_info": {
   "name": "python"
  },
  "orig_nbformat": 4
 },
 "nbformat": 4,
 "nbformat_minor": 2
}
