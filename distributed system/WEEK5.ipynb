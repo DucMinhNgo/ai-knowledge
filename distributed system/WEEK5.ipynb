{
 "cells": [
  {
   "cell_type": "markdown",
   "metadata": {},
   "source": [
    "# Consistency (tính nhất quán)\n",
    "- Read and Write consistency\n",
    "- Evantual consistency\n",
    "- Sequence consistency\n",
    "\n",
    "lưu ý: đồng bộ thời gian: giả sử thời gian đi về bằng nhau delta = (thời gian trả về - thời gian ban đầu) / 2.\n",
    "\n",
    "# Lamport Clock (Vector Clock).\n",
    "Lamport Clock: lamport timestamp."
   ]
  }
 ],
 "metadata": {
  "language_info": {
   "name": "python"
  },
  "orig_nbformat": 4
 },
 "nbformat": 4,
 "nbformat_minor": 2
}
