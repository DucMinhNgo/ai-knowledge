{
 "cells": [
  {
   "cell_type": "markdown",
   "metadata": {},
   "source": [
    "# FLP: viết tắt tên của 3 tác giả.\n",
    "Consistency:\n",
    "+ Terminal (kết thúc).\n",
    "+ Aggrement (đồng thuận).\n",
    "+ Validative (sự hợp lệ).\n",
    "\n",
    "Note: kết quả đầu ra.\n",
    "Commitment rules.\n",
    "\n",
    "commited index < current term (ko phản hồi về cho server).\n",
    "snapshot\n",
    "\n",
    "Thêm 1 máy, xoá 1 máy."
   ]
  }
 ],
 "metadata": {
  "language_info": {
   "name": "python"
  },
  "orig_nbformat": 4
 },
 "nbformat": 4,
 "nbformat_minor": 2
}
