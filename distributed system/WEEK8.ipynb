{
 "cells": [
  {
   "cell_type": "markdown",
   "metadata": {},
   "source": [
    "1. Fail Stop\n",
    "2. Fail Restart\n",
    "3. Omittion \n",
    "4. Byzatine"
   ]
  },
  {
   "cell_type": "markdown",
   "metadata": {},
   "source": [
    "# CAP\n",
    "Consistency (C)\n",
    "Availability (A)\n",
    "Partition tolerance (P)"
   ]
  },
  {
   "cell_type": "markdown",
   "metadata": {},
   "source": [
    "# Consistent Hashing\n",
    "- Virtual Nodes."
   ]
  }
 ],
 "metadata": {
  "language_info": {
   "name": "python"
  },
  "orig_nbformat": 4
 },
 "nbformat": 4,
 "nbformat_minor": 2
}
