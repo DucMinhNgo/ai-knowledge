{
 "cells": [
  {
   "cell_type": "markdown",
   "metadata": {},
   "source": [
    "# Th server chết xong phục hồi: ghi file log (request).\n",
    "Replicated State Machine.\n",
    "\n",
    "# Vote cho 5 máy (Mỗi server sẽ có 1 election timer: sẽ được random cho các máy, ko chọn thời gian timer giống nhau):\n",
    "- Số phiếu >= 3.\n",
    "- Nếu số phiếu bằng nhau thì vote lại.\n",
    "- Mỗi máy chỉ được vote 1 phiếu (được phép vote cho chính mình).\n",
    "- Một khi máy yêu cầu vận động mà máy chưa vote cho ai thì sẽ phải vote cho người đó.\n",
    "\n",
    "Note: Leader sẽ có Timer nhỏ nhất (15s): Leader sẽ có 2 Timer. Reset Timer và chuyển status thành follower.\n",
    "    + Mỗi một leader sẽ được gắn với một nhiệm kì. Mỗi follower sẽ lưu lại nhiệm kỳ của leader hiện tại.\n",
    "\n",
    "Tổng số lượng server: 2f + 1.\n",
    "Số lượng server tối thiểu để vote làm leader: f + 1 (Khi cập nhật được f + 1: gọi là commited index).\n",
    "Số lượng server cho phép down (chết): f.\n",
    "\n",
    "Đọc thêm: Khi tăng số lượng server.\n",
    "\n",
    "# Hai lý thuyết thiết kế hệ thống.\n",
    "Paxos\n",
    "Raft (Replicated and Fault Tolenrance): Chịu lỗi.\n",
    "\n",
    "# Bài lab chỉnh lại 2 con số rồi chạy lại (chỉnh lại hai con số)."
   ]
  }
 ],
 "metadata": {
  "language_info": {
   "name": "python"
  },
  "orig_nbformat": 4
 },
 "nbformat": 4,
 "nbformat_minor": 2
}
