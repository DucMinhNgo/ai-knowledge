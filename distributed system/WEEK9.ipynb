{
 "cells": [
  {
   "cell_type": "markdown",
   "metadata": {},
   "source": [
    "# Vấn đáp cuối kỳ (mang theo giấy và 1 cây bút).\n",
    "\n",
    "Atomic (tất cả đều chạy thành công hoặc tất cả đều fail).\n",
    "ACID\n",
    "https://tedu.com.vn/sql-server/thuoc-tinh-acid-trong-co-so-du-lieu-la-gi-27.html\n"
   ]
  },
  {
   "cell_type": "markdown",
   "metadata": {},
   "source": [
    "![Alt text](image.png)"
   ]
  },
  {
   "cell_type": "markdown",
   "metadata": {},
   "source": [
    "Tạo 1 Table mỗi lần gọi lock thì kiểm tra xem dữ liệu (ghi log xem có biến đó đang bị thay đổi)\n",
    "two phrase commit (locking)."
   ]
  }
 ],
 "metadata": {
  "language_info": {
   "name": "python"
  },
  "orig_nbformat": 4
 },
 "nbformat": 4,
 "nbformat_minor": 2
}
