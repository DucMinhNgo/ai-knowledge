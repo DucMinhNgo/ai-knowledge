{
 "cells": [
  {
   "cell_type": "markdown",
   "metadata": {},
   "source": [
    "# replication\n",
    "Chọn 5 server, 2 client.\n",
    "Lab3: 16h00 ngày 18/08/2023.\n",
    "\n",
    "Retry 5 lần.\n",
    "Mỗi lần cập nhật thì tăng version lên. Dùng version để so khớp.\n",
    "\n",
    "\n",
    "- Trả về ngay.\n",
    "- Cập nhật hết mới trả về.\n",
    "- Cập nhật 2 server trả kết quả rồi tiếp tục cập nhật.\n",
    "\n",
    "-> Test case 1: PUT, GET, primary dead.\n",
    "\n",
    "# lampod clock\n",
    "# vector clock\n",
    "\n",
    "bit.ly/3RDOADk"
   ]
  }
 ],
 "metadata": {
  "language_info": {
   "name": "python"
  },
  "orig_nbformat": 4
 },
 "nbformat": 4,
 "nbformat_minor": 2
}
