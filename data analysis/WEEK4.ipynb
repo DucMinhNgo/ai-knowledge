{
 "cells": [
  {
   "attachments": {},
   "cell_type": "markdown",
   "metadata": {},
   "source": [
    "# Seminar (khoảng 3 tuần nữa):\n",
    "- Rút ra luật (có thể chọn: decision tree).\n",
    "- Cụm (cluster analysis).\n",
    "- Mạng neural."
   ]
  },
  {
   "attachments": {},
   "cell_type": "markdown",
   "metadata": {},
   "source": [
    "# Tìm cây quyết định và rút trích ra luật.\n",
    "- Tìm độ hỗ trợ và độ tin cậy.\n",
    "  + Tìm độ tin cậy.\n",
    "  + Tìm độ support."
   ]
  },
  {
   "attachments": {},
   "cell_type": "markdown",
   "metadata": {},
   "source": [
    "# Clustering\n",
    "- K-Means.\n",
    "- Hierarchical Clustering.\n",
    "- k-d Tree.\n",
    "- |D| = 10, k = 2 => có 2^10 - 1 phần tử.\n",
    "- sử dụng kỹ thuật elbow để tính ra số cụm.\n"
   ]
  }
 ],
 "metadata": {
  "language_info": {
   "name": "python"
  },
  "orig_nbformat": 4
 },
 "nbformat": 4,
 "nbformat_minor": 2
}
