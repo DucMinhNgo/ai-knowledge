{
 "cells": [
  {
   "cell_type": "code",
   "execution_count": 6,
   "metadata": {},
   "outputs": [],
   "source": [
    "# import library\n",
    "import numpy as np\n",
    "import matplotlib.pyplot as plt\n",
    "import statsmodels.api as sm\n",
    "from scipy import stats"
   ]
  },
  {
   "cell_type": "code",
   "execution_count": 7,
   "metadata": {},
   "outputs": [
    {
     "name": "stdout",
     "output_type": "stream",
     "text": [
      "Giá trị t-statistic:\n",
      "[15.88890236 -9.58      ]\n",
      "Giá trị p-value:\n",
      "[2.46421813e-07 1.16824399e-05]\n"
     ]
    },
    {
     "name": "stderr",
     "output_type": "stream",
     "text": [
      "/opt/homebrew/Caskroom/miniconda/base/envs/tensorflow/lib/python3.10/site-packages/scipy/stats/_stats_py.py:1736: UserWarning: kurtosistest only valid for n>=20 ... continuing anyway, n=10\n",
      "  warnings.warn(\"kurtosistest only valid for n>=20 ... continuing \"\n"
     ]
    },
    {
     "data": {
      "text/html": [
       "<table class=\"simpletable\">\n",
       "<caption>OLS Regression Results</caption>\n",
       "<tr>\n",
       "  <th>Dep. Variable:</th>            <td>y</td>        <th>  R-squared:         </th> <td>   0.920</td>\n",
       "</tr>\n",
       "<tr>\n",
       "  <th>Model:</th>                   <td>OLS</td>       <th>  Adj. R-squared:    </th> <td>   0.910</td>\n",
       "</tr>\n",
       "<tr>\n",
       "  <th>Method:</th>             <td>Least Squares</td>  <th>  F-statistic:       </th> <td>   91.78</td>\n",
       "</tr>\n",
       "<tr>\n",
       "  <th>Date:</th>             <td>Fri, 26 May 2023</td> <th>  Prob (F-statistic):</th> <td>1.17e-05</td>\n",
       "</tr>\n",
       "<tr>\n",
       "  <th>Time:</th>                 <td>15:18:53</td>     <th>  Log-Likelihood:    </th> <td> -21.096</td>\n",
       "</tr>\n",
       "<tr>\n",
       "  <th>No. Observations:</th>      <td>    10</td>      <th>  AIC:               </th> <td>   46.19</td>\n",
       "</tr>\n",
       "<tr>\n",
       "  <th>Df Residuals:</th>          <td>     8</td>      <th>  BIC:               </th> <td>   46.80</td>\n",
       "</tr>\n",
       "<tr>\n",
       "  <th>Df Model:</th>              <td>     1</td>      <th>                     </th>     <td> </td>   \n",
       "</tr>\n",
       "<tr>\n",
       "  <th>Covariance Type:</th>      <td>nonrobust</td>    <th>                     </th>     <td> </td>   \n",
       "</tr>\n",
       "</table>\n",
       "<table class=\"simpletable\">\n",
       "<tr>\n",
       "    <td></td>       <th>coef</th>     <th>std err</th>      <th>t</th>      <th>P>|t|</th>  <th>[0.025</th>    <th>0.975]</th>  \n",
       "</tr>\n",
       "<tr>\n",
       "  <th>const</th> <td>   93.1642</td> <td>    5.863</td> <td>   15.889</td> <td> 0.000</td> <td>   79.643</td> <td>  106.685</td>\n",
       "</tr>\n",
       "<tr>\n",
       "  <th>x1</th>    <td>   -9.5323</td> <td>    0.995</td> <td>   -9.580</td> <td> 0.000</td> <td>  -11.827</td> <td>   -7.238</td>\n",
       "</tr>\n",
       "</table>\n",
       "<table class=\"simpletable\">\n",
       "<tr>\n",
       "  <th>Omnibus:</th>       <td> 0.372</td> <th>  Durbin-Watson:     </th> <td>   0.930</td>\n",
       "</tr>\n",
       "<tr>\n",
       "  <th>Prob(Omnibus):</th> <td> 0.830</td> <th>  Jarque-Bera (JB):  </th> <td>   0.366</td>\n",
       "</tr>\n",
       "<tr>\n",
       "  <th>Skew:</th>          <td>-0.341</td> <th>  Prob(JB):          </th> <td>   0.833</td>\n",
       "</tr>\n",
       "<tr>\n",
       "  <th>Kurtosis:</th>      <td> 2.357</td> <th>  Cond. No.          </th> <td>    50.4</td>\n",
       "</tr>\n",
       "</table><br/><br/>Notes:<br/>[1] Standard Errors assume that the covariance matrix of the errors is correctly specified."
      ],
      "text/latex": [
       "\\begin{center}\n",
       "\\begin{tabular}{lclc}\n",
       "\\toprule\n",
       "\\textbf{Dep. Variable:}    &        y         & \\textbf{  R-squared:         } &     0.920   \\\\\n",
       "\\textbf{Model:}            &       OLS        & \\textbf{  Adj. R-squared:    } &     0.910   \\\\\n",
       "\\textbf{Method:}           &  Least Squares   & \\textbf{  F-statistic:       } &     91.78   \\\\\n",
       "\\textbf{Date:}             & Fri, 26 May 2023 & \\textbf{  Prob (F-statistic):} &  1.17e-05   \\\\\n",
       "\\textbf{Time:}             &     15:18:53     & \\textbf{  Log-Likelihood:    } &   -21.096   \\\\\n",
       "\\textbf{No. Observations:} &          10      & \\textbf{  AIC:               } &     46.19   \\\\\n",
       "\\textbf{Df Residuals:}     &           8      & \\textbf{  BIC:               } &     46.80   \\\\\n",
       "\\textbf{Df Model:}         &           1      & \\textbf{                     } &             \\\\\n",
       "\\textbf{Covariance Type:}  &    nonrobust     & \\textbf{                     } &             \\\\\n",
       "\\bottomrule\n",
       "\\end{tabular}\n",
       "\\begin{tabular}{lcccccc}\n",
       "               & \\textbf{coef} & \\textbf{std err} & \\textbf{t} & \\textbf{P$> |$t$|$} & \\textbf{[0.025} & \\textbf{0.975]}  \\\\\n",
       "\\midrule\n",
       "\\textbf{const} &      93.1642  &        5.863     &    15.889  &         0.000        &       79.643    &      106.685     \\\\\n",
       "\\textbf{x1}    &      -9.5323  &        0.995     &    -9.580  &         0.000        &      -11.827    &       -7.238     \\\\\n",
       "\\bottomrule\n",
       "\\end{tabular}\n",
       "\\begin{tabular}{lclc}\n",
       "\\textbf{Omnibus:}       &  0.372 & \\textbf{  Durbin-Watson:     } &    0.930  \\\\\n",
       "\\textbf{Prob(Omnibus):} &  0.830 & \\textbf{  Jarque-Bera (JB):  } &    0.366  \\\\\n",
       "\\textbf{Skew:}          & -0.341 & \\textbf{  Prob(JB):          } &    0.833  \\\\\n",
       "\\textbf{Kurtosis:}      &  2.357 & \\textbf{  Cond. No.          } &     50.4  \\\\\n",
       "\\bottomrule\n",
       "\\end{tabular}\n",
       "%\\caption{OLS Regression Results}\n",
       "\\end{center}\n",
       "\n",
       "Notes: \\newline\n",
       " [1] Standard Errors assume that the covariance matrix of the errors is correctly specified."
      ],
      "text/plain": [
       "<class 'statsmodels.iolib.summary.Summary'>\n",
       "\"\"\"\n",
       "                            OLS Regression Results                            \n",
       "==============================================================================\n",
       "Dep. Variable:                      y   R-squared:                       0.920\n",
       "Model:                            OLS   Adj. R-squared:                  0.910\n",
       "Method:                 Least Squares   F-statistic:                     91.78\n",
       "Date:                Fri, 26 May 2023   Prob (F-statistic):           1.17e-05\n",
       "Time:                        15:18:53   Log-Likelihood:                -21.096\n",
       "No. Observations:                  10   AIC:                             46.19\n",
       "Df Residuals:                       8   BIC:                             46.80\n",
       "Df Model:                           1                                         \n",
       "Covariance Type:            nonrobust                                         \n",
       "==============================================================================\n",
       "                 coef    std err          t      P>|t|      [0.025      0.975]\n",
       "------------------------------------------------------------------------------\n",
       "const         93.1642      5.863     15.889      0.000      79.643     106.685\n",
       "x1            -9.5323      0.995     -9.580      0.000     -11.827      -7.238\n",
       "==============================================================================\n",
       "Omnibus:                        0.372   Durbin-Watson:                   0.930\n",
       "Prob(Omnibus):                  0.830   Jarque-Bera (JB):                0.366\n",
       "Skew:                          -0.341   Prob(JB):                        0.833\n",
       "Kurtosis:                       2.357   Cond. No.                         50.4\n",
       "==============================================================================\n",
       "\n",
       "Notes:\n",
       "[1] Standard Errors assume that the covariance matrix of the errors is correctly specified.\n",
       "\"\"\""
      ]
     },
     "execution_count": 7,
     "metadata": {},
     "output_type": "execute_result"
    }
   ],
   "source": [
    "# Câu 1: Hãy lập mô hình hồi quy tuyến tính mô tả quan hệ giữa tổng vốn đầu tư và lãi suất ngân hàng (mô hình hồi quy đơn)? Nêu ý nghĩa của các hệ số hồi quy ước lượng được? Đánh giá mức độ phù hợp của mô hình?\n",
    "# Tạo dữ liệu mẫu\n",
    "X = np.array([7, 6.5, 6.5, 6.0, 6.0, 6.0, 5.5, 5.5, 5.0, 4.5])\n",
    "Y = np.array([29, 32, 31, 34, 32, 35, 40, 43, 48, 50])\n",
    "\n",
    "# Thêm intercept vào ma trận X\n",
    "X = sm.add_constant(X)\n",
    "\n",
    "# Xây dựng mô hình hồi quy tuyến tính\n",
    "model = sm.OLS(Y, X)\n",
    "results = model.fit()\n",
    "\n",
    "print(\"Giá trị t-statistic:\")\n",
    "print(results.tvalues)\n",
    "print(\"Giá trị p-value:\")\n",
    "print(results.pvalues)\n",
    "results.summary()\n"
   ]
  },
  {
   "cell_type": "code",
   "execution_count": 8,
   "metadata": {},
   "outputs": [
    {
     "name": "stdout",
     "output_type": "stream",
     "text": [
      "Giả thiết trên sai.\n"
     ]
    }
   ],
   "source": [
    "# Câu 2: Kiểm định giả thiết “Hệ số hồi quy của X trong hàm hồi quy tổng thể bằng 0 với mức ý nghĩa 2%” và nêu ý nghĩa của kết quả?\n",
    "# Kiểm tra giả thiết\n",
    "alpha = 0.02  # Mức ý nghĩa 2%\n",
    "t_test = results.t_test([0, 1])  # Kiểm định giả thiết về hệ số hồi quy của X\n",
    "\n",
    "# So sánh giá trị t-score với giá trị t-critical\n",
    "t_score = t_test.tvalue[0, 0]\n",
    "t_critical = stats.t.ppf(1 - alpha/2, len(X) - 2)  # Giá trị t-critical\n",
    "\n",
    "if np.abs(t_score) > t_critical:\n",
    "    print(\"Giả thiết trên sai.\")\n",
    "else:\n",
    "    print(\"Không đủ bằng chứng để bác bỏ giả thiết H₀: Hệ số hồi quy của X bằng 0.\")"
   ]
  },
  {
   "cell_type": "code",
   "execution_count": 9,
   "metadata": {},
   "outputs": [
    {
     "name": "stdout",
     "output_type": "stream",
     "text": [
      "Dự báo tổng vốn đầu tư trung bình khi lãi suất là 4.8% năm: [47.40895522]\n",
      "Khoảng tin cậy (98%): [43.76, 51.06] triệu đồng.\n"
     ]
    }
   ],
   "source": [
    "# Câu 3: Dự báo tổng vốn đầu tư trung bình khi lãi suất là 4.8% năm với độ tin cậy 98%?\n",
    "\n",
    "# Dự báo tổng vốn đầu tư trung bình với lãi suất 4.8% năm và độ tin cậy\n",
    "lai_suat_du_bao = 4.8\n",
    "X_du_bao = np.array([1, lai_suat_du_bao])\n",
    "predictions = results.get_prediction(X_du_bao)\n",
    "\n",
    "# Lấy giá trị dự báo và khoảng tin cậy\n",
    "von_dau_tu_du_bao = predictions.predicted_mean\n",
    "khoang_tin_cay = predictions.conf_int(alpha=0.02)  # Độ tin cậy 98% (alpha = 0.02)\n",
    "\n",
    "print(f\"Dự báo tổng vốn đầu tư trung bình khi lãi suất là {lai_suat_du_bao}% năm: {von_dau_tu_du_bao}\")\n",
    "print(f\"Khoảng tin cậy (98%): [{khoang_tin_cay[0,0]:.2f}, {khoang_tin_cay[0,1]:.2f}] triệu đồng.\")"
   ]
  }
 ],
 "metadata": {
  "kernelspec": {
   "display_name": "Python 3 (ipykernel)",
   "language": "python",
   "name": "python3"
  },
  "language_info": {
   "codemirror_mode": {
    "name": "ipython",
    "version": 3
   },
   "file_extension": ".py",
   "mimetype": "text/x-python",
   "name": "python",
   "nbconvert_exporter": "python",
   "pygments_lexer": "ipython3",
   "version": "3.10.8"
  }
 },
 "nbformat": 4,
 "nbformat_minor": 2
}
