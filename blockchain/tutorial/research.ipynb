{
 "cells": [
  {
   "cell_type": "markdown",
   "metadata": {},
   "source": [
    "Lộ trình:\n",
    "- bloackchain: khái niệm cơ bản\n",
    "- dapp: Dêcntralized applications\n",
    "- solidity and smart contracts\n",
    "- project - multisig wallet\n",
    "- dapp các loại\n",
    "- workshop projects"
   ]
  },
  {
   "cell_type": "markdown",
   "metadata": {},
   "source": [
    "# Là công nghệ để lưu trữ dữ liệu\n",
    "block = metadata + transaction (tất cả những cái gì thay đổi tronmg blockchain).\n",
    "\n",
    "Điểm nổi bật của block chains:\n",
    "1. Immutability (không thể thay đổi) => nhờ vào consensus mechainism (thuật toán đồng thuận) đảm bảo không ai được phép ghi một transaction không hợp lệ lêm block.\n",
    "2. Decentralization (tất cả mọ người đều có thể tham gia)\n",
    "\n",
    "Điểm yếu:\n",
    "1. Mỗi giao dịch đều sẽ phải tốn chi phí\n",
    "2. Chậm (các node validator confirm với nhau)."
   ]
  }
 ],
 "metadata": {
  "language_info": {
   "name": "python"
  }
 },
 "nbformat": 4,
 "nbformat_minor": 2
}
