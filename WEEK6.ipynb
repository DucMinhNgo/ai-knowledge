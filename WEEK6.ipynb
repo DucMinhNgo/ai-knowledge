{
 "cells": [
  {
   "attachments": {},
   "cell_type": "markdown",
   "metadata": {},
   "source": [
    "# Giới tiệu về trí tuệ nhân tạo và máy học\n",
    "- Quá trình tư duy (tính, toán):\n",
    "  + tính (định lượng)\n",
    "  + toán (nghiên cứu)\n",
    "- học, hành.\n",
    "- ghi, nhớ.\n",
    "- kiếm (đã có rồi), tìm (chưa chắc đã có).\n",
    "- suy (phải có cơ sở), luận (không có cơ sở).\n",
    "\n",
    "# Có 3 loại máy tính\n",
    "- tính tuần tự (bellman ford)\n",
    "- tính song song (neuron)\n",
    "- máy tính lượng tử (quantum)\n",
    "- fuzzy neuron khác neuron fuzzy.\n",
    "\n",
    "# Quy trình giao tiếp giữa CPU và memmory\n",
    "- Tìm lệnh => giải mã lệnh => thực hiện lệnh\n",
    "\n",
    "# Tiến hóa thuật toán\n",
    "program (chương trình là mã hóa của thuật toán)\n",
    "Thuật toán (là tập hợp các câu lệnh được tính toán theo một trình tự mà luôn đưa ra một kết quả):\n",
    "  1. Tính xác định (đơn định): mn làm như nhau không đưa ra kết quả khác được.\n",
    "  2. Tính dừng (hữu hạn bước): người lập trình phải chi ra được chương trình khi nào dừng.\n",
    "  3. Tính đúng (kết quả).\n",
    "  4. Tính hiệu quả.\n",
    "  5. Tính phổ dụng: chỉ sử dụng cho 1 lớp bài toán.\n",
    "  6. I/O.\n",
    "\n",
    "Muốn máy tính xử lý được phải chuyển được từ tập vô hạn sang tậo hữu hạn.\n",
    "\n",
    "program: (mở rộng) => heuristic (chọn ngẫu nhiên: tăng tốc độ, giảm quá trình vét cạn): (không áp dụng cho hết tất cả mọi bài toán).\n",
    "\n",
    "# Nhiệm vụ của trí tuệ nhân tạo:\n",
    "- Giải các bài toán trong thực tế chưa có cách làm.\n",
    "\n",
    "# Có dữ liệu yêu cầu máy tính đưa ra cách làm: machine learning.\n",
    "- Data (dữ liệu thô) -> information (dữ liệu + ngữ cảnh) -> knowledge (tri thức: thông tin + luật) -> wisdom (tri thức + kinh nghiệm)\n",
    "\n",
    "# Học qua logic:\n",
    "- Số đỉnh - số đối tượng = 7 (Trong ví dụ phân lớp A, B): Học từ dữ liệu.\n",
    "\n",
    "# Trí tuệ nhân tạo là gì?\n",
    "- Cá nhân hóa\n",
    "\n",
    "AI (mục tiêu)\n",
    "ML (phương pháp)\n",
    "DL (phương pháp hiện đại để đạt được mục tiêu đó).\n"
   ]
  }
 ],
 "metadata": {
  "kernelspec": {
   "display_name": "Python 3",
   "language": "python",
   "name": "python3"
  },
  "language_info": {
   "name": "python",
   "version": "3.11.1"
  },
  "orig_nbformat": 4,
  "vscode": {
   "interpreter": {
    "hash": "5c7b89af1651d0b8571dde13640ecdccf7d5a6204171d6ab33e7c296e100e08a"
   }
  }
 },
 "nbformat": 4,
 "nbformat_minor": 2
}
