{
 "cells": [
  {
   "cell_type": "code",
   "execution_count": 13,
   "metadata": {},
   "outputs": [
    {
     "name": "stdout",
     "output_type": "stream",
     "text": [
      "[[  6.    148.     72.    ...   0.627  50.      1.   ]\n",
      " [  1.     85.     66.    ...   0.351  31.      0.   ]\n",
      " [  8.    183.     64.    ...   0.672  32.      1.   ]\n",
      " ...\n",
      " [  5.    121.     72.    ...   0.245  30.      0.   ]\n",
      " [  1.    126.     60.    ...   0.349  47.      1.   ]\n",
      " [  1.     93.     70.    ...   0.315  23.      0.   ]]\n"
     ]
    }
   ],
   "source": [
    "# Keras\n",
    "# 1. Load dữ liệu\n",
    "from numpy import loadtxt\n",
    "from sklearn.model_selection import train_test_split\n",
    "from keras import Sequential\n",
    "from keras.layers import Dense\n",
    "from keras.models import load_model\n",
    "import os\n",
    "import numpy\n",
    "\n",
    "os.environ[\"CUDA_VISIBLE_DEVICES\"] = \"-1\"\n",
    "\n",
    "dataset = loadtxt('../datasets/pima-indians-diabetes.data.csv', delimiter=',')\n",
    "\n",
    "print (dataset)"
   ]
  },
  {
   "cell_type": "code",
   "execution_count": 14,
   "metadata": {},
   "outputs": [],
   "source": [
    "# Chỉ lấy giá trị từ 0, 7\n",
    "X = dataset[:, 0:8]\n",
    "y = dataset[:, 8]\n",
    "\n",
    "# Chia tập dữ liệu, chia (%) Phần nhiều dành cho train\n",
    "X_train_val, X_test, y_train_val, y_test = train_test_split(X, y, test_size=0.2)\n",
    "X_train, X_val, y_train, y_val = train_test_split(X_train_val, y_train_val, test_size=0.2)"
   ]
  },
  {
   "cell_type": "code",
   "execution_count": 13,
   "metadata": {},
   "outputs": [
    {
     "name": "stdout",
     "output_type": "stream",
     "text": [
      "Model: \"sequential\"\n",
      "_________________________________________________________________\n",
      " Layer (type)                Output Shape              Param #   \n",
      "=================================================================\n",
      " dense (Dense)               (None, 16)                144       \n",
      "                                                                 \n",
      " dense_1 (Dense)             (None, 8)                 136       \n",
      "                                                                 \n",
      " dense_2 (Dense)             (None, 1)                 9         \n",
      "                                                                 \n",
      "=================================================================\n",
      "Total params: 289\n",
      "Trainable params: 289\n",
      "Non-trainable params: 0\n",
      "_________________________________________________________________\n"
     ]
    }
   ],
   "source": [
    "# Model\n",
    "model = Sequential()\n",
    "# 16, 8, 1 (Số lượng node của từng Layer).\n",
    "# relu: Hàm khử tuyến tính (giúp model hoạt động tốt hơn).\n",
    "# sigmoid: Là hàm đồ thị\n",
    "model.add(Dense(16, input_dim=8, activation='relu')) # 8 tham số cho mỗi bản ghi\n",
    "model.add(Dense(8, activation='relu'))\n",
    "model.add(Dense(1, activation='sigmoid'))\n",
    "\n",
    "model.summary() # optional dùng để show lại model"
   ]
  },
  {
   "cell_type": "markdown",
   "metadata": {},
   "source": [
    "# Compile\n",
    "- Loss\n",
    "- Optimizer\n",
    "- Metric\n",
    "# Train model\n",
    "- Dataset: 6\n",
    "- Epoch: Số vòng train (mỗi lầm model duyệt qua tất cả dữ liệu trong tập train là 1 epoch): 3\n",
    "- Batch_size: Mỗi lần fit dữ liệu vào trong model chúng ta fit bao nhiêu phần tử vào trong model đó: 2 (AB, AC, CD, DE, EF): Chọn số lượng phần tử được build trong tập train.\n",
    "- Validation\n",
    "# Save model"
   ]
  },
  {
   "cell_type": "code",
   "execution_count": 14,
   "metadata": {},
   "outputs": [
    {
     "name": "stdout",
     "output_type": "stream",
     "text": [
      "Epoch 1/100\n"
     ]
    },
    {
     "name": "stderr",
     "output_type": "stream",
     "text": [
      "2023-01-16 22:52:25.183933: I tensorflow/core/grappler/optimizers/custom_graph_optimizer_registry.cc:113] Plugin optimizer for device_type GPU is enabled.\n"
     ]
    },
    {
     "name": "stdout",
     "output_type": "stream",
     "text": [
      "62/62 [==============================] - 2s 17ms/step - loss: 5.8852 - accuracy: 0.6395 - val_loss: 1.8149 - val_accuracy: 0.6260\n",
      "Epoch 2/100\n",
      "11/62 [====>.........................] - ETA: 0s - loss: 2.2149 - accuracy: 0.6023"
     ]
    },
    {
     "name": "stderr",
     "output_type": "stream",
     "text": [
      "2023-01-16 22:52:26.639365: I tensorflow/core/grappler/optimizers/custom_graph_optimizer_registry.cc:113] Plugin optimizer for device_type GPU is enabled.\n"
     ]
    },
    {
     "name": "stdout",
     "output_type": "stream",
     "text": [
      "62/62 [==============================] - 0s 6ms/step - loss: 1.5480 - accuracy: 0.5947 - val_loss: 0.9958 - val_accuracy: 0.5528\n",
      "Epoch 3/100\n",
      "62/62 [==============================] - 0s 7ms/step - loss: 0.9432 - accuracy: 0.5866 - val_loss: 0.8315 - val_accuracy: 0.5447\n",
      "Epoch 4/100\n",
      "62/62 [==============================] - 0s 7ms/step - loss: 0.8263 - accuracy: 0.6008 - val_loss: 1.0018 - val_accuracy: 0.5935\n",
      "Epoch 5/100\n",
      "62/62 [==============================] - 0s 6ms/step - loss: 0.7625 - accuracy: 0.6191 - val_loss: 0.7707 - val_accuracy: 0.6504\n",
      "Epoch 6/100\n",
      "62/62 [==============================] - 0s 7ms/step - loss: 0.6933 - accuracy: 0.6314 - val_loss: 0.7881 - val_accuracy: 0.6260\n",
      "Epoch 7/100\n",
      "62/62 [==============================] - 0s 6ms/step - loss: 0.6672 - accuracy: 0.6477 - val_loss: 0.7423 - val_accuracy: 0.6585\n",
      "Epoch 8/100\n",
      "62/62 [==============================] - 0s 7ms/step - loss: 0.6665 - accuracy: 0.6864 - val_loss: 0.7810 - val_accuracy: 0.6179\n",
      "Epoch 9/100\n",
      "62/62 [==============================] - 0s 7ms/step - loss: 0.6520 - accuracy: 0.6925 - val_loss: 0.7202 - val_accuracy: 0.6748\n",
      "Epoch 10/100\n",
      "62/62 [==============================] - 0s 7ms/step - loss: 0.6610 - accuracy: 0.6843 - val_loss: 0.7085 - val_accuracy: 0.6911\n",
      "Epoch 11/100\n",
      "62/62 [==============================] - 0s 8ms/step - loss: 0.7011 - accuracy: 0.6680 - val_loss: 0.7310 - val_accuracy: 0.6585\n",
      "Epoch 12/100\n",
      "62/62 [==============================] - 0s 7ms/step - loss: 0.7379 - accuracy: 0.6599 - val_loss: 0.6978 - val_accuracy: 0.6748\n",
      "Epoch 13/100\n",
      "62/62 [==============================] - 0s 7ms/step - loss: 0.7158 - accuracy: 0.6741 - val_loss: 0.6832 - val_accuracy: 0.6911\n",
      "Epoch 14/100\n",
      "62/62 [==============================] - 0s 7ms/step - loss: 0.6497 - accuracy: 0.6823 - val_loss: 0.7453 - val_accuracy: 0.6179\n",
      "Epoch 15/100\n",
      "62/62 [==============================] - 0s 7ms/step - loss: 0.6767 - accuracy: 0.6864 - val_loss: 0.7484 - val_accuracy: 0.6098\n",
      "Epoch 16/100\n",
      "62/62 [==============================] - 0s 7ms/step - loss: 0.6162 - accuracy: 0.7026 - val_loss: 0.6781 - val_accuracy: 0.6992\n",
      "Epoch 17/100\n",
      "62/62 [==============================] - 0s 6ms/step - loss: 0.6082 - accuracy: 0.7026 - val_loss: 0.6773 - val_accuracy: 0.6748\n",
      "Epoch 18/100\n",
      "62/62 [==============================] - 0s 6ms/step - loss: 0.6594 - accuracy: 0.6904 - val_loss: 0.7315 - val_accuracy: 0.6260\n",
      "Epoch 19/100\n",
      "62/62 [==============================] - 0s 6ms/step - loss: 0.6184 - accuracy: 0.7128 - val_loss: 0.6614 - val_accuracy: 0.6829\n",
      "Epoch 20/100\n",
      "62/62 [==============================] - 0s 6ms/step - loss: 0.6517 - accuracy: 0.6802 - val_loss: 0.6843 - val_accuracy: 0.6585\n",
      "Epoch 21/100\n",
      "62/62 [==============================] - 0s 6ms/step - loss: 0.6240 - accuracy: 0.6925 - val_loss: 0.6831 - val_accuracy: 0.6260\n",
      "Epoch 22/100\n",
      "62/62 [==============================] - 0s 7ms/step - loss: 0.6189 - accuracy: 0.6884 - val_loss: 0.7020 - val_accuracy: 0.6179\n",
      "Epoch 23/100\n",
      "62/62 [==============================] - 0s 7ms/step - loss: 0.7955 - accuracy: 0.6477 - val_loss: 0.6468 - val_accuracy: 0.6748\n",
      "Epoch 24/100\n",
      "62/62 [==============================] - 0s 6ms/step - loss: 0.6368 - accuracy: 0.6945 - val_loss: 0.6589 - val_accuracy: 0.6585\n",
      "Epoch 25/100\n",
      "62/62 [==============================] - 0s 6ms/step - loss: 0.6205 - accuracy: 0.6925 - val_loss: 0.6373 - val_accuracy: 0.6504\n",
      "Epoch 26/100\n",
      "62/62 [==============================] - 0s 6ms/step - loss: 0.5815 - accuracy: 0.7088 - val_loss: 0.6894 - val_accuracy: 0.6341\n",
      "Epoch 27/100\n",
      "62/62 [==============================] - 0s 6ms/step - loss: 0.5952 - accuracy: 0.6965 - val_loss: 0.6505 - val_accuracy: 0.6911\n",
      "Epoch 28/100\n",
      "62/62 [==============================] - 0s 6ms/step - loss: 0.5826 - accuracy: 0.7149 - val_loss: 0.6370 - val_accuracy: 0.6911\n",
      "Epoch 29/100\n",
      "62/62 [==============================] - 0s 7ms/step - loss: 0.6211 - accuracy: 0.7006 - val_loss: 0.6377 - val_accuracy: 0.7154\n",
      "Epoch 30/100\n",
      "62/62 [==============================] - 0s 6ms/step - loss: 0.5850 - accuracy: 0.7169 - val_loss: 0.6452 - val_accuracy: 0.6748\n",
      "Epoch 31/100\n",
      "62/62 [==============================] - 0s 7ms/step - loss: 0.5821 - accuracy: 0.7006 - val_loss: 0.6639 - val_accuracy: 0.6585\n",
      "Epoch 32/100\n",
      "62/62 [==============================] - 0s 7ms/step - loss: 0.5990 - accuracy: 0.6965 - val_loss: 0.6949 - val_accuracy: 0.6341\n",
      "Epoch 33/100\n",
      "62/62 [==============================] - 0s 7ms/step - loss: 0.5974 - accuracy: 0.7149 - val_loss: 0.6543 - val_accuracy: 0.6748\n",
      "Epoch 34/100\n",
      "62/62 [==============================] - 0s 6ms/step - loss: 0.5490 - accuracy: 0.7251 - val_loss: 0.6745 - val_accuracy: 0.6667\n",
      "Epoch 35/100\n",
      "62/62 [==============================] - 0s 7ms/step - loss: 0.5711 - accuracy: 0.7108 - val_loss: 0.6956 - val_accuracy: 0.6179\n",
      "Epoch 36/100\n",
      "62/62 [==============================] - 0s 8ms/step - loss: 0.5916 - accuracy: 0.7047 - val_loss: 0.6309 - val_accuracy: 0.7154\n",
      "Epoch 37/100\n",
      "62/62 [==============================] - 0s 7ms/step - loss: 0.5754 - accuracy: 0.7047 - val_loss: 0.6383 - val_accuracy: 0.6992\n",
      "Epoch 38/100\n",
      "62/62 [==============================] - 0s 6ms/step - loss: 0.5935 - accuracy: 0.7149 - val_loss: 0.6509 - val_accuracy: 0.6992\n",
      "Epoch 39/100\n",
      "62/62 [==============================] - 0s 6ms/step - loss: 0.5965 - accuracy: 0.7128 - val_loss: 1.0038 - val_accuracy: 0.5691\n",
      "Epoch 40/100\n",
      "62/62 [==============================] - 1s 8ms/step - loss: 0.6766 - accuracy: 0.6782 - val_loss: 0.6851 - val_accuracy: 0.6423\n",
      "Epoch 41/100\n",
      "62/62 [==============================] - 1s 10ms/step - loss: 0.5437 - accuracy: 0.7230 - val_loss: 0.6327 - val_accuracy: 0.6992\n",
      "Epoch 42/100\n",
      "62/62 [==============================] - 0s 7ms/step - loss: 0.5728 - accuracy: 0.7067 - val_loss: 0.6961 - val_accuracy: 0.6341\n",
      "Epoch 43/100\n",
      "62/62 [==============================] - 0s 7ms/step - loss: 0.5776 - accuracy: 0.7189 - val_loss: 0.6328 - val_accuracy: 0.6992\n",
      "Epoch 44/100\n",
      "62/62 [==============================] - 0s 7ms/step - loss: 0.5458 - accuracy: 0.7189 - val_loss: 0.8062 - val_accuracy: 0.6423\n",
      "Epoch 45/100\n",
      "62/62 [==============================] - 0s 8ms/step - loss: 0.5848 - accuracy: 0.7149 - val_loss: 0.6657 - val_accuracy: 0.6748\n",
      "Epoch 46/100\n",
      "62/62 [==============================] - 0s 7ms/step - loss: 0.5351 - accuracy: 0.7251 - val_loss: 0.6464 - val_accuracy: 0.6829\n",
      "Epoch 47/100\n",
      "62/62 [==============================] - 0s 6ms/step - loss: 0.5622 - accuracy: 0.7088 - val_loss: 0.6761 - val_accuracy: 0.6748\n",
      "Epoch 48/100\n",
      "62/62 [==============================] - 0s 7ms/step - loss: 0.5828 - accuracy: 0.7210 - val_loss: 0.6357 - val_accuracy: 0.6992\n",
      "Epoch 49/100\n",
      "62/62 [==============================] - 0s 6ms/step - loss: 0.5524 - accuracy: 0.6965 - val_loss: 0.6279 - val_accuracy: 0.6911\n",
      "Epoch 50/100\n",
      "62/62 [==============================] - 0s 6ms/step - loss: 0.5554 - accuracy: 0.7189 - val_loss: 0.8455 - val_accuracy: 0.6016\n",
      "Epoch 51/100\n",
      "62/62 [==============================] - 0s 8ms/step - loss: 0.6031 - accuracy: 0.6823 - val_loss: 0.6494 - val_accuracy: 0.6829\n",
      "Epoch 52/100\n",
      "62/62 [==============================] - 0s 7ms/step - loss: 0.5414 - accuracy: 0.7291 - val_loss: 0.6810 - val_accuracy: 0.6504\n",
      "Epoch 53/100\n",
      "62/62 [==============================] - 0s 7ms/step - loss: 0.5297 - accuracy: 0.7332 - val_loss: 0.6420 - val_accuracy: 0.6911\n",
      "Epoch 54/100\n",
      "62/62 [==============================] - 0s 6ms/step - loss: 0.5620 - accuracy: 0.6945 - val_loss: 0.6347 - val_accuracy: 0.6992\n",
      "Epoch 55/100\n",
      "62/62 [==============================] - 0s 6ms/step - loss: 0.5762 - accuracy: 0.7067 - val_loss: 0.6492 - val_accuracy: 0.6829\n",
      "Epoch 56/100\n",
      "62/62 [==============================] - 0s 8ms/step - loss: 0.5394 - accuracy: 0.7006 - val_loss: 0.6295 - val_accuracy: 0.6992\n",
      "Epoch 57/100\n",
      "62/62 [==============================] - 0s 8ms/step - loss: 0.5161 - accuracy: 0.7332 - val_loss: 0.6443 - val_accuracy: 0.6748\n",
      "Epoch 58/100\n",
      "62/62 [==============================] - 0s 7ms/step - loss: 0.5645 - accuracy: 0.7006 - val_loss: 0.6291 - val_accuracy: 0.6829\n",
      "Epoch 59/100\n",
      "62/62 [==============================] - 0s 6ms/step - loss: 0.5478 - accuracy: 0.7067 - val_loss: 0.6457 - val_accuracy: 0.6667\n",
      "Epoch 60/100\n",
      "62/62 [==============================] - 0s 6ms/step - loss: 0.5489 - accuracy: 0.6986 - val_loss: 0.6308 - val_accuracy: 0.6992\n",
      "Epoch 61/100\n",
      "62/62 [==============================] - 0s 6ms/step - loss: 0.5364 - accuracy: 0.7169 - val_loss: 0.7719 - val_accuracy: 0.6260\n",
      "Epoch 62/100\n",
      "62/62 [==============================] - 0s 6ms/step - loss: 0.5330 - accuracy: 0.7128 - val_loss: 0.6710 - val_accuracy: 0.6667\n",
      "Epoch 63/100\n",
      "62/62 [==============================] - 0s 6ms/step - loss: 0.5333 - accuracy: 0.7352 - val_loss: 0.7431 - val_accuracy: 0.6341\n",
      "Epoch 64/100\n",
      "62/62 [==============================] - 0s 6ms/step - loss: 0.5603 - accuracy: 0.7088 - val_loss: 0.6367 - val_accuracy: 0.6829\n",
      "Epoch 65/100\n",
      "62/62 [==============================] - 0s 6ms/step - loss: 0.6034 - accuracy: 0.6965 - val_loss: 0.7448 - val_accuracy: 0.6260\n",
      "Epoch 66/100\n",
      "62/62 [==============================] - 0s 6ms/step - loss: 0.5596 - accuracy: 0.7006 - val_loss: 0.6318 - val_accuracy: 0.6992\n",
      "Epoch 67/100\n",
      "62/62 [==============================] - 0s 6ms/step - loss: 0.5132 - accuracy: 0.7475 - val_loss: 0.6165 - val_accuracy: 0.6748\n",
      "Epoch 68/100\n",
      "62/62 [==============================] - 0s 6ms/step - loss: 0.5161 - accuracy: 0.7352 - val_loss: 0.6167 - val_accuracy: 0.6992\n",
      "Epoch 69/100\n",
      "62/62 [==============================] - 0s 6ms/step - loss: 0.5236 - accuracy: 0.7291 - val_loss: 0.6025 - val_accuracy: 0.6829\n",
      "Epoch 70/100\n",
      "62/62 [==============================] - 0s 6ms/step - loss: 0.5270 - accuracy: 0.7373 - val_loss: 0.5986 - val_accuracy: 0.6992\n",
      "Epoch 71/100\n",
      "62/62 [==============================] - 0s 6ms/step - loss: 0.5274 - accuracy: 0.7230 - val_loss: 0.6274 - val_accuracy: 0.6829\n",
      "Epoch 72/100\n",
      "62/62 [==============================] - 0s 6ms/step - loss: 0.5269 - accuracy: 0.7312 - val_loss: 0.6243 - val_accuracy: 0.6911\n",
      "Epoch 73/100\n",
      "62/62 [==============================] - 0s 6ms/step - loss: 0.5186 - accuracy: 0.7251 - val_loss: 0.6349 - val_accuracy: 0.6829\n",
      "Epoch 74/100\n",
      "62/62 [==============================] - 0s 6ms/step - loss: 0.5386 - accuracy: 0.7189 - val_loss: 0.6525 - val_accuracy: 0.6911\n",
      "Epoch 75/100\n",
      "62/62 [==============================] - 0s 7ms/step - loss: 0.5163 - accuracy: 0.7312 - val_loss: 0.6266 - val_accuracy: 0.6911\n",
      "Epoch 76/100\n",
      "62/62 [==============================] - 0s 7ms/step - loss: 0.5286 - accuracy: 0.7230 - val_loss: 0.6226 - val_accuracy: 0.6829\n",
      "Epoch 77/100\n",
      "62/62 [==============================] - 0s 6ms/step - loss: 0.5079 - accuracy: 0.7352 - val_loss: 0.6070 - val_accuracy: 0.6911\n",
      "Epoch 78/100\n",
      "62/62 [==============================] - 0s 6ms/step - loss: 0.5423 - accuracy: 0.7251 - val_loss: 0.6084 - val_accuracy: 0.6911\n",
      "Epoch 79/100\n",
      "62/62 [==============================] - 0s 6ms/step - loss: 0.5387 - accuracy: 0.7230 - val_loss: 0.6781 - val_accuracy: 0.6748\n",
      "Epoch 80/100\n",
      "62/62 [==============================] - 0s 7ms/step - loss: 0.5145 - accuracy: 0.7251 - val_loss: 0.6579 - val_accuracy: 0.6911\n",
      "Epoch 81/100\n",
      "62/62 [==============================] - 0s 7ms/step - loss: 0.5422 - accuracy: 0.7149 - val_loss: 0.7615 - val_accuracy: 0.6260\n",
      "Epoch 82/100\n",
      "62/62 [==============================] - 1s 9ms/step - loss: 0.5437 - accuracy: 0.7210 - val_loss: 0.6049 - val_accuracy: 0.6992\n",
      "Epoch 83/100\n",
      "62/62 [==============================] - 0s 7ms/step - loss: 0.5249 - accuracy: 0.7332 - val_loss: 0.6353 - val_accuracy: 0.6992\n",
      "Epoch 84/100\n",
      "62/62 [==============================] - 0s 6ms/step - loss: 0.5472 - accuracy: 0.7108 - val_loss: 0.6134 - val_accuracy: 0.6829\n",
      "Epoch 85/100\n",
      "62/62 [==============================] - 0s 6ms/step - loss: 0.5557 - accuracy: 0.7149 - val_loss: 0.9095 - val_accuracy: 0.5935\n",
      "Epoch 86/100\n",
      "62/62 [==============================] - 0s 6ms/step - loss: 0.5230 - accuracy: 0.7169 - val_loss: 0.8232 - val_accuracy: 0.6260\n",
      "Epoch 87/100\n",
      "62/62 [==============================] - 0s 6ms/step - loss: 0.5386 - accuracy: 0.7189 - val_loss: 0.6583 - val_accuracy: 0.6667\n",
      "Epoch 88/100\n",
      "62/62 [==============================] - 0s 6ms/step - loss: 0.5018 - accuracy: 0.7373 - val_loss: 0.6078 - val_accuracy: 0.7154\n",
      "Epoch 89/100\n",
      "62/62 [==============================] - 0s 6ms/step - loss: 0.5184 - accuracy: 0.7251 - val_loss: 0.7325 - val_accuracy: 0.6341\n",
      "Epoch 90/100\n",
      "62/62 [==============================] - 0s 6ms/step - loss: 0.5449 - accuracy: 0.7271 - val_loss: 0.6683 - val_accuracy: 0.6504\n",
      "Epoch 91/100\n",
      "62/62 [==============================] - 0s 6ms/step - loss: 0.5181 - accuracy: 0.7189 - val_loss: 0.6288 - val_accuracy: 0.6829\n",
      "Epoch 92/100\n",
      "62/62 [==============================] - 0s 7ms/step - loss: 0.5171 - accuracy: 0.7189 - val_loss: 0.6296 - val_accuracy: 0.6667\n",
      "Epoch 93/100\n",
      "62/62 [==============================] - 0s 6ms/step - loss: 0.5135 - accuracy: 0.7312 - val_loss: 0.6357 - val_accuracy: 0.6829\n",
      "Epoch 94/100\n",
      "62/62 [==============================] - 0s 6ms/step - loss: 0.4992 - accuracy: 0.7352 - val_loss: 0.6128 - val_accuracy: 0.6748\n",
      "Epoch 95/100\n",
      "62/62 [==============================] - 0s 6ms/step - loss: 0.5093 - accuracy: 0.7413 - val_loss: 0.7231 - val_accuracy: 0.6341\n",
      "Epoch 96/100\n",
      "62/62 [==============================] - 0s 6ms/step - loss: 0.4993 - accuracy: 0.7210 - val_loss: 0.5941 - val_accuracy: 0.6992\n",
      "Epoch 97/100\n",
      "62/62 [==============================] - 0s 6ms/step - loss: 0.5040 - accuracy: 0.7312 - val_loss: 0.6069 - val_accuracy: 0.6911\n",
      "Epoch 98/100\n",
      "62/62 [==============================] - 0s 6ms/step - loss: 0.5327 - accuracy: 0.7169 - val_loss: 0.6016 - val_accuracy: 0.6992\n",
      "Epoch 99/100\n",
      "62/62 [==============================] - 0s 6ms/step - loss: 0.5047 - accuracy: 0.7169 - val_loss: 0.6500 - val_accuracy: 0.6911\n",
      "Epoch 100/100\n",
      "62/62 [==============================] - 0s 6ms/step - loss: 0.5162 - accuracy: 0.7291 - val_loss: 0.7452 - val_accuracy: 0.6585\n"
     ]
    }
   ],
   "source": [
    "model.compile(loss='binary_crossentropy', optimizer='adam', metrics=['accuracy'])\n",
    "model.fit(X_train, y_train, epochs=100, batch_size=8, validation_data=(X_val, y_val))\n",
    "model.save(\"mymodel.h5\")"
   ]
  },
  {
   "cell_type": "markdown",
   "metadata": {},
   "source": [
    "# Load and Evaluate model"
   ]
  },
  {
   "cell_type": "code",
   "execution_count": 15,
   "metadata": {},
   "outputs": [
    {
     "name": "stdout",
     "output_type": "stream",
     "text": [
      "5/5 [==============================] - 0s 10ms/step - loss: 0.9470 - accuracy: 0.5909\n",
      "Loss:  0.9469776749610901\n",
      "Acc:  0.5909090638160706\n"
     ]
    },
    {
     "name": "stderr",
     "output_type": "stream",
     "text": [
      "2023-01-16 22:53:07.604129: I tensorflow/core/grappler/optimizers/custom_graph_optimizer_registry.cc:113] Plugin optimizer for device_type GPU is enabled.\n"
     ]
    }
   ],
   "source": [
    "model = load_model(\"mymodel.h5\")\n",
    "\n",
    "loss, acc = model.evaluate(X_test, y_test)\n",
    "\n",
    "print ('Loss: ', loss)\n",
    "print ('Acc: ', acc)\n",
    "\n"
   ]
  },
  {
   "cell_type": "markdown",
   "metadata": {},
   "source": [
    "# Predict by model\n"
   ]
  },
  {
   "cell_type": "code",
   "execution_count": 18,
   "metadata": {},
   "outputs": [
    {
     "name": "stdout",
     "output_type": "stream",
     "text": [
      "1/1 [==============================] - 0s 18ms/step\n",
      "[[0.4219228]]\n",
      "Gia tri du doan =  0.0\n",
      "Gia tri thuc te =  1.0\n"
     ]
    }
   ],
   "source": [
    "X_new = X_test[9]\n",
    "y_new = y_test[9]\n",
    "\n",
    "# Thêm chiều cho X_new để biến kiểu dữ liệu => dense\n",
    "X_new = numpy.expand_dims(X_new, axis=0)\n",
    "\n",
    "y_predict = model.predict(X_new)\n",
    "result = 1.0\n",
    "if y_predict <= 0.5:\n",
    "    result = 0.0\n",
    "    \n",
    "print (y_predict)\n",
    "print (\"Gia tri du doan = \", result)\n",
    "print (\"Gia tri thuc te = \", y_new)"
   ]
  },
  {
   "cell_type": "code",
   "execution_count": null,
   "metadata": {},
   "outputs": [],
   "source": []
  }
 ],
 "metadata": {
  "kernelspec": {
   "display_name": "Python [conda env:tensorflow] *",
   "language": "python",
   "name": "conda-env-tensorflow-py"
  },
  "language_info": {
   "codemirror_mode": {
    "name": "ipython",
    "version": 3
   },
   "file_extension": ".py",
   "mimetype": "text/x-python",
   "name": "python",
   "nbconvert_exporter": "python",
   "pygments_lexer": "ipython3",
   "version": "3.10.8"
  },
  "vscode": {
   "interpreter": {
    "hash": "bc08e660f69e1b71747c5d5632d76955898dc64a65b92c281ffa833fbdc052a1"
   }
  }
 },
 "nbformat": 4,
 "nbformat_minor": 2
}
