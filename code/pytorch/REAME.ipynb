{
 "cells": [
  {
   "attachments": {},
   "cell_type": "markdown",
   "metadata": {},
   "source": [
    "# Pytorch\n",
    "- Pytorch được phát triển trên facebook. Pytorch, Tensorflow, Keras là framework được sử dụng phổ biến trong các bài toán Deep Learning. Đặc biệt trong lĩnh vực nghiên cứu, hầu hết các tác giả sử dụng pytorch để triển khai bài toán của mình. Pytorch cho thấy lợi thế của nó trong lĩnh vực nghiên cứu bở dễ debug và visuallize, Ngoài ra nó theo có chế dynamic giảm thời gian huyến luyện mô hình."
   ]
  },
  {
   "attachments": {},
   "cell_type": "markdown",
   "metadata": {},
   "source": [
    "# Tensor trong pytorch\n",
    "- giống như numpy array nhưng được chuyển sang tensor để tính toàn trên GPU\n",
    "\n",
    "# Install torch\n",
    "conda install pytorch torchvision -c pytorch\n",
    "\n",
    "# force to jupyter notebook\n",
    "python -m ipykernel install --user --name base --display-name \"Python 3.10 (pytorch)\"\n",
    "\n",
    "# Docs\n",
    "https://pytorch.org/get-started/locally/\n"
   ]
  },
  {
   "cell_type": "code",
   "execution_count": 8,
   "metadata": {},
   "outputs": [],
   "source": [
    "# Library\n",
    "import torch\n",
    "import numpy as np"
   ]
  },
  {
   "cell_type": "code",
   "execution_count": 9,
   "metadata": {},
   "outputs": [],
   "source": [
    "# Create Tensor\n",
    "t = torch.Tensor([[1,2,3],[3,4,5]])\n",
    "\n",
    "t = torch.randn(2, 3)\n",
    "\n",
    "t = torch.ones(2, 3)\n",
    "\n",
    "t = torch.zeros(2, 3)\n",
    "\n",
    "t = torch.randint(low = 0,high = 10,size = (2,3))\n",
    "\n",
    "# Chuyển đổi từ numpy sang tensor\n",
    "a = np.array([[1,2,3],[3,4,5]])\n",
    "t = torch.from_numpy(a)\n",
    "\n",
    "# Chuyển đổi tensor sanh numpy\n",
    "t = t.numpy()"
   ]
  },
  {
   "cell_type": "code",
   "execution_count": 22,
   "metadata": {},
   "outputs": [
    {
     "name": "stdout",
     "output_type": "stream",
     "text": [
      "torch.Size([3, 2])\n",
      "torch.Size([3, 2])\n",
      "torch.Size([6])\n",
      "torch.Size([1, 6])\n",
      "torch.Size([6])\n"
     ]
    },
    {
     "data": {
      "text/plain": [
       "tensor([5.4682e-06, 1.8458e+00, 3.2099e+00, 7.6163e-02, 2.1977e-03, 5.2343e-01])"
      ]
     },
     "execution_count": 22,
     "metadata": {},
     "output_type": "execute_result"
    }
   ],
   "source": [
    "# Create operations\n",
    "A = torch.randn(2,4)\n",
    "W = torch.randn(4,3)\n",
    "\n",
    "# Nhân hai matrix\n",
    "t = A.mm(W)\n",
    "\n",
    "# Ma trận chuyển vị\n",
    "t = t.t()\n",
    "print (t.shape)\n",
    "\n",
    "# Bình phương của mỗi giá trị trong tensor\n",
    "t = t**2\n",
    "\n",
    "# Size của tensor\n",
    "print (t.size())\n",
    "\n",
    "# Duỗi tensor có kích thước (a, b) thành (1, a*b)\n",
    "t = t.flatten()\n",
    "\n",
    "# Thêm 1 chiều với dim bằng 0 cho tensor\n",
    "print (t.shape)\n",
    "t = t.unsqueeze(0)\n",
    "print (t.shape)\n",
    "\n",
    "# giảm 1 chiều với dim=0 cho tensor\n",
    "t = t.squeeze(0)\n",
    "print (t.shape)\n",
    "\n",
    "# Hàm transpose có tác dụng đổi chiều dữ liệu (224, 224, 3) => (3, 224, 224)\n",
    "\n",
    "t"
   ]
  },
  {
   "attachments": {},
   "cell_type": "markdown",
   "metadata": {},
   "source": [
    "# Tạo một model chạy bằng pytorch\n",
    "# Model kế thừa mô hình nn.Module\n",
    "# Lớp bắt buộc phải có hai hàm:\n",
    "  - init: Là hàm kế thừa nên luôn phải có (super().__init__()). Ngoài khởi tại này chúng ta có thể khởi tạo các layer custom sử dụng trong mô hình, tạo backbone bằng cách load mô hình pretrainered, khởi tạo, thực thi một số hàm khác.\n",
    "  - forward: Là hàm nhận vào dữ liệu input ban đầu. Dữ liệu này sẽ đi lần lượt qua từng model của layer và trả về output của model."
   ]
  },
  {
   "cell_type": "code",
   "execution_count": null,
   "metadata": {},
   "outputs": [],
   "source": [
    "\n"
   ]
  }
 ],
 "metadata": {
  "kernelspec": {
   "display_name": "base",
   "language": "python",
   "name": "python3"
  },
  "language_info": {
   "codemirror_mode": {
    "name": "ipython",
    "version": 3
   },
   "file_extension": ".py",
   "mimetype": "text/x-python",
   "name": "python",
   "nbconvert_exporter": "python",
   "pygments_lexer": "ipython3",
   "version": "3.9.12"
  },
  "orig_nbformat": 4,
  "vscode": {
   "interpreter": {
    "hash": "e7cb1b9ae4d417fedf7f40a8eec98f7cfbd359e096bd857395a915f4609834ce"
   }
  }
 },
 "nbformat": 4,
 "nbformat_minor": 2
}
