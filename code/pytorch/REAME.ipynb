{
 "cells": [
  {
   "attachments": {},
   "cell_type": "markdown",
   "metadata": {},
   "source": [
    "# Pytorch\n",
    "- Pytorch được phát triển trên facebook. Pytorch, Tensorflow, Keras là framework được sử dụng phổ biến trong các bài toán Deep Learning. Đặc biệt trong lĩnh vực nghiên cứu, hầu hết các tác giả sử dụng pytorch để triển khai bài toán của mình. Pytorch cho thấy lợi thế của nó trong lĩnh vực nghiên cứu bở dễ debug và visuallize, Ngoài ra nó theo có chế dynamic giảm thời gian huyến luyện mô hình."
   ]
  },
  {
   "attachments": {},
   "cell_type": "markdown",
   "metadata": {},
   "source": [
    "# Tensor trong pytorch\n",
    "- giống như numpy array nhưng được chuyển sang tensor để tính toàn trên GPU\n",
    "\n",
    "# Install torch\n",
    "conda install pytorch torchvision -c pytorch\n",
    "\n",
    "# force to jupyter notebook\n",
    "python -m ipykernel install --user --name base --display-name \"Python 3.10 (pytorch)\"\n",
    "\n",
    "# Docs\n",
    "https://pytorch.org/get-started/locally/\n"
   ]
  },
  {
   "cell_type": "code",
   "execution_count": 7,
   "metadata": {},
   "outputs": [],
   "source": [
    "import torch\n",
    "import numpy as np\n",
    "\n",
    "t = torch.Tensor([[1,2,3],[3,4,5]])\n",
    "\n",
    "t = torch.randn(2, 3)\n",
    "\n",
    "t = torch.ones(2, 3)\n",
    "\n",
    "t = torch.zeros(2, 3)\n",
    "\n",
    "t = torch.randint(low = 0,high = 10,size = (2,3))\n",
    "\n",
    "# Chuyển đổi từ numpy sang tensor\n",
    "a = np.array([[1,2,3],[3,4,5]])\n",
    "t = torch.from_numpy(a)\n",
    "\n",
    "# Chuyển đổi tensor sanh numpy\n",
    "t = t.numpy()\n"
   ]
  }
 ],
 "metadata": {
  "kernelspec": {
   "display_name": "base",
   "language": "python",
   "name": "python3"
  },
  "language_info": {
   "codemirror_mode": {
    "name": "ipython",
    "version": 3
   },
   "file_extension": ".py",
   "mimetype": "text/x-python",
   "name": "python",
   "nbconvert_exporter": "python",
   "pygments_lexer": "ipython3",
   "version": "3.9.12"
  },
  "orig_nbformat": 4,
  "vscode": {
   "interpreter": {
    "hash": "e7cb1b9ae4d417fedf7f40a8eec98f7cfbd359e096bd857395a915f4609834ce"
   }
  }
 },
 "nbformat": 4,
 "nbformat_minor": 2
}
