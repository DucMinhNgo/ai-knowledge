{
 "cells": [
  {
   "cell_type": "code",
   "execution_count": 10,
   "metadata": {},
   "outputs": [
    {
     "name": "stdout",
     "output_type": "stream",
     "text": [
      "[[  6.    148.     72.    ...   0.627  50.      1.   ]\n",
      " [  1.     85.     66.    ...   0.351  31.      0.   ]\n",
      " [  8.    183.     64.    ...   0.672  32.      1.   ]\n",
      " ...\n",
      " [  5.    121.     72.    ...   0.245  30.      0.   ]\n",
      " [  1.    126.     60.    ...   0.349  47.      1.   ]\n",
      " [  1.     93.     70.    ...   0.315  23.      0.   ]]\n"
     ]
    }
   ],
   "source": [
    "# Keras (fully collected): Mạng neural thông thường\n",
    "# 1. Load dữ liệu\n",
    "from numpy import loadtxt\n",
    "from sklearn.model_selection import train_test_split\n",
    "from keras import Sequential\n",
    "from keras.layers import Dense\n",
    "from keras.models import load_model\n",
    "import os\n",
    "import numpy\n",
    "\n",
    "os.environ[\"CUDA_VISIBLE_DEVICES\"] = \"-1\"\n",
    "\n",
    "dataset = loadtxt('../datasets/pima-indians-diabetes.data.csv', delimiter=',')\n",
    "\n",
    "print (dataset)"
   ]
  },
  {
   "cell_type": "code",
   "execution_count": 11,
   "metadata": {},
   "outputs": [],
   "source": [
    "# Chỉ lấy giá trị từ 0, 7\n",
    "X = dataset[:, 0:8]\n",
    "y = dataset[:, 8]\n",
    "\n",
    "# Chia tập dữ liệu, chia (%) Phần nhiều dành cho train\n",
    "X_train_val, X_test, y_train_val, y_test = train_test_split(X, y, test_size=0.2)\n",
    "X_train, X_val, y_train, y_val = train_test_split(X_train_val, y_train_val, test_size=0.2)"
   ]
  },
  {
   "cell_type": "code",
   "execution_count": 12,
   "metadata": {},
   "outputs": [
    {
     "name": "stdout",
     "output_type": "stream",
     "text": [
      "Model: \"sequential_2\"\n",
      "_________________________________________________________________\n",
      " Layer (type)                Output Shape              Param #   \n",
      "=================================================================\n",
      " dense_6 (Dense)             (None, 16)                144       \n",
      "                                                                 \n",
      " dense_7 (Dense)             (None, 8)                 136       \n",
      "                                                                 \n",
      " dense_8 (Dense)             (None, 1)                 9         \n",
      "                                                                 \n",
      "=================================================================\n",
      "Total params: 289\n",
      "Trainable params: 289\n",
      "Non-trainable params: 0\n",
      "_________________________________________________________________\n"
     ]
    }
   ],
   "source": [
    "# Model\n",
    "model = Sequential()\n",
    "# 16, 8, 1 (Số lượng node của từng Layer).\n",
    "# relu: Hàm khử tuyến tính (giúp model hoạt động tốt hơn).\n",
    "# sigmoid: Là hàm đồ thị\n",
    "model.add(Dense(16, input_dim=8, activation='relu')) # 8 tham số cho mỗi bản ghi\n",
    "model.add(Dense(8, activation='relu'))\n",
    "model.add(Dense(1, activation='sigmoid'))\n",
    "\n",
    "model.compile(loss='binary_crossentropy', optimizer='adam', metrics=['accuracy'])\n",
    "model.summary() # optional dùng để show lại model"
   ]
  },
  {
   "cell_type": "markdown",
   "metadata": {},
   "source": [
    "# Compile\n",
    "- Loss\n",
    "- Optimizer\n",
    "- Metric\n",
    "# Train model\n",
    "- Dataset: 6\n",
    "- Epoch: Số vòng train (mỗi lầm model duyệt qua tất cả dữ liệu trong tập train là 1 epoch): 3\n",
    "- Batch_size: Mỗi lần fit dữ liệu vào trong model chúng ta fit bao nhiêu phần tử vào trong model đó: 2 (AB, AC, CD, DE, EF): Chọn số lượng phần tử được build trong tập train.\n",
    "- Validation\n",
    "# Save model"
   ]
  },
  {
   "cell_type": "code",
   "execution_count": 18,
   "metadata": {},
   "outputs": [
    {
     "name": "stdout",
     "output_type": "stream",
     "text": [
      "Epoch 1/100\n",
      "62/62 [==============================] - 0s 6ms/step - loss: 0.4432 - accuracy: 0.7637 - val_loss: 0.7876 - val_accuracy: 0.6179\n",
      "Epoch 2/100\n",
      "62/62 [==============================] - 0s 6ms/step - loss: 0.4374 - accuracy: 0.7678 - val_loss: 0.8284 - val_accuracy: 0.6260\n",
      "Epoch 3/100\n",
      "62/62 [==============================] - 0s 6ms/step - loss: 0.4335 - accuracy: 0.7739 - val_loss: 0.8743 - val_accuracy: 0.6423\n",
      "Epoch 4/100\n",
      "62/62 [==============================] - 0s 6ms/step - loss: 0.5023 - accuracy: 0.7454 - val_loss: 0.9974 - val_accuracy: 0.5691\n",
      "Epoch 5/100\n",
      "62/62 [==============================] - 0s 6ms/step - loss: 0.4613 - accuracy: 0.7719 - val_loss: 0.7179 - val_accuracy: 0.6423\n",
      "Epoch 6/100\n",
      "62/62 [==============================] - 0s 6ms/step - loss: 0.4542 - accuracy: 0.7495 - val_loss: 0.7546 - val_accuracy: 0.6260\n",
      "Epoch 7/100\n",
      "62/62 [==============================] - 0s 6ms/step - loss: 0.4250 - accuracy: 0.7760 - val_loss: 0.8165 - val_accuracy: 0.6341\n",
      "Epoch 8/100\n",
      "62/62 [==============================] - 0s 6ms/step - loss: 0.4250 - accuracy: 0.7943 - val_loss: 0.8166 - val_accuracy: 0.6585\n",
      "Epoch 9/100\n",
      "62/62 [==============================] - 0s 6ms/step - loss: 0.4873 - accuracy: 0.7393 - val_loss: 0.8037 - val_accuracy: 0.6423\n",
      "Epoch 10/100\n",
      "62/62 [==============================] - 0s 6ms/step - loss: 0.4403 - accuracy: 0.7739 - val_loss: 0.8168 - val_accuracy: 0.6667\n",
      "Epoch 11/100\n",
      "62/62 [==============================] - 0s 6ms/step - loss: 0.4383 - accuracy: 0.7902 - val_loss: 0.7758 - val_accuracy: 0.6829\n",
      "Epoch 12/100\n",
      "62/62 [==============================] - 0s 6ms/step - loss: 0.4364 - accuracy: 0.7800 - val_loss: 0.7713 - val_accuracy: 0.6341\n",
      "Epoch 13/100\n",
      "62/62 [==============================] - 0s 6ms/step - loss: 0.4357 - accuracy: 0.7821 - val_loss: 0.7864 - val_accuracy: 0.6504\n",
      "Epoch 14/100\n",
      "62/62 [==============================] - 0s 6ms/step - loss: 0.4258 - accuracy: 0.7760 - val_loss: 0.7714 - val_accuracy: 0.6260\n",
      "Epoch 15/100\n",
      "62/62 [==============================] - 0s 6ms/step - loss: 0.4411 - accuracy: 0.7780 - val_loss: 0.8677 - val_accuracy: 0.5772\n",
      "Epoch 16/100\n",
      "62/62 [==============================] - 0s 6ms/step - loss: 0.4440 - accuracy: 0.7739 - val_loss: 0.7896 - val_accuracy: 0.6667\n",
      "Epoch 17/100\n",
      "62/62 [==============================] - 0s 6ms/step - loss: 0.4618 - accuracy: 0.7719 - val_loss: 0.9864 - val_accuracy: 0.6341\n",
      "Epoch 18/100\n",
      "62/62 [==============================] - 0s 6ms/step - loss: 0.4378 - accuracy: 0.7862 - val_loss: 0.7579 - val_accuracy: 0.6260\n",
      "Epoch 19/100\n",
      "62/62 [==============================] - 0s 6ms/step - loss: 0.4394 - accuracy: 0.7821 - val_loss: 0.6721 - val_accuracy: 0.6423\n",
      "Epoch 20/100\n",
      "62/62 [==============================] - 0s 6ms/step - loss: 0.4269 - accuracy: 0.7862 - val_loss: 0.8102 - val_accuracy: 0.6504\n",
      "Epoch 21/100\n",
      "62/62 [==============================] - 0s 6ms/step - loss: 0.4521 - accuracy: 0.7576 - val_loss: 0.7137 - val_accuracy: 0.6504\n",
      "Epoch 22/100\n",
      "62/62 [==============================] - 0s 6ms/step - loss: 0.4458 - accuracy: 0.7515 - val_loss: 0.8078 - val_accuracy: 0.6748\n",
      "Epoch 23/100\n",
      "62/62 [==============================] - 0s 6ms/step - loss: 0.4361 - accuracy: 0.7760 - val_loss: 0.8005 - val_accuracy: 0.6585\n",
      "Epoch 24/100\n",
      "62/62 [==============================] - 0s 6ms/step - loss: 0.4321 - accuracy: 0.7719 - val_loss: 0.8625 - val_accuracy: 0.6260\n",
      "Epoch 25/100\n",
      "62/62 [==============================] - 0s 6ms/step - loss: 0.4285 - accuracy: 0.7719 - val_loss: 0.7715 - val_accuracy: 0.6423\n",
      "Epoch 26/100\n",
      "62/62 [==============================] - 0s 6ms/step - loss: 0.4215 - accuracy: 0.7882 - val_loss: 0.7431 - val_accuracy: 0.6423\n",
      "Epoch 27/100\n",
      "62/62 [==============================] - 0s 6ms/step - loss: 0.4896 - accuracy: 0.7495 - val_loss: 0.8043 - val_accuracy: 0.6585\n",
      "Epoch 28/100\n",
      "62/62 [==============================] - 0s 7ms/step - loss: 0.4500 - accuracy: 0.7719 - val_loss: 0.8599 - val_accuracy: 0.6423\n",
      "Epoch 29/100\n",
      "62/62 [==============================] - 0s 6ms/step - loss: 0.4214 - accuracy: 0.7902 - val_loss: 0.8838 - val_accuracy: 0.6504\n",
      "Epoch 30/100\n",
      "62/62 [==============================] - 0s 6ms/step - loss: 0.4315 - accuracy: 0.7902 - val_loss: 0.7896 - val_accuracy: 0.6748\n",
      "Epoch 31/100\n",
      "62/62 [==============================] - 0s 6ms/step - loss: 0.4496 - accuracy: 0.7475 - val_loss: 0.7959 - val_accuracy: 0.6423\n",
      "Epoch 32/100\n",
      "62/62 [==============================] - 0s 6ms/step - loss: 0.4314 - accuracy: 0.7862 - val_loss: 0.7736 - val_accuracy: 0.6504\n",
      "Epoch 33/100\n",
      "62/62 [==============================] - 0s 6ms/step - loss: 0.4261 - accuracy: 0.7678 - val_loss: 0.6943 - val_accuracy: 0.6667\n",
      "Epoch 34/100\n",
      "62/62 [==============================] - 0s 6ms/step - loss: 0.4492 - accuracy: 0.7841 - val_loss: 0.7299 - val_accuracy: 0.6667\n",
      "Epoch 35/100\n",
      "62/62 [==============================] - 0s 6ms/step - loss: 0.5089 - accuracy: 0.7413 - val_loss: 0.8091 - val_accuracy: 0.6423\n",
      "Epoch 36/100\n",
      "62/62 [==============================] - 0s 6ms/step - loss: 0.4366 - accuracy: 0.7800 - val_loss: 0.7971 - val_accuracy: 0.6992\n",
      "Epoch 37/100\n",
      "62/62 [==============================] - 0s 6ms/step - loss: 0.4408 - accuracy: 0.7800 - val_loss: 0.8644 - val_accuracy: 0.6341\n",
      "Epoch 38/100\n",
      "62/62 [==============================] - 0s 6ms/step - loss: 0.4640 - accuracy: 0.7678 - val_loss: 0.7923 - val_accuracy: 0.6260\n",
      "Epoch 39/100\n",
      "62/62 [==============================] - 0s 6ms/step - loss: 0.4483 - accuracy: 0.7678 - val_loss: 0.8304 - val_accuracy: 0.6423\n",
      "Epoch 40/100\n",
      "62/62 [==============================] - 0s 6ms/step - loss: 0.4167 - accuracy: 0.7862 - val_loss: 0.7681 - val_accuracy: 0.6341\n",
      "Epoch 41/100\n",
      "62/62 [==============================] - 0s 6ms/step - loss: 0.4181 - accuracy: 0.8004 - val_loss: 0.7719 - val_accuracy: 0.6585\n",
      "Epoch 42/100\n",
      "62/62 [==============================] - 0s 6ms/step - loss: 0.4167 - accuracy: 0.7923 - val_loss: 0.7879 - val_accuracy: 0.6667\n",
      "Epoch 43/100\n",
      "62/62 [==============================] - 0s 6ms/step - loss: 0.4445 - accuracy: 0.7780 - val_loss: 0.7550 - val_accuracy: 0.6585\n",
      "Epoch 44/100\n",
      "62/62 [==============================] - 0s 6ms/step - loss: 0.4419 - accuracy: 0.7780 - val_loss: 0.8559 - val_accuracy: 0.6504\n",
      "Epoch 45/100\n",
      "62/62 [==============================] - 0s 7ms/step - loss: 0.4225 - accuracy: 0.7902 - val_loss: 0.7205 - val_accuracy: 0.6504\n",
      "Epoch 46/100\n",
      "62/62 [==============================] - 0s 6ms/step - loss: 0.4283 - accuracy: 0.7780 - val_loss: 0.8156 - val_accuracy: 0.6504\n",
      "Epoch 47/100\n",
      "62/62 [==============================] - 0s 6ms/step - loss: 0.4704 - accuracy: 0.7760 - val_loss: 0.7281 - val_accuracy: 0.6504\n",
      "Epoch 48/100\n",
      "62/62 [==============================] - 0s 6ms/step - loss: 0.4256 - accuracy: 0.7699 - val_loss: 0.8466 - val_accuracy: 0.6260\n",
      "Epoch 49/100\n",
      "62/62 [==============================] - 0s 6ms/step - loss: 0.4263 - accuracy: 0.7902 - val_loss: 0.8112 - val_accuracy: 0.6667\n",
      "Epoch 50/100\n",
      "62/62 [==============================] - 0s 6ms/step - loss: 0.4333 - accuracy: 0.7739 - val_loss: 0.8985 - val_accuracy: 0.6423\n",
      "Epoch 51/100\n",
      "62/62 [==============================] - 0s 6ms/step - loss: 0.4219 - accuracy: 0.7821 - val_loss: 0.7686 - val_accuracy: 0.6423\n",
      "Epoch 52/100\n",
      "62/62 [==============================] - 0s 6ms/step - loss: 0.4223 - accuracy: 0.7923 - val_loss: 0.8731 - val_accuracy: 0.6911\n",
      "Epoch 53/100\n",
      "62/62 [==============================] - 0s 6ms/step - loss: 0.4338 - accuracy: 0.7515 - val_loss: 0.8847 - val_accuracy: 0.6341\n",
      "Epoch 54/100\n",
      "62/62 [==============================] - 0s 6ms/step - loss: 0.4360 - accuracy: 0.7699 - val_loss: 0.8617 - val_accuracy: 0.6585\n",
      "Epoch 55/100\n",
      "62/62 [==============================] - 0s 6ms/step - loss: 0.4540 - accuracy: 0.7760 - val_loss: 0.8146 - val_accuracy: 0.6504\n",
      "Epoch 56/100\n",
      "62/62 [==============================] - 0s 6ms/step - loss: 0.4212 - accuracy: 0.7841 - val_loss: 0.7611 - val_accuracy: 0.6341\n",
      "Epoch 57/100\n",
      "62/62 [==============================] - 0s 6ms/step - loss: 0.4207 - accuracy: 0.7821 - val_loss: 0.9189 - val_accuracy: 0.6748\n",
      "Epoch 58/100\n",
      "62/62 [==============================] - 0s 6ms/step - loss: 0.4540 - accuracy: 0.7760 - val_loss: 0.8386 - val_accuracy: 0.6748\n",
      "Epoch 59/100\n",
      "62/62 [==============================] - 0s 6ms/step - loss: 0.4429 - accuracy: 0.7739 - val_loss: 0.7914 - val_accuracy: 0.6016\n",
      "Epoch 60/100\n",
      "62/62 [==============================] - 0s 6ms/step - loss: 0.4157 - accuracy: 0.7800 - val_loss: 0.7463 - val_accuracy: 0.6748\n",
      "Epoch 61/100\n",
      "62/62 [==============================] - 0s 6ms/step - loss: 0.4320 - accuracy: 0.7800 - val_loss: 0.8228 - val_accuracy: 0.7073\n",
      "Epoch 62/100\n",
      "62/62 [==============================] - 0s 6ms/step - loss: 0.4352 - accuracy: 0.7699 - val_loss: 0.8478 - val_accuracy: 0.6504\n",
      "Epoch 63/100\n",
      "62/62 [==============================] - 0s 6ms/step - loss: 0.4436 - accuracy: 0.7678 - val_loss: 0.7371 - val_accuracy: 0.6260\n",
      "Epoch 64/100\n",
      "62/62 [==============================] - 0s 6ms/step - loss: 0.4339 - accuracy: 0.7800 - val_loss: 0.8681 - val_accuracy: 0.6423\n",
      "Epoch 65/100\n",
      "62/62 [==============================] - 0s 6ms/step - loss: 0.4095 - accuracy: 0.8228 - val_loss: 0.8768 - val_accuracy: 0.6423\n",
      "Epoch 66/100\n",
      "62/62 [==============================] - 0s 6ms/step - loss: 0.4665 - accuracy: 0.7678 - val_loss: 0.7964 - val_accuracy: 0.6341\n",
      "Epoch 67/100\n",
      "62/62 [==============================] - 0s 6ms/step - loss: 0.4257 - accuracy: 0.7780 - val_loss: 0.7289 - val_accuracy: 0.6667\n",
      "Epoch 68/100\n",
      "62/62 [==============================] - 0s 6ms/step - loss: 0.4382 - accuracy: 0.7760 - val_loss: 0.7461 - val_accuracy: 0.6504\n",
      "Epoch 69/100\n",
      "62/62 [==============================] - 0s 6ms/step - loss: 0.4499 - accuracy: 0.7862 - val_loss: 0.8519 - val_accuracy: 0.6504\n",
      "Epoch 70/100\n",
      "62/62 [==============================] - 0s 6ms/step - loss: 0.4406 - accuracy: 0.7821 - val_loss: 0.6733 - val_accuracy: 0.6667\n",
      "Epoch 71/100\n",
      "62/62 [==============================] - 0s 6ms/step - loss: 0.4210 - accuracy: 0.7862 - val_loss: 0.6901 - val_accuracy: 0.6341\n",
      "Epoch 72/100\n",
      "62/62 [==============================] - 0s 6ms/step - loss: 0.4260 - accuracy: 0.7963 - val_loss: 0.8495 - val_accuracy: 0.6667\n",
      "Epoch 73/100\n",
      "62/62 [==============================] - 0s 6ms/step - loss: 0.4662 - accuracy: 0.7658 - val_loss: 0.7891 - val_accuracy: 0.6504\n",
      "Epoch 74/100\n",
      "62/62 [==============================] - 0s 6ms/step - loss: 0.4330 - accuracy: 0.7882 - val_loss: 0.8089 - val_accuracy: 0.6585\n",
      "Epoch 75/100\n",
      "62/62 [==============================] - 0s 6ms/step - loss: 0.4362 - accuracy: 0.7719 - val_loss: 0.6700 - val_accuracy: 0.6748\n",
      "Epoch 76/100\n",
      "62/62 [==============================] - 0s 6ms/step - loss: 0.4228 - accuracy: 0.7963 - val_loss: 0.7409 - val_accuracy: 0.6585\n",
      "Epoch 77/100\n",
      "62/62 [==============================] - 0s 6ms/step - loss: 0.4655 - accuracy: 0.7658 - val_loss: 0.7004 - val_accuracy: 0.6585\n",
      "Epoch 78/100\n",
      "62/62 [==============================] - 0s 6ms/step - loss: 0.4108 - accuracy: 0.7923 - val_loss: 0.8022 - val_accuracy: 0.6667\n",
      "Epoch 79/100\n",
      "62/62 [==============================] - 0s 6ms/step - loss: 0.4282 - accuracy: 0.7923 - val_loss: 0.8111 - val_accuracy: 0.6504\n",
      "Epoch 80/100\n",
      "62/62 [==============================] - 0s 6ms/step - loss: 0.4308 - accuracy: 0.7882 - val_loss: 0.8543 - val_accuracy: 0.6423\n",
      "Epoch 81/100\n",
      "62/62 [==============================] - 0s 6ms/step - loss: 0.4429 - accuracy: 0.7984 - val_loss: 0.7932 - val_accuracy: 0.6585\n",
      "Epoch 82/100\n",
      "62/62 [==============================] - 0s 6ms/step - loss: 0.4119 - accuracy: 0.7841 - val_loss: 0.8367 - val_accuracy: 0.6667\n",
      "Epoch 83/100\n",
      "62/62 [==============================] - 0s 6ms/step - loss: 0.4307 - accuracy: 0.7841 - val_loss: 0.7101 - val_accuracy: 0.6423\n",
      "Epoch 84/100\n",
      "62/62 [==============================] - 0s 6ms/step - loss: 0.4276 - accuracy: 0.7943 - val_loss: 0.7375 - val_accuracy: 0.6504\n",
      "Epoch 85/100\n",
      "62/62 [==============================] - 0s 6ms/step - loss: 0.4272 - accuracy: 0.7923 - val_loss: 0.8972 - val_accuracy: 0.6504\n",
      "Epoch 86/100\n",
      "62/62 [==============================] - 0s 6ms/step - loss: 0.4328 - accuracy: 0.7780 - val_loss: 0.8553 - val_accuracy: 0.6585\n",
      "Epoch 87/100\n",
      "62/62 [==============================] - 0s 6ms/step - loss: 0.4182 - accuracy: 0.8065 - val_loss: 0.7949 - val_accuracy: 0.6829\n",
      "Epoch 88/100\n",
      "62/62 [==============================] - 0s 6ms/step - loss: 0.4037 - accuracy: 0.8065 - val_loss: 0.7977 - val_accuracy: 0.6341\n",
      "Epoch 89/100\n",
      "62/62 [==============================] - 0s 6ms/step - loss: 0.4119 - accuracy: 0.8004 - val_loss: 0.8589 - val_accuracy: 0.6748\n",
      "Epoch 90/100\n",
      "62/62 [==============================] - 0s 6ms/step - loss: 0.4344 - accuracy: 0.7923 - val_loss: 1.0248 - val_accuracy: 0.5854\n",
      "Epoch 91/100\n",
      "62/62 [==============================] - 0s 6ms/step - loss: 0.4282 - accuracy: 0.7943 - val_loss: 0.7964 - val_accuracy: 0.6504\n",
      "Epoch 92/100\n",
      "62/62 [==============================] - 0s 6ms/step - loss: 0.4292 - accuracy: 0.7862 - val_loss: 0.8295 - val_accuracy: 0.6504\n",
      "Epoch 93/100\n",
      "62/62 [==============================] - 0s 7ms/step - loss: 0.4233 - accuracy: 0.7923 - val_loss: 0.7631 - val_accuracy: 0.6667\n",
      "Epoch 94/100\n",
      "62/62 [==============================] - 0s 6ms/step - loss: 0.4430 - accuracy: 0.7760 - val_loss: 0.7542 - val_accuracy: 0.6341\n",
      "Epoch 95/100\n",
      "62/62 [==============================] - 0s 6ms/step - loss: 0.4221 - accuracy: 0.7739 - val_loss: 0.8385 - val_accuracy: 0.6016\n",
      "Epoch 96/100\n",
      "62/62 [==============================] - 0s 6ms/step - loss: 0.4176 - accuracy: 0.7882 - val_loss: 0.7948 - val_accuracy: 0.6260\n",
      "Epoch 97/100\n",
      "62/62 [==============================] - 0s 6ms/step - loss: 0.4223 - accuracy: 0.7821 - val_loss: 0.8013 - val_accuracy: 0.6667\n",
      "Epoch 98/100\n",
      "62/62 [==============================] - 0s 6ms/step - loss: 0.4427 - accuracy: 0.7841 - val_loss: 0.7238 - val_accuracy: 0.6179\n",
      "Epoch 99/100\n",
      "62/62 [==============================] - 0s 6ms/step - loss: 0.4496 - accuracy: 0.7800 - val_loss: 0.8692 - val_accuracy: 0.6341\n",
      "Epoch 100/100\n",
      "62/62 [==============================] - 0s 6ms/step - loss: 0.4348 - accuracy: 0.7862 - val_loss: 0.8851 - val_accuracy: 0.6667\n"
     ]
    }
   ],
   "source": [
    "model.fit(X_train, y_train, epochs=100, batch_size=8, validation_data=(X_val, y_val))\n",
    "model.save(\"../trained-model/keras_nn_basic.h5\")"
   ]
  },
  {
   "cell_type": "markdown",
   "metadata": {},
   "source": [
    "# Load and Evaluate model"
   ]
  },
  {
   "cell_type": "code",
   "execution_count": 19,
   "metadata": {},
   "outputs": [
    {
     "name": "stdout",
     "output_type": "stream",
     "text": [
      "5/5 [==============================] - 0s 8ms/step - loss: 1.0341 - accuracy: 0.7143\n",
      "Loss:  1.034149408340454\n",
      "Acc:  0.7142857313156128\n"
     ]
    },
    {
     "name": "stderr",
     "output_type": "stream",
     "text": [
      "2023-01-19 10:11:30.106287: I tensorflow/core/grappler/optimizers/custom_graph_optimizer_registry.cc:113] Plugin optimizer for device_type GPU is enabled.\n"
     ]
    }
   ],
   "source": [
    "model = load_model(\"../trained-model/keras_nn_basic.h5\")\n",
    "\n",
    "loss, acc = model.evaluate(X_test, y_test)\n",
    "\n",
    "print ('Loss: ', loss)\n",
    "print ('Acc: ', acc)\n",
    "\n"
   ]
  },
  {
   "cell_type": "markdown",
   "metadata": {},
   "source": [
    "# Predict by model\n"
   ]
  },
  {
   "cell_type": "code",
   "execution_count": 20,
   "metadata": {},
   "outputs": [
    {
     "name": "stdout",
     "output_type": "stream",
     "text": [
      "1/1 [==============================] - 0s 33ms/step\n",
      "[[0.0122617]]\n",
      "Gia tri du doan =  0.0\n",
      "Gia tri thuc te =  0.0\n"
     ]
    },
    {
     "name": "stderr",
     "output_type": "stream",
     "text": [
      "2023-01-19 10:11:34.080291: I tensorflow/core/grappler/optimizers/custom_graph_optimizer_registry.cc:113] Plugin optimizer for device_type GPU is enabled.\n"
     ]
    }
   ],
   "source": [
    "X_new = X_test[8]\n",
    "y_new = y_test[8]\n",
    "\n",
    "# Thêm chiều cho X_new để biến kiểu dữ liệu => dense\n",
    "X_new = numpy.expand_dims(X_new, axis=0)\n",
    "\n",
    "y_predict = model.predict(X_new)\n",
    "result = 1.0\n",
    "if y_predict <= 0.5:\n",
    "    result = 0.0\n",
    "    \n",
    "print (y_predict)\n",
    "print (\"Gia tri du doan = \", result)\n",
    "print (\"Gia tri thuc te = \", y_new)"
   ]
  },
  {
   "cell_type": "code",
   "execution_count": null,
   "metadata": {},
   "outputs": [],
   "source": []
  }
 ],
 "metadata": {
  "kernelspec": {
   "display_name": "Python 3",
   "language": "python",
   "name": "python3"
  },
  "language_info": {
   "codemirror_mode": {
    "name": "ipython",
    "version": 3
   },
   "file_extension": ".py",
   "mimetype": "text/x-python",
   "name": "python",
   "nbconvert_exporter": "python",
   "pygments_lexer": "ipython3",
   "version": "3.10.9 (main, Dec 15 2022, 10:44:50) [Clang 14.0.0 (clang-1400.0.29.202)]"
  },
  "vscode": {
   "interpreter": {
    "hash": "b0fa6594d8f4cbf19f97940f81e996739fb7646882a419484c72d19e05852a7e"
   }
  }
 },
 "nbformat": 4,
 "nbformat_minor": 2
}
