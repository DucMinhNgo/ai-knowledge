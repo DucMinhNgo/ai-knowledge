{
 "cells": [
  {
   "attachments": {},
   "cell_type": "markdown",
   "metadata": {},
   "source": [
    "# Câu hỏi: Trình bày nội dung các quy luật cơ bản của phép biện chứng duy vật? Ý nghĩa phương pháp luận của việc nghiên cứu các quy luật này?\n",
    "- Thứ nhất phải tóm tắt nội dung quy luật?\n",
    "- Thứ hai làm sáng tỏ mặt đối lập là gì? Mâu thuẫn là gì? những tính chất cơ bản của mâu thuẫn (cần trình bày vị trí và vai trò của quy luật)\n",
    "- Thứ ba: Như thế nào là sự thống nhất của các mặt đối lập.\n",
    "- Thứ tư: Như thế nào là đấu tranh của các mặt đối lập và kết quả đấu tranh giữa các mặt đối lập.\n",
    "- Thứ năm: kết luận quy luật\n",
    "- Thứ sáu: rút ra một số ý nghĩa về phương pháp luận.\n",
    "\n",
    "- Quy luật 1: Đặc biệt chú ý đến quy luật mâu thuẫn (thống nhất và đấu tranh của các mặt đối lập)\n",
    "- Quy luật 2: Lượng chất\n",
    "- Quy luật 3: Phủ định của phủ định:\n",
    "    + Phủ định là: Khái niệm dùng đề chỉ sự thay thế trạng thái tồn tại này bằng một trạng thái tồn tại khác trong quá trình vận động, phát triển của sự vật, hiện tƣợng.\n",
    "     - Phủ định sạch trơn: do nguyên nhân bên ngoài gây ra, không có tính kế thừa, nên không thể tạo tiền đề cho sự phát triển.\n",
    "     - Phủ định biện chứng (phủ định cái phủ định): đây là phủ định của sự phát triển: Quy luật phủ định cái phủ định:\n",
    "        + Mang tính khách quan.\n",
    "        + Năng lực nội tại.\n",
    "        + Kế thừa.\n",
    "        + Có chu kỳ, có cái mới ra đời thay thế cái cũ.\n",
    "        + Có sự tự đào thải, tự sàng lọc.\n",
    "\n",
    "# Những mâu thuẫn nào cần được giải quyết khi muốn chuyển hoá từ cử nhân thành thạc sĩ.\n",
    "\n",
    "- Mâu thuẫn cơ bản nào cần giải quyết (mâu thuẫn về mặt tri thức).\n",
    "\n",
    "-> Lượng thường xuyên biến đổi, lượng biến đổi đến một lúc nào đó sẽ làm biến đổi về chất.\n",
    "Vd: nhiệt độ của nước ko xác định được nước nên nhiệt độ của nước là lượng.\n",
    "\n",
    "Từ những thay đổi về lượng dẫn đến sự thay đổi về chất và ngược lại. Muốn có sự thay đổi về chất phải có sự tự giác, tích cực tích luỹ về lượng. "
   ]
  }
 ],
 "metadata": {
  "language_info": {
   "name": "python"
  },
  "orig_nbformat": 4
 },
 "nbformat": 4,
 "nbformat_minor": 2
}
