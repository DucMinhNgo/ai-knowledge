{
 "cells": [
  {
   "cell_type": "markdown",
   "metadata": {},
   "source": [
    "1. Nội dung cơ bản của nhân sinh quan Phật Giáo và ảnh hưởng của Phật giáo đến xã hội Việt Nam hiện nay\n",
    "\n",
    "\n",
    "2. Nhân sinh quan của Nho Gia và ảnh hưởng của Nho Gia đến với xã hội hiện nay\n",
    "https://lichsu.tnus.edu.vn/chi-tiet/342-Tu-tuong-dao-duc-Nho-giao-va-anh-huong-cua-no-o-nuoc-ta-hien-nay"
   ]
  },
  {
   "cell_type": "markdown",
   "metadata": {},
   "source": [
    "- Phần vận dụng chiếm điểm cao\n",
    "- Cách diễn đạt, bố cục rành mạch"
   ]
  },
  {
   "cell_type": "markdown",
   "metadata": {},
   "source": [
    "https://drive.google.com/drive/folders/1pCDiKTY0kW82fLBEYAzAjtXK1nNZnwu6?fbclid=IwY2xjawEq01tleHRuA2FlbQIxMAABHZF04pozrx1v-kxJMWFqfVl9H-U2Bs_uh8F2U0gaTzak8cAWei4wtYo5Ag_aem_aW9-juQQY_sS1MNaU0tRCg"
   ]
  },
  {
   "cell_type": "markdown",
   "metadata": {},
   "source": [
    "https://giaoducthudo.giaoducthoidai.vn/5-bi-quyet-dat-diem-cao-mon-triet-hoc-16492.html"
   ]
  },
  {
   "cell_type": "markdown",
   "metadata": {},
   "source": [
    "- Trình bày các khái niệm liên quan đến nội dung trọng tâm mà đề thi yêu cầu khoa học\n",
    "- Trình bày, phân tích nội dung lý luận về vấn đề mà đề thi yêu cầu (trọng tâm của vấn đề)\n",
    "- Rút ra ý nghĩa phương pháp luận của vấn đề\n",
    "- Liên hệ với thực tiễn"
   ]
  },
  {
   "cell_type": "markdown",
   "metadata": {},
   "source": [
    "# Thi rớt sẽ học theo đề cương\n",
    "- Phép hiện chứng, hình thức lịch sử\n",
    "- Quy luật thống nhất của cá mặt đối lập\n",
    "- Mối quan hệ giữ tồn tại xã hội và ý thức xã hội\n",
    "- Mỗi quan hệ giữa triết học với khoa học\n",
    "\n",
    "- Vai trò của triết học cụ thể với khoa học và ngược lại"
   ]
  },
  {
   "cell_type": "markdown",
   "metadata": {},
   "source": [
    "# CK\n",
    "Trong tất cả các triết học đã dụ nhập vào nước ta, triết học nào ảnh hưởng sâu sắc nhất đến vận mệnh của dân tộc việt nam, chứng minh nhận định trên và trình bày chức năng của triết học đối với cách mạng việt nam giai đoạn hiện nay"
   ]
  },
  {
   "cell_type": "markdown",
   "metadata": {},
   "source": [
    "- Triết học mac lênin ảnh hưởng rất sâu sắc đến vận mệnh của dân tộc ta, đã anh hưởng, đang ảnh hưởng và sẽ ảnh hưởng.\n",
    "    + Phòng trào đổ ra nhưng không dành được thắng lợi, rơi vào khủng hoảng của đường lỗi cứu nước, đường lỗi, thế giới quan, phương pháp luận không đúng.\n",
    "    + Truyền bá thế giới quan, phương pháp luận (toàn diện, lịch sử cụ thể, toàn diện) => khủng hoảng về đường lỗi được giải quyết => CMT8 thành công, từ nô lệ => tự do. Sau chiến thắng điện biên phủ chia làm 2 miền. Miền bắc giải phóng, miền nam trở thành thuộc địa. "
   ]
  },
  {
   "cell_type": "markdown",
   "metadata": {},
   "source": [
    "# Tiểu luận\n",
    "- "
   ]
  },
  {
   "cell_type": "markdown",
   "metadata": {},
   "source": [
    "Câu 1: Những hình thức lịch sử của phép biện chứng, 2 nguyên lý cơ bản của phép biện chứng duy vật và ý nghĩa của việc nghiên cứu 2 nguyên lý này?\n",
    "Yêu cầu:\n",
    "-\tBiện chứng là gì? Phép biện chứng là gì?\n",
    "-\tGiới thiệu 3 hình thức lịch sử của phép biện chứng ( tên, thời gian ra đời, đặc trưng)\n",
    "-\tCấu trúc của phép biện chứng duy vật.\n",
    "-\tNội dung 2 nguyên lý cơ bản của phép biện chứng duy vật ( nguyên lý về mối liên hệ phổ biến và nguyên lý về sự phát triển)\n",
    "-\tTóm tắt nội dung 2 nguyên lý và rút ra 3 ý nghĩa của việc nghiên cứu 2 nguyên lý này. (Phần tóm tắt có thể chuyên lên phía trên khi nói về nội dung 2 nguyên lý)\n",
    "\n",
    "Câu 2: Nội dung quy luật thống nhất và đấu tranh của các mặt đối lập, ý nghĩa nghiên cứu quy luật này?\n",
    "Yêu cầu:\n",
    "-\tTóm tắt được nội dung của quy luật.\n",
    "-\tMặt đối lập là gì?\n",
    "-\tMâu thuẫn là gì?\n",
    "-\tTính chất của mâu thuẫn.\n",
    "-\tNhư thế nào là thống nhất của các mặt đối lập?\n",
    "-\tNhư thế nào là đấu tranh của các mặt đối lập. Kết quả đấu tranh của các mặt đối lập.\n",
    "-\tKết luận.\n",
    "-\tÝ nghĩa phương pháp luận.\n",
    "\n",
    "Câu 3: Trình bày mối quan hệ giữa tồn tại xã hội và ý thức xã hội, ý nghĩa của việc nghiên cứu mối quan hệ này?\n",
    "Yêu cầu:\n",
    "-\tTồn tại xã hội là gì? Gồm những gì? Vai trò của chúng đối với sự phát triển của xã hội.\n",
    "-\tÝ thức xã hội là gì? Cách tiếp cận đến ý thức xã hội theo trình độ phát triển và theo nội dung phản ánh ( theo chiều dọc và theo chiều ngang)\n",
    "-\tMối quan hệ giữa tồn tại xã hội và ý thức xã hội\n",
    "+ Tồn tại xã hội quyết định ý thức xã hội ( 2 ý)\n",
    "+ Năm biểu hiện về tính độc lập tương đối của ý thức xã hội.\n",
    "-\tÝ nghĩa của việc nghiên cứu mối quan hệ giữa tồn tại xã hội và ý thức xã hội.\n",
    "\n",
    "Câu 4: Trình bày mối quan hệ giữa triết học và các khoa học khác? Nhận thức của bạn về mối quan hệ của triết học và chuyên ngành bạn đang được đào tạo."
   ]
  }
 ],
 "metadata": {
  "language_info": {
   "name": "python"
  }
 },
 "nbformat": 4,
 "nbformat_minor": 2
}
