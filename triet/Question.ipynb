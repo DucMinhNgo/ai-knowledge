{
 "cells": [
  {
   "cell_type": "markdown",
   "metadata": {},
   "source": [
    "1. Nội dung cơ bản của nhân sinh quan Phật Giáo và ảnh hưởng của Phật giáo đến xã hội Việt Nam hiện nay\n",
    "2. Nhân sinh quan của Nho Gia và ảnh hưởng của Nho Gia đến với xã hội hiện nay"
   ]
  }
 ],
 "metadata": {
  "language_info": {
   "name": "python"
  }
 },
 "nbformat": 4,
 "nbformat_minor": 2
}
