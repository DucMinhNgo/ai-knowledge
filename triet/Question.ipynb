{
 "cells": [
  {
   "cell_type": "markdown",
   "metadata": {},
   "source": [
    "1. Nội dung cơ bản của nhân sinh quan Phật Giáo và ảnh hưởng của Phật giáo đến xã hội Việt Nam hiện nay\n",
    "\n",
    "\n",
    "2. Nhân sinh quan của Nho Gia và ảnh hưởng của Nho Gia đến với xã hội hiện nay\n",
    "https://lichsu.tnus.edu.vn/chi-tiet/342-Tu-tuong-dao-duc-Nho-giao-va-anh-huong-cua-no-o-nuoc-ta-hien-nay"
   ]
  },
  {
   "cell_type": "markdown",
   "metadata": {},
   "source": [
    "- Phần vận dụng chiếm điểm cao\n",
    "- Cách diễn đạt, bố cục rành mạch"
   ]
  },
  {
   "cell_type": "markdown",
   "metadata": {},
   "source": [
    "https://drive.google.com/drive/folders/1pCDiKTY0kW82fLBEYAzAjtXK1nNZnwu6?fbclid=IwY2xjawEq01tleHRuA2FlbQIxMAABHZF04pozrx1v-kxJMWFqfVl9H-U2Bs_uh8F2U0gaTzak8cAWei4wtYo5Ag_aem_aW9-juQQY_sS1MNaU0tRCg"
   ]
  },
  {
   "cell_type": "markdown",
   "metadata": {},
   "source": [
    "https://giaoducthudo.giaoducthoidai.vn/5-bi-quyet-dat-diem-cao-mon-triet-hoc-16492.html"
   ]
  },
  {
   "cell_type": "markdown",
   "metadata": {},
   "source": [
    "- Trình bày các khái niệm liên quan đến nội dung trọng tâm mà đề thi yêu cầu khoa học\n",
    "- Trình bày, phân tích nội dung lý luận về vấn đề mà đề thi yêu cầu (trọng tâm của vấn đề)\n",
    "- Rút ra ý nghĩa phương pháp luận của vấn đề\n",
    "- Liên hệ với thực tiễn"
   ]
  },
  {
   "cell_type": "markdown",
   "metadata": {},
   "source": []
  }
 ],
 "metadata": {
  "language_info": {
   "name": "python"
  }
 },
 "nbformat": 4,
 "nbformat_minor": 2
}
