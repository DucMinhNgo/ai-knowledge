{
 "cells": [
  {
   "cell_type": "markdown",
   "metadata": {},
   "source": [
    "1. Thần học tìm chân lý của niềm tin.\n",
    "2. Khoa học tìm chân lý của trí tuệ.\n",
    "\n",
    "Cả hai đều hội tụ về một điểm (Chúa).\n",
    "\n",
    "# Triết học tây âu thời phục hưng và cận đại\n",
    "- Phục hưng là khôi phục lại những gì (chủ nghĩa nhân văn, nhân đạo) bị thời kì trung cổ chôn vùi.\n",
    "\n",
    "- Con người:\n",
    "    + Phải sản sinh ra gia trị sản xuất.\n",
    "    + Giá trị tinh thần.\n",
    "    + Tái sản sinh con người.\n",
    "\n",
    "-> Đề cao vai trò của trí tuệ, giáo dụ tự dơ bình đẳng, bác ái."
   ]
  },
  {
   "cell_type": "markdown",
   "metadata": {},
   "source": [
    "# Triết học ở nước Đức\n",
    "-> Triết học phương Đông và phương Tây.\n",
    "\n",
    "-> \"Phật giáo, Nho giáo\" (tư tưởng) ảnh hưởng ntn đến đời sống của con người VN trong giai đoạn hiện nay như thế nào (trong khoảng 50 năm đổ lại)?\n",
    "- Ví dụ: Phật giáo phóng sinh, Nhân quả ở hiền gặp lành ảnh hưởng như thế nào (điểm tích cực, tiêu cực)."
   ]
  },
  {
   "cell_type": "markdown",
   "metadata": {},
   "source": [
    "# Tuần sau kiểm tra giữ kì T4 ngày 26"
   ]
  },
  {
   "cell_type": "markdown",
   "metadata": {},
   "source": [
    "# Chương 2: Củng cố kiến thức ở bậc đại học (Triết học Mac lênin).\n"
   ]
  },
  {
   "cell_type": "markdown",
   "metadata": {},
   "source": [
    "- Giai đoạn 1: hình thành và phát triển chủ nghia Mac (Các Mác và Angen thực hiện). Không có chính đảng lãnh đạo, không có lý luận dẫn đường.\n",
    "    3 Vấn đề cơ bản:\n",
    "        + Vấn đề về kinh tế xã hội: Do nhu cầu của cuộc đấu tranh của giai cấp vô sản chống giai cấp vô sản.\n",
    "        + Tiền đề lý luận: Dựa trên nền tảng, sự kế thừa.\n",
    "        + Dựa trên 3 thành tựu rất quan trọng của khoa học tự nhiên:\n",
    "            - Định luật bảo toàn và chuyển hoá năng luọng.\n",
    "            - Thuyết tiến hoá.\n",
    "            - Thuyết tế bào.\n",
    "\n",
    "    3 bộ phận cấu thành:\n",
    "        + Triết học Mac.\n",
    "        + Kinh tế chính trị Mac.\n",
    "        + Chủ nghĩa xã hội khoa học.\n",
    "\n",
    "- Giai đoạn 2: Phát triển từ chủ nghĩa Mác thành Mac lênin (Cuối thế kỉ thứ 19 đầu thế kỉ 20): Nhận thức của con người đi từ vĩ mô vào vi mô.\n",
    "    + Muốn xoá bỏ hiện tượng người bóc lột người thì phải từng bước xoá bỏ chế độ tư hưu về tư liệu sản xuất.\n",
    "    + Đấu tranh giai cấp là một trong những đông lực phát triển của xã hội có giai cấp.\n",
    "\n"
   ]
  }
 ],
 "metadata": {
  "kernelspec": {
   "display_name": "Python 3 (ipykernel)",
   "language": "python",
   "name": "python3"
  },
  "language_info": {
   "codemirror_mode": {
    "name": "ipython",
    "version": 3
   },
   "file_extension": ".py",
   "mimetype": "text/x-python",
   "name": "python",
   "nbconvert_exporter": "python",
   "pygments_lexer": "ipython3",
   "version": "3.9.12"
  }
 },
 "nbformat": 4,
 "nbformat_minor": 2
}
