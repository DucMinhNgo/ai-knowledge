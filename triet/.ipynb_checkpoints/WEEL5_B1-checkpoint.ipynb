{
 "cells": [
  {
   "cell_type": "markdown",
   "metadata": {},
   "source": [
    "# Triết học dành cho nghiên cứu sinh khối ngành khoa học tự nhiên\n",
    "a. Khoa học\n",
    "b. Hình thức biểu hiện tri thức của khoa học\n",
    "c. Mặt tích cực của tri thức khoa học\n",
    "d. Một số đặc điểm của tri thức khoa học:\n",
    "e. Phân kỳ sự phát triển của khoa học:\n",
    "    + Giai đoạn 1: Từ khi KH ra đời đến TK thứ 15. Khoa học chỉ đóng góp 10%, còn lại dựa vào tri thức kinh nghiệm hoặc sức lao động.\n",
    "    + Giai đoạn 2: Từ thế kỷ thứ 15 đến giữa TK 20: \n",
    "    + Giai đoạn 3: Cho đến nay.\n",
    "f. Phân loại phân ngành khoa học"
   ]
  },
  {
   "cell_type": "markdown",
   "metadata": {},
   "source": [
    "# Định hướng củng cố kiến thức thi cuối kỳ\n",
    "1. Phép biện chứng: 2 nguyên lý cơ bản của phép biện chứng hiên đại (ý nghĩa và vận dụng).\n",
    "2. Học thuyết hình thái kinh tế xã hội (phần trọng tâm).\n",
    "3. Mốt quan hệ giữa tồn tại xã hội và ý thức xã hội.\n",
    "\n",
    "=> Phải phân biệt đc chức năng và vai trò (có vai trò như thế nào đối với đời sống xã hội: giúp đảng đề ra đường đi đúng đắn, quốc tế hoá). Chức năng và vai trò gắn bó với nhau nhưng khác nhau.\n",
    "\n",
    "=> Vận dụng kiến thức vào cuộc sống."
   ]
  }
 ],
 "metadata": {
  "kernelspec": {
   "display_name": "Python 3 (ipykernel)",
   "language": "python",
   "name": "python3"
  },
  "language_info": {
   "codemirror_mode": {
    "name": "ipython",
    "version": 3
   },
   "file_extension": ".py",
   "mimetype": "text/x-python",
   "name": "python",
   "nbconvert_exporter": "python",
   "pygments_lexer": "ipython3",
   "version": "3.9.12"
  }
 },
 "nbformat": 4,
 "nbformat_minor": 2
}
