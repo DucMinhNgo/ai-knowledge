{
 "cells": [
  {
   "cell_type": "markdown",
   "metadata": {},
   "source": [
    "# Phương đông và phương tây\n",
    "- Đông:\n",
    "    - Khuynh hướng (khuynh hướng tư duy) hướng nội\n",
    "    - Đánh giá rất cao vai trò của đạo đức\n",
    "    - quan điểm phát triển về cơ bản dựa trên thế hệ trước (không có những thay đổi có tính chất bước ngoặc) chủ yếu là tìm hiểu về tư tưởng thời kỳ cổ đại.\n",
    "    - Ẩn dụ\n",
    "- Tây:\n",
    "    - Khuynh hướng hướng ngoại (khám phá, hiểu biết tự nhiên là hướng ngoại)\n",
    "    - Truy tìm bản nguyên của vũ trụ\n",
    "    - Có tính bước ngoặc.\n",
    "    - Chính luận"
   ]
  },
  {
   "attachments": {},
   "cell_type": "markdown",
   "metadata": {},
   "source": [
    "# Tử tưởng của triết học Việt Nam\n",
    "- Việt Nam chỉ có tư tưởng triết học (ca giao, tục ngữ) không có học thuyết triết học.\n",
    "- Tử tưởng triết học VN chưa thành hệ thống.\n",
    "\n",
    "# Tư tưởng Hồ Chí Minh (ghi)\n",
    "- Nước ta chịu ảnh hưởng tư tưởng của nhiều học thuyết triết học. Trong đó thì tủ tưởng của Phật giáo, Nho gia đã có thời kì là quốc giáo, chủ nghĩa Mac lê nin là nền tảng tư tưởng là định hướng là kim chỉ nam cho triết học VN, Tư tưởng HCM là sự vận dụng tư tưởng, phát triển sáng tạo của chủ nghĩa Mac lênin vào bối cảnh VN, mỗi 1 dân tộc ảnh hưởng đến đời sống VN. Ảnh hưởng đến phong tục tập quán chủ yếu ở tín ngưỡng tâm linh. Nho giáo ảnh hưởng nhiều ở góc độ đạo đức, quan niêm giữa người với người ảnh huong đến lối sống nếp sống, phong tuc tập quán. Chủ nghĩa Mac gốm 3:\n",
    "- triết học Mac lênin\n",
    "- kinh tế chính trị mac lênin\n",
    "- CHủ nghia xã hội khoa học\n",
    "Chủ nghĩa Mac ảnh hưởng trực tiếp đến vận mệnh của triết học nói chung và triết học Mac nói riêng khi VN bị khung hoảng bởi đường lỗi cứu nước thì HCM đã đi tìm đường giải phóng nhân dân. Khi HCM tiếp cận được chủ nghĩa Mac lênin thì con đường cứu nc đã được định hình. Dưới ánh sáng của chủ nghĩa Mac lê nin nói chung và triết học Mac nói riêng thì các mạng dân chủ nhân dân việt nam thắng lợi và nước cộng hoà xã hội chủ nghĩa VN ra đời (VN từ một nước nô lệ thành một nước độc lập tự do).\n"
   ]
  },
  {
   "attachments": {},
   "cell_type": "markdown",
   "metadata": {},
   "source": [
    "# Triết học phương tây\n",
    "- Triết học Hy lạp là cội nguồn của Triết học phương Tây. \n",
    "- Đặc điểm:\n",
    "    + Tư tưởng Hướng ngoại.\n",
    "    + Truy tìm bản nguyên (điểm khởi đầu (bản nguyên) cùa vũ trụ).\n",
    "    + Đề cao lý tính."
   ]
  }
 ],
 "metadata": {
  "language_info": {
   "name": "python"
  },
  "orig_nbformat": 4
 },
 "nbformat": 4,
 "nbformat_minor": 2
}
