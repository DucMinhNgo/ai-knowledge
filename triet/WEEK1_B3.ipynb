{
 "cells": [
  {
   "attachments": {},
   "cell_type": "markdown",
   "metadata": {},
   "source": [
    "# Chương 1"
   ]
  },
  {
   "attachments": {},
   "cell_type": "markdown",
   "metadata": {},
   "source": [
    "1. Phật giáo ở Việt Nam:\n",
    "- Phật giáo du nhập vào VN qua 2 con đường:\n",
    "    1. Trực tiếp từ Ấn độ (con đường buôn bán, truyền giáo).\n",
    "    2. Phật giáo vào TQ rồi từ TQ vào VN.\n",
    "\n",
    "- Phật giáo VN qua các triều đại (hưng 500 năm -> suy 500 -> trấn hưng lại):\n",
    "    + Nhà Đinh (968-985): Phật giáo là quốc giáo.\n",
    "    + Tiền Lê (986-1009): Phận giáo vấn được đề cao.\n",
    "    + Nhà Lý (1009-1225): Tam giáo đồng nguyên (song song): Phật giáo (vẫn giữ vị trí độc tôn), nho giáo, đạo giáo.\n",
    "    + Nhà Trần (1226-1440): Giai đoạn đầu rất hưng thịnh, giai đoạn sau suy yếu dần, Nho giáo từng buớc phát triển mạnh.\n",
    "    + Nhà Hồ (1400-1407): Phật giáo bị kiểm soát nghiêm ngặt.\n",
    "\n",
    "-> Đặc điểm của Phật giáo là nhập thế cứu đời."
   ]
  }
 ],
 "metadata": {
  "language_info": {
   "name": "python"
  },
  "orig_nbformat": 4
 },
 "nbformat": 4,
 "nbformat_minor": 2
}
