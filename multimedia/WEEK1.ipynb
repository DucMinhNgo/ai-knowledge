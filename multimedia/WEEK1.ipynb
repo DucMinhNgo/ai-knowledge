{
 "cells": [
  {
   "cell_type": "markdown",
   "metadata": {},
   "source": [
    "- Nhiều hệ thống xử lý.\n",
    "\n",
    "# Quy định trong môn học\n",
    "- Nhóm 3 người (nếu nhiều hơn thì thông báo thầy).\n",
    "- Hình thức thi cuối kỳ: mong muốn có seminar (workshops).\n",
    "\n",
    "\n",
    "# Nội dung của môn học\n",
    "- Dùng các thuật toán học sâu (có thể thêm các thuật toán học máy).\n",
    "    + Computer vision: Course computer vision (MIT).\n",
    "    + Computational photography: UIUC university.\n",
    "    + Information Retrieval: \n",
    "    + Multimedia Forensics: Phát hiện thật gỉa, tự nhiên hay do máy sinh ra, out of context: một bức ảnh xuất hiện trong hai bài viết không nhất quán.\n",
    "\n",
    "Note: Làm sao sinh ra câu prompt cho hiệu quả?\n",
    "Tạo video từ nhạc và lồng nhạc theo từng môi trường.\n",
    "\n",
    "Stable Diffusion => Sinh ra dữ liệu (syncthesize).\n",
    "Impainting: vá ảnh.\n",
    "\n",
    "RGB, HSV.\n",
    "Pixel Privacy  => MediaEval.\n",
    "Phân biệt ảnh máy phân biệt được nhưng mà người ko phân biệt được.\n",
    "Filter vs Warp:\n",
    "\n",
    "Ước lượng mức độ quan trọng trong ảnh là: vector gradient (Seam Carving: resize hình ảnh).\n",
    "\n",
    "Saliency detection:"
   ]
  }
 ],
 "metadata": {
  "language_info": {
   "name": "python"
  },
  "orig_nbformat": 4
 },
 "nbformat": 4,
 "nbformat_minor": 2
}
