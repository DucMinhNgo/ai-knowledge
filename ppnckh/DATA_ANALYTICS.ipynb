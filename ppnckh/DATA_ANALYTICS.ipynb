{
 "cells": [
  {
   "attachments": {},
   "cell_type": "markdown",
   "metadata": {},
   "source": [
    "- Explain what is data analytics is and key steps in the Data Analytics process.\n",
    "- Differentiate between data roles such DE, DA, DS, BA, BIA.\n",
    "- Describe the diffrent types of data structires, file formats, and sources of data.\n",
    "- Explain the use for siffrent types of data responsitories, the ETL process, and Big Data platforms.\n",
    "- Describe the process and tools for gathering data, wranling data, mining and analyzing data, and visualizing data.\n",
    "- List the diffrent career opportunities in Data Analysis and resources for getting skilled in this domain.\n",
    "- Demonstrate your understanding of gathering, wrangling (tranh cãi), mining, analyzing and visualizing data. "
   ]
  },
  {
   "attachments": {},
   "cell_type": "markdown",
   "metadata": {},
   "source": [
    "# General information:\n",
    "- gain (nhận được) an understanding of data stures, file formats, sources of data, data repnositories.\n",
    "- understand what big data is and the features and uses of some of the Big Data processing tools.\n",
    "[pre-requisite]:\n",
    "  + \n",
    "\n",
    "vocabulary:\n",
    "- stakeholder: các bên liên quan.\n",
    "- basic computer literacy: tin học cơ bản.\n",
    "- willingness: sự tự nguyện."
   ]
  }
 ],
 "metadata": {
  "language_info": {
   "name": "python"
  },
  "orig_nbformat": 4
 },
 "nbformat": 4,
 "nbformat_minor": 2
}
