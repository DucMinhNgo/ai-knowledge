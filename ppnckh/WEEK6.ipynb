{
 "cells": [
  {
   "attachments": {},
   "cell_type": "markdown",
   "metadata": {},
   "source": [
    "# Tuần trước\n",
    "- Tài liệu khoa học (bài báo)\n",
    "1. Tại sao phải công bố?\n",
    "2. Tiêu chí đánh giá bài báo:\n",
    "  - Định tính\n",
    "  - Định lượng\n",
    "\n",
    "# Tuần này:"
   ]
  },
  {
   "attachments": {},
   "cell_type": "markdown",
   "metadata": {},
   "source": [
    "# Quy trình xuất bản bài báo khoa học\n",
    "- Xuất bản bài báo khoa học (tạp chí) qua những bước nào?\n",
    "  [research]:\n",
    "    + Gửi bản thảo cho tạp chí(submission)\n",
    "    + Kiểm tra chất lượng ban đầu của tổng biên tập (editorial review)\n",
    "    + Lựa chọn người phản biện (peer review selection)\n",
    "    + Phản biện\n",
    "    + Ra quyết định của tổng biên tập (editorial decision)\n",
    "    + Phản hồi của tác giả\n",
    "    + Phản biện lần 2 (nếu có)\n",
    "    + Chỉnh sửa văn phong, diễn đạt, đọc rà soát, hiệu đính và xuất bản.\n",
    "  [lesson]:\n",
    "    + Tạo chí Journal\n",
    "    + Tổng biên tập\n",
    "\n",
    "# Làm thế nào để xuất bản bài báo khoa học (hội nghị)?\n",
    "- Chọn 1 hội nghị\n",
    "- Viết bài báo theo đúng format và chủ đề của hộ nghị\n",
    "- Gửi đúng thời hạn\n",
    "\n",
    "# Khi nào xuất bản ở tạp chí, khi nào xuất bản ở hội nghị?\n",
    "- [Tạp-chí]:\n",
    "  + Chủ động đề tài, ko giới hạn thời gian\n",
    "  + Phải viết chi tiết hơn\n",
    "  + ít nhất là 6 tháng mới đăng được\n",
    "\n",
    "- [Hội-nghị]:\n",
    "  + Giới hạn thời gian.\n",
    "  + Vài tháng để đăng, gặp gỡ và trao đổi.\n",
    "  + Khi muốn tìm việc làm.\n",
    "\n",
    "# Thế nào là một bài báo mới?\n",
    "- Có 4 cấp độ mới:\n",
    "  + Tìm ra được 1 ý tưởng hoàn toàn mới.\n",
    "  + Đưa ra một phương pháp mới (trình bày pp mới giải quyết bài toán cũ).\n",
    "  + Đề xuất cải tiến.\n",
    "  + Áp dụng phương pháp cũ nhưng áp dụng mô hình cho dữ liệu mới (đa phần sinh viên sẽ sử dụng phương pháp này cho bài báo nghiên cứu khoa học).\n",
    "\n",
    "# Ngay từ tên, tóm tắt 150 từ:\n",
    "- Phải biểu hiện được cái mới.\n",
    "\n",
    "# Tại sao không phải chủ tịch quyết định, mà là những người cùng cấp (đồng nghiệp quyết định đăng).\n",
    "- Vì khoa học không thể mệnh lệnh hành chính được (nếu mệnh lệnh hành chính thì không thể đngaw bài báo mới được).\n",
    "\n",
    "# Giải thích\n",
    "- peer review: Phản biện đồng cấp\n",
    "- general chairs: chủ tịch hội nghị.\n",
    "- program chairs: chủ tịch chương trình của hội nghị.\n",
    "- evidence: chứng cứ"
   ]
  },
  {
   "attachments": {},
   "cell_type": "markdown",
   "metadata": {},
   "source": [
    "# Chương 3: Xây dựng đề cương nghiên cứu (research proposal)\n",
    "\n",
    "# Tại sao chọn đề tài đó?\n",
    "- [lesson]:\n",
    "  + Qua môn\n",
    "  + Tái sử dụng\n",
    "- [Giải-pháp-giao-thông-thông-minh]:\n",
    "  + Nhìn lại các đề tài thầy cô đã làm.\n",
    "  + Tham dự các buổi bảo về luận văn luận án xem có phương pháp hay chủ đề có phù hợp với bản thân hay không?\n",
    "  + Làm ở đâu thì phải yêu quý nói mình ở.\n",
    "  + Phải có 1 cái tầm nhìn (vision).\n",
    "  + Evidence.\n",
    "  + Việc làm có đóng góp được gì cho cộng đồng không? (tính cộng đồng).\n",
    "  + Giải quyết vấn đề kẹt xe điều tiết giao thông ở các ngã giao.\n",
    "\n",
    "# Muốn làm nghiên cưu hay làm business?"
   ]
  }
 ],
 "metadata": {
  "kernelspec": {
   "display_name": "Python 3",
   "language": "python",
   "name": "python3"
  },
  "language_info": {
   "name": "python",
   "version": "3.11.1"
  },
  "orig_nbformat": 4,
  "vscode": {
   "interpreter": {
    "hash": "5c7b89af1651d0b8571dde13640ecdccf7d5a6204171d6ab33e7c296e100e08a"
   }
  }
 },
 "nbformat": 4,
 "nbformat_minor": 2
}
