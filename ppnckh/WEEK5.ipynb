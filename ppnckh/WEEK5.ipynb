{
 "cells": [
  {
   "attachments": {},
   "cell_type": "markdown",
   "metadata": {},
   "source": [
    "# Chương 1: \n",
    "- Khoa học - Công nghệ - ĐMST (đổi mới sáng tạo) - nghiên cứu khoa học -> mô hình lời nói tri thức -> công nghệ thông tin: Dữ liệu - Thông tin - Tri thức khoa học.\n",
    "- Khóa học Edx."
   ]
  },
  {
   "attachments": {},
   "cell_type": "markdown",
   "metadata": {},
   "source": [
    "# Chương 2: Tài liệu khoa học\n",
    "\n",
    "- [Câu hỏi 1]: Bài báo khoa học là gì?\n",
    "  + Phân biệt bài báo khoa học với vnexpress: chỉ cung cấp thông tin\n",
    "  + Loại bài báo khoa học:\n",
    "    - Technical report ( báo cáo kĩ thuật):\n",
    "    - Hội nghị (conference):\n",
    "    - Hội thảo (workshop):\n",
    "    - Đăng trên tạp chí (journal articles): rất dài công bố toàn bộ quá trình nghiên cứu\n",
    "\n",
    "- [Câu hỏi 2]: Viết bài báo khoa học để làm gì?\n",
    "  + Tại sao lại phải công bố: công bố là nhiệm vụ\n",
    "\n",
    "- [Câu hỏi 3]: Làm thế nào để đọc hiệu quả các bài báo nghiên cứu khoa học?\n",
    "  + [Ý kiến cá nhân]: Đọc tiêu đề, mô tả, mục tiêu của bài báo (bài toán giải quyết những vấn đề gì), phương pháp lý thuyết, cơ sở của bài báo, Tìm hiểu về số lượng trích dẫn, độ uy tín của diễn đàn, hội nghị.\n",
    "\n",
    "- [Câu hỏi 4]: Các tiêu chí (indicators) để đánh giá một bài báo tốt, có chất lượng\n",
    "  + [Ý kiến cá nhân]: \n",
    "    - Ranking cao\n",
    "    - Số lượng trích dẫn lớn\n",
    "    - Đăng trên tạp chí, hội nghị uy tín\n",
    "    - Số lượng datasets chạy thực nghiệm\n",
    "    - Accurency cao\n",
    "    - Trình bày khoa học, dễ hiểu\n",
    "    - Mới new contribution\n",
    "\n",
    "- [Câu hỏi 5]: Thế nào là hội nghị, tạp chí uy tín:\n",
    "  + dựa trên chỉ số định lượng:\n",
    "    + AR (Accepted Rate) = Tổng số Accepted / Tổng số Submited\n",
    "    + IF = Tổng citations / Tổng paper \n",
    "\n",
    "- Cấu trúc của một bái báo khoa học:\n",
    "  + Title:\n",
    "\n"
   ]
  }
 ],
 "metadata": {
  "kernelspec": {
   "display_name": "Python 3",
   "language": "python",
   "name": "python3"
  },
  "language_info": {
   "name": "python",
   "version": "3.11.1"
  },
  "orig_nbformat": 4,
  "vscode": {
   "interpreter": {
    "hash": "5c7b89af1651d0b8571dde13640ecdccf7d5a6204171d6ab33e7c296e100e08a"
   }
  }
 },
 "nbformat": 4,
 "nbformat_minor": 2
}
