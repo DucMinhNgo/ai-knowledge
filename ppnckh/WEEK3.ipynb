{
 "cells": [
  {
   "attachments": {},
   "cell_type": "markdown",
   "metadata": {},
   "source": [
    "# Làm thế nào để tăng các bài báo quốc tế?\n",
    "1. Brainstorming: \n",
    "2. Clustering group:\n",
    "3. Voting:\n",
    "\n",
    "# Khoa học là gì?\n",
    "1. Brainstorming:\n",
    "  - Đóng góp về tri thức.\n",
    "2. Clustering group:\n",
    "3. Voting:\n",
    "\n",
    "# Giữa khoa học và công nghệ về cơ bản độc lập với nhau hay hỗ trọ nhau.\n",
    "- Khoa học:\n",
    "- Công nghệ:\n",
    "- Đổi mới sáng tạo:\n",
    "\n",
    "- Công nghệ, con người, mô hình hoạt động => sự tăng trưởng."
   ]
  }
 ],
 "metadata": {
  "kernelspec": {
   "display_name": "Python 3",
   "language": "python",
   "name": "python3"
  },
  "language_info": {
   "name": "python",
   "version": "3.11.1"
  },
  "orig_nbformat": 4,
  "vscode": {
   "interpreter": {
    "hash": "5c7b89af1651d0b8571dde13640ecdccf7d5a6204171d6ab33e7c296e100e08a"
   }
  }
 },
 "nbformat": 4,
 "nbformat_minor": 2
}
