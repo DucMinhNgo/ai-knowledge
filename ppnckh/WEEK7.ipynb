{
 "cells": [
  {
   "attachments": {},
   "cell_type": "markdown",
   "metadata": {},
   "source": [
    "# Kỹ năng viết tài liệu\n",
    "- Title -> Author -> Abstract\n",
    "\n",
    "# Reading\n",
    "# Kỹ năng trình bày (presentation):\n",
    "- Xác định người nghe.\n",
    "- Cấu trúc viết bài nói chuyện, trình bày.\n",
    "- Key message: mỗi bài trình bày gửi một thông thông điệp (không nhiều hơn 1 thông điệp).\n",
    "- Evident support (bằng chứng hỗ trợ cho Key message).\n",
    "- Slide/ Read.\n",
    "- Note: Kỹ lưỡng. "
   ]
  },
  {
   "attachments": {},
   "cell_type": "markdown",
   "metadata": {},
   "source": [
    "# Chương 5: Một số vấn đề trong nghiên cứu khoa học\n",
    "1. Đạo văn (plagiarism):\n",
    "- Lấy nguyên văn bài mà không trích dẫn, sao chép lại.\n",
    "- Lấy văn bản chỉnh lại.\n",
    "- Lấy cả câu (không có trích dẫn phù hợp).\n",
    "- Lấy ý tưởng.\n",
    "=> Viết lại bằng ngôn ngữ của mình.\n",
    "\n",
    "# Điểm:\n",
    "- Báo cáo giữ kì\n",
    "- Báo cáo cuối kì\n",
    "- Vấn đáp\n",
    "- Hình thức: báo cáo, chi tiết, tóm tắt (4-6 trang), tiếng anh, tiếng việt đều được - có slide, vấn đáp theo nhóm."
   ]
  },
  {
   "attachments": {},
   "cell_type": "markdown",
   "metadata": {},
   "source": [
    "#"
   ]
  }
 ],
 "metadata": {
  "language_info": {
   "name": "python"
  },
  "orig_nbformat": 4
 },
 "nbformat": 4,
 "nbformat_minor": 2
}
