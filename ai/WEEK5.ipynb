{
 "cells": [
  {
   "attachments": {},
   "cell_type": "markdown",
   "metadata": {},
   "source": [
    "# AI có khả năng giải thích (Explainable Artificial Intelligence)\n",
    "- AI chỉ mới đưa ra được dự đoán chưa đưa ra được lời giải thích tại sao lai đưa ra dự đoán đó."
   ]
  },
  {
   "attachments": {},
   "cell_type": "markdown",
   "metadata": {},
   "source": [
    "Phần 1: Giới thiệu XAI\n",
    "- What is AI? (Why AI?)\n",
    "\n",
    "- How do we approach it?\n",
    "\n",
    "- Why does it do that? (Có khả năng giải thích).\n",
    "\n",
    "Chương trình: Là mã hóa của thuật toán.\n",
    "Thuật toán: Chạy ra kết quả như nhau.\n",
    "\n",
    "  Thuật toán:\n",
    "+                                     => Program => ML\n",
    "  Heristic: riêng cho từng trường hợp\n",
    "\n",
    "- Mô hình giải thích được (White box)\n",
    "- Mô hình không giải thích được (black box)\n",
    "- explaination: giải thích (khái niệm trong AI).\n",
    "- interpret: thông dịch (khái niệm trong machine learning).\n",
    "\n",
    "- Ba loại giải thích:\n",
    "  + (seft-Explaination Models) Mô hình tự giải thích\n",
    "  + (global Expaination Models) Giải thích toàn cục\n"
   ]
  },
  {
   "attachments": {},
   "cell_type": "markdown",
   "metadata": {},
   "source": [
    "# VQA: Visual Question Answering:\n",
    "Xử lý ảnh và NLP"
   ]
  }
 ],
 "metadata": {
  "kernelspec": {
   "display_name": "Python 3",
   "language": "python",
   "name": "python3"
  },
  "language_info": {
   "name": "python",
   "version": "3.11.1"
  },
  "orig_nbformat": 4,
  "vscode": {
   "interpreter": {
    "hash": "5c7b89af1651d0b8571dde13640ecdccf7d5a6204171d6ab33e7c296e100e08a"
   }
  }
 },
 "nbformat": 4,
 "nbformat_minor": 2
}
