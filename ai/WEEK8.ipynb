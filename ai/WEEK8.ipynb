{
 "cells": [
  {
   "attachments": {},
   "cell_type": "markdown",
   "metadata": {},
   "source": [
    "# CNN or ConvNet\n",
    "- Thường kích thước là số lẻ (filter): 3x3, 5x5, 7x7.\n",
    "- Stride thông thường là 1 hoặc 2: không qá lớn.\n",
    "- Dilated: cách (Bài toán khôi phục ảnh).\n",
    "- Dropout: giảm số lượng tham số (tạm thời bỏ quá neuron nào).\n",
    "- mobinet xây dựng ai cho các ứng dụng (lên sử dụng kiến trúc này).\n",
    "\n",
    "- Nếu tự xây dựng tập dữ liệu (có đáng tin cây ko)?"
   ]
  }
 ],
 "metadata": {
  "language_info": {
   "name": "python"
  },
  "orig_nbformat": 4
 },
 "nbformat": 4,
 "nbformat_minor": 2
}
