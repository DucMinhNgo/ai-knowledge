{
 "cells": [
  {
   "attachments": {},
   "cell_type": "markdown",
   "metadata": {},
   "source": [
    "# Kiểm tra 4 chủ đề của 4 tuần đầu tiên + explainable ai + đề mở + tài liệu giấy."
   ]
  },
  {
   "attachments": {},
   "cell_type": "markdown",
   "metadata": {},
   "source": [
    "# Multi-layer perceptron\n",
    "- Mạng neural cơ bản (ANN)\n",
    "- sigmoi\n",
    "- perceptron: and, or, xor: sự kết hợp giữa hai đường phân cách.\n",
    "- Mạng đa lớp truyền thẳng (fully connected: khối lượng lớn).\n",
    "- Mạng lan truyền ngược (Lan truyền lỗi ngược về từ lớp cuối cùng ngược về trước để thay đổi tham số): triển khai của gradient descent.\n",
    "- Mạng bt có khoảng 5, 6 lớp.\n",
    "- error gradient."
   ]
  },
  {
   "attachments": {},
   "cell_type": "markdown",
   "metadata": {},
   "source": [
    "# Hebbian learning (Unsupervisor learning)\n",
    "- Sự tương quan giữa các thành phần của vector đặc trưng.\n",
    "- Kohonen.\n",
    "- lateral connection."
   ]
  }
 ],
 "metadata": {
  "language_info": {
   "name": "python"
  },
  "orig_nbformat": 4
 },
 "nbformat": 4,
 "nbformat_minor": 2
}
