{
 "cells": [
  {
   "cell_type": "markdown",
   "metadata": {},
   "source": [
    "# What is machine learning\n"
   ]
  },
  {
   "cell_type": "markdown",
   "metadata": {},
   "source": [
    "# Giới hạn\n",
    "- Search\n",
    "    + Định nghĩa trạng thái đầu cuối, chuyển dịch trạng thái: BFS, DFS, LDFS, IDS, UCS, A*, Greedy\n",
    "- Logic\n",
    "    + Propositional logic\n",
    "        - Convert natural language => logic\n",
    "        - Chứng minh mệnh đề:\n",
    "            - Model checking\n",
    "            - Resolution (hợp giải: DP)\n",
    "            - Suy diễn tiến, suy diễn lùi\n",
    "    + First order Logic\n",
    "        - \n",
    "- Machine learning\n",
    "    + IDS, Naive bayes\n",
    "    + Neural network"
   ]
  }
 ],
 "metadata": {
  "language_info": {
   "name": "python"
  }
 },
 "nbformat": 4,
 "nbformat_minor": 2
}
