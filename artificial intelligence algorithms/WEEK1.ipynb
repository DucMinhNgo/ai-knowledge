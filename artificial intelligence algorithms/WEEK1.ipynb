{
 "cells": [
  {
   "cell_type": "markdown",
   "metadata": {},
   "source": [
    "reflect (phản ánh: vô thức) and rational (hợp lý)\n",
    "SVM: support vector machine\n",
    "percept: nhận thức được\n",
    "omniscience: biết hết toàn bộ\n",
    "\n",
    "1. Bài toán tìm kiếm\n",
    "# Bài toán 8 con hậu\n",
    "\n",
    "2. Knowledge and reasoning"
   ]
  },
  {
   "cell_type": "markdown",
   "metadata": {},
   "source": [
    "# Intelligent Agents\n",
    "What is Agent?\n",
    "- Để đo lường hiệu năng của agent thì mình sẽ đánh giá chuỗi hành động của agent đối với môi trưởng là đúng hay ko đúng cái mà mình mong muốn.\n",
    "\n",
    "Rational:\n",
    "- performance measure\n",
    "- percept sequense\n",
    "- prior knowledge\n",
    "- action\n",
    "\n",
    "The task environment (vấn đề mà agent phải giải quyết) (PEAS)\n",
    "- performance measure\n",
    "- environment\n",
    "- agent's actuators\n",
    "- agent's sensors\n",
    "\n",
    "\n",
    "\n"
   ]
  }
 ],
 "metadata": {
  "language_info": {
   "name": "python"
  }
 },
 "nbformat": 4,
 "nbformat_minor": 2
}
