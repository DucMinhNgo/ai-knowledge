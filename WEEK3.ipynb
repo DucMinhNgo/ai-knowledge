{
 "cells": [
  {
   "attachments": {},
   "cell_type": "markdown",
   "metadata": {},
   "source": [
    "# Monte Carlo Tree Search (MCTS)\n",
    "- Game tree:\n",
    "Game đối kháng.\n",
    "  + Minimax search: Không có yếu tố ngẫu nhiên\n",
    "  + Expectimax general minimax: \n",
    "  + Heuristic search:\n",
    "terminate: trạng thái kết thúc trò chơi.\n",
    "\n",
    "- backpropagation: lan truyền ngược\n",
    "- rollout - simulate| playout: triển khai (thực hiện chơi thử)\n",
    "- Hai giai đoạn:\n",
    "  + 1) Khởi tạo chính sách (supervisor learning).\n",
    "  + 2) Giai đoạn tự chơi.\n",
    "- Cân bằng giữa khảo sát cái mới và khai thác tân dụng cái cũ:\n",
    "  + Exploration: Khảo sát cái mới.\n",
    "  + Expoitation: Khai thác tận dụng cái cũ.\n",
    "- Lựa chọn node con:\n",
    "  + Max child: chọn node có điểm cao nhất.\n",
    "  + Robust child: Chọn node có số lần thăm viếng nhiều nhất.\n",
    "  + Max-robust child: Max child + Robust child, nếu không tồn tại có thể chọn Robust child để thay thế.\n",
    "  + Secure child.\n",
    "\n",
    "- Tìm bài báo đảm bảo code chạy được.\n",
    "- Viết proposal (phương pháp viết proposal): proposal (đề nghị).\n",
    "\n",
    "- Tìm kiếm Paper quality:\n",
    "  + HN/TC uy tín (nên chọn HN), HN: hội nghị, TC: tạp chí.\n",
    "  + 3 năm trở lại đây.`\n"
   ]
  },
  {
   "attachments": {},
   "cell_type": "markdown",
   "metadata": {},
   "source": [
    "# Federated learning (FL) - (Học tập liên kết): A definition.\n",
    "- Dựa bào thiết bị cục bộ: \n",
    "  + xảy ra quá trình huấn luyện và các tham số sẽ được gửi về trung tâm.\n",
    "  + Các bộ tham số nhỏ\n",
    "  + Tổng họp tham số và tạo ra mô hình toàn cục.\n",
    "  + Bộ tham số thường có kích thước nhỏ hơn dữ liệu cục bộ. \n",
    "- Dữ liệu chuẩn đoán bệnh: ko được chia sẻ dữ liệu\n",
    "\n",
    "IOT: sức mạnh tính toán yếu.\n",
    "\n",
    "- Các loại fedarated:\n",
    "  + Huấn luyện trên server (centralized)\n",
    "  + Tự huấn luyện trên thiết bị mà sharing với nhau (distributed learning), thường là client mạnh và đáng tin cậy.\n",
    "\n",
    "- Chiến lược làm sao có thể kết hợp thông tin.\n",
    "\n",
    "- TensorFlow Fedareted learning."
   ]
  }
 ],
 "metadata": {
  "kernelspec": {
   "display_name": "Python 3",
   "language": "python",
   "name": "python3"
  },
  "language_info": {
   "name": "python",
   "version": "3.10.9 (main, Dec 15 2022, 10:44:50) [Clang 14.0.0 (clang-1400.0.29.202)]"
  },
  "orig_nbformat": 4,
  "vscode": {
   "interpreter": {
    "hash": "b0fa6594d8f4cbf19f97940f81e996739fb7646882a419484c72d19e05852a7e"
   }
  }
 },
 "nbformat": 4,
 "nbformat_minor": 2
}
