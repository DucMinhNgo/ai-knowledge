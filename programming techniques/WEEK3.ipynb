{
 "cells": [
  {
   "cell_type": "markdown",
   "metadata": {},
   "source": [
    "# Lưu ý trường hợp tràn số\n",
    "# Function in various files\n",
    "\n",
    "# Branching strategy (chiến lược rẽ nhánh)\n",
    "decision table\n",
    "- Bài toán năm nhuận\n",
    "- Số lượng ngày kế tiếp\n",
    "\n"
   ]
  },
  {
   "cell_type": "code",
   "execution_count": null,
   "metadata": {
    "vscode": {
     "languageId": "plaintext"
    }
   },
   "outputs": [],
   "source": []
  },
  {
   "cell_type": "markdown",
   "metadata": {},
   "source": []
  }
 ],
 "metadata": {
  "language_info": {
   "name": "python"
  }
 },
 "nbformat": 4,
 "nbformat_minor": 2
}
