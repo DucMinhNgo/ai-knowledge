{
 "cells": [
  {
   "cell_type": "markdown",
   "metadata": {},
   "source": [
    "# Thị giác máy tính\n",
    "- Đặc trưng: màu, vân, giáng, chuyển động.\n",
    "    + Màu: của 1 điểm ảnh, là đặc trưng số hóa của ánh sáng. Màu của ảnh là tập hợp các bộ của ảnh mang giá trị (R, G, B) trong khoảng từ 0 -> 255.\n",
    "        - Lấy đặc trưng trên lưới, vùng (lấy điểm ảnh trọng yếu để rút ra nhũng cái batch).\n",
    "        - Rút trích đặc trung phải thể hiện được sự phân bố về màu sắc.\n",
    "        - Số màu RGB: n=2^8.2^8.2^8=16.7 (tr phần tử).\n",
    "        - Số màu HSV: H - Hue(vùng): [0, 360] => 18, S - Saturation(độ bão hòa): [0, 1] => 10, V - Value(giá trị): [0, 1] => 10. n=18.10.10=1800.\n",
    "        - Màu trong tự nhiên biến thiên liên tục.\n",
    "        - Khi trích xuất đặc trưng thì dựa trên tiêu chí gì (để đánh giá đặc trưng đó là tốt hay xấu).\n",
    "\n",
    "# Xử lý ảnh: input ảnh => ảnh.\n",
    "# Thị giác máy tính: input ảnh => semantic.\n",
    "\n",
    "# Bài tập:\n",
    "- Bài tập: đánh giá kích thước lưu trữ của ảnh RGB (1024x1024).\n",
    "    + Giải: số điểm ảnh: 1024*1024 ~ 10^6, số byte màu cho mỗi điểm ảnh: 10^6*3 => 3MB (RGB). 4*1800 = 7200 = 7.2 KB."
   ]
  }
 ],
 "metadata": {
  "language_info": {
   "name": "python"
  }
 },
 "nbformat": 4,
 "nbformat_minor": 2
}
