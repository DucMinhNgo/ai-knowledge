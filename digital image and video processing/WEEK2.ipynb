{
 "cells": [
  {
   "cell_type": "markdown",
   "metadata": {},
   "source": [
    "# Thị giác máy tính\n",
    "- Đặc trưng: màu, vân, giáng, chuyển động.\n",
    "    + Màu: của 1 điểm ảnh, là đặc trưng số hóa của ánh sáng. Màu của ảnh là tập hợp các bộ của ảnh mang giá trị (R, G, B) trong khoảng từ 0 -> 255."
   ]
  }
 ],
 "metadata": {
  "language_info": {
   "name": "python"
  }
 },
 "nbformat": 4,
 "nbformat_minor": 2
}
