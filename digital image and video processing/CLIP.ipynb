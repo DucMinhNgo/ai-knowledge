{
 "cells": [
  {
   "cell_type": "markdown",
   "metadata": {},
   "source": [
    "# CLIP: constractive language - Image pre-training\n",
    "https://openai.com/research/clip\n",
    "\n",
    "build on a large body of work on zeroshot transfer, natural language supervision and multimodal language\n",
    "\n",
    "Cost datasets:"
   ]
  }
 ],
 "metadata": {
  "language_info": {
   "name": "python"
  }
 },
 "nbformat": 4,
 "nbformat_minor": 2
}
