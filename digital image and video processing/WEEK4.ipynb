{
 "cells": [
  {
   "cell_type": "markdown",
   "metadata": {},
   "source": [
    "# Core Vision Tasks:\n",
    "- Semantation\n",
    "- Detection\n",
    "- Classification\n",
    "\n",
    "Đề tài 2:\n",
    "Refenne Image Segmentation.\n",
    "\n",
    "Đề tài 7:\n",
    "Học sâu đa phương thức: vừa ảnh vừa text.\n",
    "\n",
    "Đề tài 8: \n",
    "Meta learning tài learning (học cách học): thường là trong phân loại ảnh y khoa.\n",
    "\n",
    "Đề tài 9: \n",
    "Tạo đối tượng 3D dựa trên mô hình Diffusion"
   ]
  },
  {
   "cell_type": "markdown",
   "metadata": {},
   "source": [
    "Cách tìm tài liệu (tìm tổng quan để hiểu được bức tranh chung (người ta làm gì)).\n",
    "\n",
    "Ưu tiên tài liệu trong 5 năm gần đây.\n",
    "\n",
    "Nên có thư mục Selections (từ 3, 5: để lựa chọn):\n",
    "\n",
    "Luận văn cao học tối thiểu 50 cái tài liệu tham chiếu.\n"
   ]
  },
  {
   "cell_type": "markdown",
   "metadata": {},
   "source": [
    "Tìm tài liệu: trong tuần tới kết thúc việc tìm tài liệu"
   ]
  }
 ],
 "metadata": {
  "language_info": {
   "name": "python"
  }
 },
 "nbformat": 4,
 "nbformat_minor": 2
}
