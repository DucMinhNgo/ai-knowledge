{
 "cells": [
  {
   "cell_type": "markdown",
   "metadata": {},
   "source": [
    "# Core Vision Tasks:\n",
    "- Semantation\n",
    "- Detection\n",
    "- Classification\n",
    "\n",
    "Đề tài 2:\n",
    "Refenne Image Segmentation.\n",
    "\n",
    "Đề tài 7:\n",
    "Học sâu đa phương thức: vừa ảnh vừa text.\n",
    "\n",
    "Đề tài 8: \n",
    "Meta learning tài learning (học cách học): thường là trong phân loại ảnh y khoa.\n",
    "\n",
    "Đề tài 9: \n",
    "Tạo đối tượng 3D dựa trên mô hình Diffusion"
   ]
  },
  {
   "cell_type": "markdown",
   "metadata": {},
   "source": [
    "Cách tìm tài liệu (tìm tổng quan để hiểu được bức tranh chung (người ta làm gì)).\n",
    "\n",
    "Ưu tiên tài liệu trong 5 năm gần đây.\n",
    "\n",
    "Nên có thư mục Selections (từ 3, 5: để lựa chọn):\n",
    "\n",
    "Luận văn cao học tối thiểu 50 cái tài liệu tham chiếu.\n"
   ]
  },
  {
   "cell_type": "markdown",
   "metadata": {},
   "source": [
    "Tìm tài liệu: trong tuần tới kết thúc việc tìm tài liệu\n",
    "\n",
    "Mục các công trình nghiên cức liên quan (dùng để so sánh), nếu khảo sát được theo từng công đoạn thì sẽ cho ra được sự so sánh tốt hơn:\n",
    "Công trình - tiêu chí\n",
    "\n",
    "\n",
    "Ý nghĩa khoa học: \n",
    "\n",
    "Lưu ý về tiến trình hoạt động.\n",
    "\n",
    "Nêu ra được sự tương quan giữa hàm lỗi và độ đo đánh giá.\n",
    "\n",
    "Performance: phù thuộc nhiều vào data và độ đo."
   ]
  },
  {
   "cell_type": "markdown",
   "metadata": {},
   "source": [
    "# Đề tài 6. Phân lớp đối tượng dựa trên mô hình ngôn ngữ ảnh\n",
    "Phân đoạn ảnh: phân lớp từng điểm ảnh\n",
    "Prompt: điểm mầm, bounding box, text.\n",
    "Phân lớp ảnh: ResNet, (dùng mô hình ngôn ngữ ảnh không giải quyết từng bài toán và giải quyết chung)\n",
    "\n",
    "Ý nghĩa khoa học: đặc trưng thị giác và ngữ nghĩa. Liên kết cặp ảnh và text để lưu trữ (liên kết được ngữ nghĩa). Nhại theo cách hiểu ảnh của con người. Một số vĩ dụ cho thấy segment cũ làm tốt và cái hiện tại làm tốt hơn. Thường phân lớp ảnh thì sẽ cần ản và nhãn. Trong mô hình thêm cặp ảnh và text sẽ là cho phân lớp tốt hơn chỗ nào? (đưa bào nhiêu label thì nhận diện bấy nhiêu -> hiện tại có thể nhận diện rộng hơn). ImageNet chỉ học được classification nhưng khi đưa vào object detection ko thể giải quyết được. Còn CLIP thì làm được cho nhiều trường hợp (so sánh bằng cách cho 1 tấm ảnh mới thì sẽ đưa ra kết quả như thế nào).\n",
    "Ý nghĩa ứng dụng: từ 1 mô hình có thể áp dụng cho nhiều data stream task mà không phải fine turn lại.\n",
    "Phát biểu bài toán:\n",
    "    - prompt đóng góp gì trong bài toán, ẩn số là gì (phân lớp áp dụng ở chỗ nào)?\n",
    "    - Input:\n",
    "    - Output:\n",
    "    - Framework: thêm công đoạn\n",
    "\n",
    "# Note:\n",
    "- Tìm hiểm mô hình CLIP. Áp dụng vào bài toán cho ra kết quả bài toán áp dụng phân lớp ở chỗ nào?\n",
    "- Tìm hiểu thêm về mô hình phân lớp bình thường (ImageNet) và mô hình phân lớp dựa trên mô hình ngôn ngữ ảnh (CLIP)."
   ]
  }
 ],
 "metadata": {
  "language_info": {
   "name": "python"
  }
 },
 "nbformat": 4,
 "nbformat_minor": 2
}
