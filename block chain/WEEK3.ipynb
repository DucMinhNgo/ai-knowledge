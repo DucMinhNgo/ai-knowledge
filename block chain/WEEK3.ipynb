{
 "cells": [
  {
   "cell_type": "markdown",
   "metadata": {},
   "source": [
    "# Go chỉ là tool minh hoạ cho hệ thống phân tán.\n",
    "1. Concurrency (Bất đồng bộ).\n",
    "2. Modules (Package).\n",
    "3. RPC (cạc mạng, socket): listen, accept: Library (Remote): (Remote Procedure Call)\n",
    "4. Lab."
   ]
  }
 ],
 "metadata": {
  "language_info": {
   "name": "python"
  },
  "orig_nbformat": 4
 },
 "nbformat": 4,
 "nbformat_minor": 2
}
