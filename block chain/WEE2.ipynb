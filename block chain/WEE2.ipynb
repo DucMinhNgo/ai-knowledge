{
 "cells": [
  {
   "attachments": {},
   "cell_type": "markdown",
   "metadata": {},
   "source": [
    "# C/C++ (truy cập trực tiếp vào memory: dễ bị lỗi bộ nhớ).\n",
    "\n",
    "# Xử lý như là web server (go routin)"
   ]
  }
 ],
 "metadata": {
  "language_info": {
   "name": "python"
  },
  "orig_nbformat": 4
 },
 "nbformat": 4,
 "nbformat_minor": 2
}
