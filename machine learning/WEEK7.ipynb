{
 "cells": [
  {
   "attachments": {},
   "cell_type": "markdown",
   "metadata": {},
   "source": [
    "# Markov - Markov ẩn\n",
    "- Xác suất có điều kiện\n",
    "- Chuyển trạng thái quan sát (1 quan sát tương ứng với 1 trạng thái) được Markov không quan sát (1 quan sát ứng với nhiều trạng thái) được markov ẩn.\n",
    "\n",
    "=> Bài toán dịnh danh trên giọng nói.\n",
    "- viterbi algorithm.\n"
   ]
  }
 ],
 "metadata": {
  "kernelspec": {
   "display_name": "Python 3",
   "language": "python",
   "name": "python3"
  },
  "language_info": {
   "name": "python",
   "version": "3.11.1"
  },
  "orig_nbformat": 4,
  "vscode": {
   "interpreter": {
    "hash": "5c7b89af1651d0b8571dde13640ecdccf7d5a6204171d6ab33e7c296e100e08a"
   }
  }
 },
 "nbformat": 4,
 "nbformat_minor": 2
}
