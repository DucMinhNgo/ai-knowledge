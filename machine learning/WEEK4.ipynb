{
 "cells": [
  {
   "attachments": {},
   "cell_type": "markdown",
   "metadata": {},
   "source": [
    "# Thuật giải di truyền (GA - Genetic Algorithrm)\n",
    "(Cơ bản nhất trong thuật toán tiến hóa)\n",
    "- Taboo search: giải bài toán xếp lịch, GA là phương pháp thứ 2.\n",
    "- Mã hóa:\n",
    "  + Mã hóa nhị phân.\n",
    "  + Mã hóa q phân.\n",
    "  + Mã hóa thứ tự.\n",
    "  + Mã hóa theo giá trị.\n",
    "  + Mã hóa dưới dạng cây.\n",
    "  + \n",
    "\n",
    "- Các phép toán di truyền:\n",
    "  + Phép chọn lọc (selection):\n",
    "    - Roulette wheel selection (RWS): phương pháp lấy mẫu.\n",
    "    - Stochastic universal sampling Selection (SUS): 1 lần sinh ra 4 cá thể tương ứng (gần như đông tây nam bắc).\n",
    "    - Linear Ranking selection: thứ hạng tuyến tính: thứ hạng k - (r ngẫu nhiên).\n",
    "    - Tournament Selection: Chia bảng để thi đấu, chọn gái trị trung bình tốt nhất trong tất cả các nhóm. \n",
    "  + Phép lai (crossover):\n",
    "    - Lai 1 điểm.\n",
    "    - Lai n điểm.\n",
    "    - Lai phi tuyến.\n",
    "  + Đột biến (mutation):\n",
    "    - \n",
    "\n",
    "Thuật toán GA:\n",
    "  + fitness: 1 hàm trả ra giá trị có thể xếp hạng được.\n",
    "  + Encode, Decode phải tồn tại.\n",
    "  + Tính đa dạng cảu quần thể.\n",
    "\n",
    "Ưu điểm:\n",
    "  + Giải được bài toán tối ưu đa mục tiêu.\n",
    "  + Không gian tìm kiếm lớn (tránh được việc xảy ra bùng nổ tôt họp trong không gian tìm kiếm).\n",
    "\n",
    "Khuyết điểm:\n",
    "  + Trong thực tế rất khó để giữ tính đa dạng (chỉ chạy 1 số vòng lặp rồi dừng), càng chạy lâu càng tốt.\n",
    "  + Quá trình encode và decode có thể xảy ra sai số.\n",
    "\n",
    "[Vấn đề: làm sao để thực hiện tính đa dạng.] => lưu ý xem bài báo giải quyết bằng cách nào.\n",
    "\n",
    "Note: \n",
    "  + Bài toán phân lớp không thể chuyển thành dạng chuỗi, \n",
    "  + Global optimization: thật toán GA chủ yếu dùng để optimize global.\n",
    "  + Convex optimization:\n",
    "    - Linear, non convexpp.\n",
    "    - Quadratic (optimization).\n",
    "  + Thể hiện tính đa dạng của quần thể\n",
    "  + Chọn bao nhiêu thì đủ\n",
    "  + điều kiện dừng (termination): \n"
   ]
  }
 ],
 "metadata": {
  "kernelspec": {
   "display_name": "Python 3",
   "language": "python",
   "name": "python3"
  },
  "language_info": {
   "name": "python",
   "version": "3.10.9"
  },
  "orig_nbformat": 4,
  "vscode": {
   "interpreter": {
    "hash": "b0fa6594d8f4cbf19f97940f81e996739fb7646882a419484c72d19e05852a7e"
   }
  }
 },
 "nbformat": 4,
 "nbformat_minor": 2
}
