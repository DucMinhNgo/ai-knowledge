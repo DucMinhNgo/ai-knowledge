{
 "cells": [
  {
   "attachments": {},
   "cell_type": "markdown",
   "metadata": {},
   "source": [
    "# Cây quyết định\n",
    "- XGboost\n",
    "- Khái niệm:\n",
    "  + A decision tree is a supervised learning algorithm. It is used in both classification àn regression algorithms.\n",
    "  + Decision trees usually implement exactly the human thinking ability while making a decision, so it is easy to understand (tưởng đông với suy nghĩ của con người).\n",
    "\n",
    "- Thành phần:\n",
    "  + Nodes: (Các điểm nơi rẽ nhánh trường hợp):\n",
    "    - Node Root: Gốc\n",
    "    - Node Leaves: Lá\n",
    "  + Edges: (Các đường nối giữ các nodes).\n",
    "\n",
    "- Có 2 loại cây quyết định:\n",
    "  + Phân loại (Yes/ No).\n",
    "  + Regression tree (dự đoán ra 1 con số)."
   ]
  },
  {
   "attachments": {},
   "cell_type": "markdown",
   "metadata": {},
   "source": [
    "# Classification Tree\n",
    "- GINI (datasets):\n",
    "  + So sánh dữ liệu với dữ liệu kết quả\n",
    "  + Tính chỉ số GINI (Chỉ số Gini nhở thì thuộc tính đó sẽ được chọn)."
   ]
  },
  {
   "attachments": {},
   "cell_type": "markdown",
   "metadata": {},
   "source": [
    "# Regression Tree"
   ]
  }
 ],
 "metadata": {
  "kernelspec": {
   "display_name": "Python 3",
   "language": "python",
   "name": "python3"
  },
  "language_info": {
   "name": "python",
   "version": "3.10.9 (main, Dec 15 2022, 10:44:50) [Clang 14.0.0 (clang-1400.0.29.202)]"
  },
  "orig_nbformat": 4,
  "vscode": {
   "interpreter": {
    "hash": "b0fa6594d8f4cbf19f97940f81e996739fb7646882a419484c72d19e05852a7e"
   }
  }
 },
 "nbformat": 4,
 "nbformat_minor": 2
}
