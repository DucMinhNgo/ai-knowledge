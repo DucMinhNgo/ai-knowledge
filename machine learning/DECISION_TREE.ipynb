{
 "cells": [
  {
   "attachments": {},
   "cell_type": "markdown",
   "metadata": {},
   "source": [
    "# Cây quyết định\n",
    "- XGboost\n",
    "- Khái niệm:\n",
    "  + A decision tree is a supervised learning algorithm. It is used in both classification àn regression algorithms.\n",
    "  + Decision trees usually implement exactly the human thinking ability while making a decision, so it is easy to understand (tưởng đông với suy nghĩ của con người).\n",
    "\n",
    "- Thành phần:\n",
    "  + Nodes: (Các điểm nơi rẽ nhánh trường hợp):\n",
    "    - Node Root: Gốc\n",
    "    - Node Leaves: Lá\n",
    "  + Edges: (Các đường nối giữ các nodes).\n",
    "\n",
    "- Có 2 loại cây quyết định:\n",
    "  + Phân loại (Yes/ No).\n",
    "  + Regression tree (dự đoán ra 1 con số)."
   ]
  },
  {
   "attachments": {},
   "cell_type": "markdown",
   "metadata": {},
   "source": [
    "# Classification Tree\n",
    "- GINI (datasets):\n",
    "  + So sánh dữ liệu với dữ liệu kết quả\n",
    "  + Tính chỉ số GINI (Chỉ số Gini nhở thì thuộc tính đó sẽ được chọn)."
   ]
  },
  {
   "attachments": {},
   "cell_type": "markdown",
   "metadata": {},
   "source": [
    "# Regression Tree\n",
    "# Pros and Cons\n",
    "  - Easy to Visualize and interpret:\n",
    "  - Useful in data exploretion:\n",
    "  - Less data cleaning exploration: ít phải clearning data\n",
    "  - The data type is not constraint: cho phép handle cả dữ liệu về category cũng như dữ liệu số.\n",
    "- Cons:\n",
    "  + Overfitting: Tập training đưa ra kết quả rất tốt nhưng thực tế thì sử dụng kết quả xấu.\n",
    "    - Một số phương pháp để tránh overfit.\n",
    "    - Phương pháp tủa cành.\n",
    "    - Pruning (phương pháp cắt bỏ cây sao cho phù hợp).\n",
    "\n",
    "  + Not exact fit for continuous data: không chính xác trong tập dữ liệu liên tục."
   ]
  },
  {
   "attachments": {},
   "cell_type": "markdown",
   "metadata": {},
   "source": [
    "# Confusion matrix (Ma trận hỗn loạn)\n",
    "- Trong bài toán phân loại, sau khi đã xử lý và đưa vào mô hình học máy, đầu ra của mô hình sẽ là một vector xác suất tương ứng của từng lớp. Ta có thể đánh giá mức độ chính xác của mô hình thông qua accurancy kết quả sẽ ra ma trận 2x2.\n",
    "\n",
    "TP (True positive), FP (False positive - Type 1 Error)\n",
    "FN (False negative), TN (True Negative)\n",
    "\n",
    "TP: Số lượng dự đoán chính xác. là khi mô hình đoán đúng 1 người bị ung thư.\n",
    "TN: Số lượng sự đoán chính xác một cách gián tiếp. Là khi mô hình dự đoán đúng 1 người không bị ung thư, tức là việc không chọn trường ung thư là chính xác.\n",
    "FP: Là khi mô hình dự đoán 1 người bị ung thư và người đó hoàn toàn khỏe mạnh.\n",
    "FN: Là khi dự đoán 1 người không bị ung thư trong khi người đó đang bị ung thư.\n",
    "\n",
    "Prediction = TP/ (TP + FP)\n",
    "Recall = TP/ (TP + FN)"
   ]
  }
 ],
 "metadata": {
  "kernelspec": {
   "display_name": "Python 3",
   "language": "python",
   "name": "python3"
  },
  "language_info": {
   "name": "python",
   "version": "3.10.9 (main, Dec 15 2022, 10:44:50) [Clang 14.0.0 (clang-1400.0.29.202)]"
  },
  "orig_nbformat": 4,
  "vscode": {
   "interpreter": {
    "hash": "b0fa6594d8f4cbf19f97940f81e996739fb7646882a419484c72d19e05852a7e"
   }
  }
 },
 "nbformat": 4,
 "nbformat_minor": 2
}
