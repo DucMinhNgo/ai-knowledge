{
 "cells": [
  {
   "attachments": {},
   "cell_type": "markdown",
   "metadata": {},
   "source": [
    "# Máy học nâng cao\n",
    "- 10 buổi nghiên cứu làm nhóm.\n",
    "Thi trắc nghiệm:\n",
    "+ Đợt 1: 6 tuần (25 trắc nghiệm).\n",
    "+ Đợt 2: 10 tuần (25 trắc nghiệm)."
   ]
  },
  {
   "attachments": {},
   "cell_type": "markdown",
   "metadata": {},
   "source": [
    "# 10 chủ đề:\n",
    "1) Giới thiệu máy học.\n",
    "2) Mô hình cây quyết định.\n",
    "3) Mô hình mạng neural.\n",
    "4) Mô hình theo nhóm kết hợp.\n",
    "5) Mô hình giải thuật di truyền đối với bài tuán phân lớp\n",
    "6) Mô hình học tăng cường.\n",
    "7) Mô hình vector hỗ trợ.\n",
    "8) Mô hình bayes.\n",
    "9) \n",
    "10)"
   ]
  },
  {
   "attachments": {},
   "cell_type": "markdown",
   "metadata": {},
   "source": [
    "# Lịch thi giữa kỳ.\n",
    "- Giữa kì: 23/02 (2.5đ).\n",
    "- Cuối kì: 23/03 (2.5đ).\n",
    "- Báo cáo: 5đ. Đề thi mở cho phép mở máy tính."
   ]
  }
 ],
 "metadata": {
  "kernelspec": {
   "display_name": "Python 3",
   "language": "python",
   "name": "python3"
  },
  "language_info": {
   "name": "python",
   "version": "3.10.9 (main, Dec 15 2022, 10:44:50) [Clang 14.0.0 (clang-1400.0.29.202)]"
  },
  "orig_nbformat": 4,
  "vscode": {
   "interpreter": {
    "hash": "b0fa6594d8f4cbf19f97940f81e996739fb7646882a419484c72d19e05852a7e"
   }
  }
 },
 "nbformat": 4,
 "nbformat_minor": 2
}
