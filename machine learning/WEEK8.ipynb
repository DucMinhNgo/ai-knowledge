{
 "cells": [
  {
   "attachments": {},
   "cell_type": "markdown",
   "metadata": {},
   "source": [
    "# Tuần sau thi cuối kì\n",
    "- Dạy thuật toán Adam, tensor network.\n",
    "- Kiểm tra cuối kì:\n",
    "# Tuần sau nữa học buổi cuối (hỏi đáp)"
   ]
  },
  {
   "attachments": {},
   "cell_type": "markdown",
   "metadata": {},
   "source": [
    "# Clustering"
   ]
  }
 ],
 "metadata": {
  "language_info": {
   "name": "python"
  },
  "orig_nbformat": 4
 },
 "nbformat": 4,
 "nbformat_minor": 2
}
