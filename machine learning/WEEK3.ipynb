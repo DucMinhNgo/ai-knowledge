{
 "cells": [
  {
   "attachments": {},
   "cell_type": "markdown",
   "metadata": {},
   "source": [
    "# Bài tạp chí chỉnh chu hơn hội nghị.\n",
    "\n",
    "1. Tên bài báo gồm 2 thông tin:\n",
    "  + giải quyết bài toán gì\n",
    "  + xuất kiện keyword của phương pháp\n",
    "\n",
    "2. Astract (rút gọn): có bao gồm keyword để tìm kiếm về phương pháp\n",
    "\n",
    "3. Introduction:\n",
    "  + Bài toán xuất phát từ đâu.\n",
    "  + Giới thiệu các cách tiếp cận để giải quyết bài toán.\n",
    "  + nêu rõ lý do chọn phương pháp để giải.\n",
    "\n",
    "4. Đóng góp chính của bài toán:\n",
    "\n",
    "5. Các công trình liên quan (related works):\n",
    "  + Chỉ ra các phương pháp tiếp cận của các công trình liên quan.\n",
    "  + Các ưu và khuyết điểm của các phương pháp trước đó.\n",
    "  + Cách tiếp cận của tác giả gần với bài báo hay phương pháp nào nhất (mọi nghiên cứu là là quá trình kế thừa): Đọc luôn bài báo tham chiếu.\n",
    "\n",
    "6. Proposal method (Phương pháp đề xuất)\n",
    "  + Định nghĩa rõ ràng khái niệm, mô hình bài toán.\n",
    "  + Xây dựng hệ thống côn thức: Công thức bài toán (biến số là gì có ý nghĩa gì - giải mã công thức) => công thức của phương pháp => công thức của giải pháp - (Tích phân, vi phân => rời rạc đơn giản hóa công thức => viết mã giả).\n",
    "    - Hệ thống công thức:\n",
    "      1. Hàm liên tục.\n",
    "      2. Rời rạc hóa, giản lược, hiện thực hóa công thức.\n",
    "    - Mô hình hóa:\n",
    "      1. Diagram\n",
    "      2. Vẽ hình mô tả\n",
    "      3. Mã giả (chỉnh viết mã giả phần đóng góp chính cho bài toán)\n",
    "\n",
    "7. Simulations:\n",
    "  + Mô tả được datasets (tập dữ liệu thử nghiệm): Cấu trúc về phần cứng phần mềm: ngôn ngữ, ram, dung lượng sử dụng cho bài toán.\n",
    "  + Mô tả độ đo để đánh giá.\n",
    "  + Mô tả các trường hợp thực hiện thí nghiệm.\n",
    "  + Điểm nổi bật của kết quả thí nghiệm.\n",
    "  + Đánh giá ý nghĩa của kết quả: tin kết quả hay không (tin hay không tin dựa trên cơ sở gì).\n",
    "  + Đưa ra các biểu mẫu biểu đồ.\n",
    "\n",
    "8. Kết luận (Conclude):\n",
    "  + Tóm tắt đóng góp của bài báo, phân tích, nêu ưu và khuyết điểm:\n",
    "  + Hướng tiếp cận mở rộng trong tương lai.\n",
    "\n",
    "Lưu ý: Các câu tự kết luận, rút ra từ bài báo thì in nghiêng.\n"
   ]
  },
  {
   "attachments": {},
   "cell_type": "markdown",
   "metadata": {},
   "source": [
    "# Mạng neural\n",
    "\n",
    "- Bao nhiêu hidden layer - mỗi hidden layer có bao nhiêu lớp.\n",
    "- NN:\n",
    "  + Input vecter.\n",
    "  + Output vector.\n",
    "  + Cấu trúc network (Số Layer, số node trong layer, activation function? là hàm chuẩn hóa)\n",
    "  + Cấu trúc của hàm loss (Log, linear, ): \n",
    "\n",
    "- Một nút trong mạng là perceptron.\n",
    "- MLP (multy layer perceptron).\n",
    "- Tạo ra 10 lần chạy và lấy độ chính xác trung bình.\n",
    "- Ngưỡng Sigmoid (đạo hàm luôn tồn tại, dễ chuẩn hóa giá trị trong khoảng (0, 1)).\n",
    "- Thật toán lan truyền ngược.\n",
    "\n"
   ]
  }
 ],
 "metadata": {
  "kernelspec": {
   "display_name": "Python 3",
   "language": "python",
   "name": "python3"
  },
  "language_info": {
   "name": "python",
   "version": "3.10.9"
  },
  "orig_nbformat": 4,
  "vscode": {
   "interpreter": {
    "hash": "b0fa6594d8f4cbf19f97940f81e996739fb7646882a419484c72d19e05852a7e"
   }
  }
 },
 "nbformat": 4,
 "nbformat_minor": 2
}
