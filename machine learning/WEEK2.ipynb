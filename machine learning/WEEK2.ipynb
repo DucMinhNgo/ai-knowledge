{
 "cells": [
  {
   "attachments": {},
   "cell_type": "markdown",
   "metadata": {},
   "source": [
    "# Mô hình cây quyết định\n",
    "- Nút gốc (Gain lớn nhất) -> node trung gian -> node lá.\n",
    "- Nút nột bộ\n",
    "- Nút lá\n",
    "- Dữ liệu thô:\n",
    "  + dữ liệu số: nguyên thực, \n",
    "  + số thứ tự.\n",
    "  + dữ liệu nhãn (dữ liệu phân loại): yes, no, màu sắc.\n",
    "  + dữ liệu khoảng (a, b).\n",
    "- text, âm thanh, hình ảnh (loại dữ liệu): có thể lưu dưới dạng số.\n",
    "- Thử và sai, không có lời giải tối ưu.\n",
    "- chon giải pháp đơn giản nhất.\n",
    "- Xác định nhóm con để phân hoạch (ngẫu nhiên, thử và sai) dùng clustering để xác định bao nhiêu nhóm là tối ưu nhất (heristic - m nhóm con chưa biết trước).\n",
    "- Entropy (độ hỗn loạn thông tin):\n",
    "- Hàm log là hàm scale trên một thang chia (trên khoảng (0, 1): mục tiêu để kéo dãn khoảng các giữa các điểm dữ liệu.\n",
    "- Chia cây thành nhiều nhánh => độ phức tạp tăng => overfiting.\n",
    "- (overfiting: quá khớp) Độ lỗi trên tập train nhở hơn rất nhiều so với độ lỗi trên tập test.\n",
    "- Dữ liệu bảng, không dùng khi bảng thuộc tính bị lủng quá nhiều, kết quả không phân hoạch được (dữ liệu âm thanh).\n",
    "- Một số biến thể của cây quyết định.\n"
   ]
  },
  {
   "attachments": {},
   "cell_type": "markdown",
   "metadata": {},
   "source": [
    "# Chỉ mục Gini:\n",
    "  + Lấy càng nhỏ càng tốt.\n",
    "# Gain ratio:\n",
    "# Gain:\n",
    "  + Càng lớn càng tốt."
   ]
  },
  {
   "attachments": {},
   "cell_type": "markdown",
   "metadata": {},
   "source": [
    "# Rút gọn cây:\n",
    "Cấu trúc cây map => đồ thị (để kết hợp vói phương pháp về clustering).\n",
    "\n",
    "- Hạn chế dựa trên hệ số phân hoạch (heristic).\n",
    "- Không cần chuyển về số (chỉ cần phân loại), bản chất phân hoạch trên nhóm con.\n",
    "- Thiếu, mất dữ liệu => tính phân phối vá dữ liệu theo phân phối.\n",
    "\n",
    "\n",
    "# Xem loại 3 loại phân phối."
   ]
  }
 ],
 "metadata": {
  "kernelspec": {
   "display_name": "Python 3",
   "language": "python",
   "name": "python3"
  },
  "language_info": {
   "name": "python",
   "version": "3.10.9"
  },
  "orig_nbformat": 4,
  "vscode": {
   "interpreter": {
    "hash": "b0fa6594d8f4cbf19f97940f81e996739fb7646882a419484c72d19e05852a7e"
   }
  }
 },
 "nbformat": 4,
 "nbformat_minor": 2
}
